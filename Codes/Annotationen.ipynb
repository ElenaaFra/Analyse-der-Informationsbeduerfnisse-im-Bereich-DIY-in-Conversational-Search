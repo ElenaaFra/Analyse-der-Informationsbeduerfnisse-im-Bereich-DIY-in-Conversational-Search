{
  "nbformat": 4,
  "nbformat_minor": 0,
  "metadata": {
    "colab": {
      "provenance": [],
      "collapsed_sections": [
        "jx70IkSVXJLM",
        "F4A7ZYHBW_eH",
        "RkRXW5l9NsTF",
        "OYQ4d_n4N2D4",
        "l4QOHciUxmGX",
        "9xIXb3h-G_n-",
        "3FDzvumKnHMK",
        "xPpGnovYyQ0U",
        "CE26h62PEY9T",
        "gk7jMyFcEse9",
        "l3fwb6UcEsfD",
        "GehXUO1JWStD",
        "pjnIiL7DDD6o",
        "EH9X2wh5TOwm",
        "5lGVvgaMTafh",
        "8CcsdKE2U1Ic",
        "tuvoxB5CYXSU",
        "08URpYrAySy-",
        "CosCB1gfYbnS",
        "iP9m04twYbnY",
        "i6CBanOAYokK",
        "b1Y0trkVbSZx",
        "ATT_Au_wbSZ3",
        "GrBGR2fu7wzY"
      ],
      "gpuType": "T4",
      "machine_shape": "hm"
    },
    "kernelspec": {
      "name": "python3",
      "display_name": "Python 3"
    },
    "language_info": {
      "name": "python"
    },
    "accelerator": "GPU"
  },
  "cells": [
    {
      "cell_type": "markdown",
      "source": [
        "# Installationen, Imports und Laden der Daten"
      ],
      "metadata": {
        "id": "jx70IkSVXJLM"
      }
    },
    {
      "cell_type": "markdown",
      "source": [
        "Zunächst müssen alle notwendigen Bibliotheken oder Packages importiert werden."
      ],
      "metadata": {
        "id": "uKlLUZA6cD4s"
      }
    },
    {
      "cell_type": "code",
      "execution_count": 2,
      "metadata": {
        "colab": {
          "base_uri": "https://localhost:8080/"
        },
        "id": "Nqg2t-0cKHl2",
        "outputId": "c17c5496-8b87-4598-9f21-d17135f7d386"
      },
      "outputs": [
        {
          "output_type": "stream",
          "name": "stdout",
          "text": [
            "Collecting openai\n",
            "  Downloading openai-1.42.0-py3-none-any.whl.metadata (22 kB)\n",
            "Requirement already satisfied: anyio<5,>=3.5.0 in /usr/local/lib/python3.10/dist-packages (from openai) (3.7.1)\n",
            "Requirement already satisfied: distro<2,>=1.7.0 in /usr/lib/python3/dist-packages (from openai) (1.7.0)\n",
            "Collecting httpx<1,>=0.23.0 (from openai)\n",
            "  Downloading httpx-0.27.2-py3-none-any.whl.metadata (7.1 kB)\n",
            "Collecting jiter<1,>=0.4.0 (from openai)\n",
            "  Downloading jiter-0.5.0-cp310-cp310-manylinux_2_17_x86_64.manylinux2014_x86_64.whl.metadata (3.6 kB)\n",
            "Requirement already satisfied: pydantic<3,>=1.9.0 in /usr/local/lib/python3.10/dist-packages (from openai) (2.8.2)\n",
            "Requirement already satisfied: sniffio in /usr/local/lib/python3.10/dist-packages (from openai) (1.3.1)\n",
            "Requirement already satisfied: tqdm>4 in /usr/local/lib/python3.10/dist-packages (from openai) (4.66.5)\n",
            "Requirement already satisfied: typing-extensions<5,>=4.11 in /usr/local/lib/python3.10/dist-packages (from openai) (4.12.2)\n",
            "Requirement already satisfied: idna>=2.8 in /usr/local/lib/python3.10/dist-packages (from anyio<5,>=3.5.0->openai) (3.7)\n",
            "Requirement already satisfied: exceptiongroup in /usr/local/lib/python3.10/dist-packages (from anyio<5,>=3.5.0->openai) (1.2.2)\n",
            "Requirement already satisfied: certifi in /usr/local/lib/python3.10/dist-packages (from httpx<1,>=0.23.0->openai) (2024.7.4)\n",
            "Collecting httpcore==1.* (from httpx<1,>=0.23.0->openai)\n",
            "  Downloading httpcore-1.0.5-py3-none-any.whl.metadata (20 kB)\n",
            "Collecting h11<0.15,>=0.13 (from httpcore==1.*->httpx<1,>=0.23.0->openai)\n",
            "  Downloading h11-0.14.0-py3-none-any.whl.metadata (8.2 kB)\n",
            "Requirement already satisfied: annotated-types>=0.4.0 in /usr/local/lib/python3.10/dist-packages (from pydantic<3,>=1.9.0->openai) (0.7.0)\n",
            "Requirement already satisfied: pydantic-core==2.20.1 in /usr/local/lib/python3.10/dist-packages (from pydantic<3,>=1.9.0->openai) (2.20.1)\n",
            "Downloading openai-1.42.0-py3-none-any.whl (362 kB)\n",
            "\u001b[2K   \u001b[90m━━━━━━━━━━━━━━━━━━━━━━━━━━━━━━━━━━━━━━━━\u001b[0m \u001b[32m362.9/362.9 kB\u001b[0m \u001b[31m17.5 MB/s\u001b[0m eta \u001b[36m0:00:00\u001b[0m\n",
            "\u001b[?25hDownloading httpx-0.27.2-py3-none-any.whl (76 kB)\n",
            "\u001b[2K   \u001b[90m━━━━━━━━━━━━━━━━━━━━━━━━━━━━━━━━━━━━━━━━\u001b[0m \u001b[32m76.4/76.4 kB\u001b[0m \u001b[31m4.8 MB/s\u001b[0m eta \u001b[36m0:00:00\u001b[0m\n",
            "\u001b[?25hDownloading httpcore-1.0.5-py3-none-any.whl (77 kB)\n",
            "\u001b[2K   \u001b[90m━━━━━━━━━━━━━━━━━━━━━━━━━━━━━━━━━━━━━━━━\u001b[0m \u001b[32m77.9/77.9 kB\u001b[0m \u001b[31m4.8 MB/s\u001b[0m eta \u001b[36m0:00:00\u001b[0m\n",
            "\u001b[?25hDownloading jiter-0.5.0-cp310-cp310-manylinux_2_17_x86_64.manylinux2014_x86_64.whl (318 kB)\n",
            "\u001b[2K   \u001b[90m━━━━━━━━━━━━━━━━━━━━━━━━━━━━━━━━━━━━━━━━\u001b[0m \u001b[32m318.9/318.9 kB\u001b[0m \u001b[31m18.2 MB/s\u001b[0m eta \u001b[36m0:00:00\u001b[0m\n",
            "\u001b[?25hDownloading h11-0.14.0-py3-none-any.whl (58 kB)\n",
            "\u001b[2K   \u001b[90m━━━━━━━━━━━━━━━━━━━━━━━━━━━━━━━━━━━━━━━━\u001b[0m \u001b[32m58.3/58.3 kB\u001b[0m \u001b[31m3.6 MB/s\u001b[0m eta \u001b[36m0:00:00\u001b[0m\n",
            "\u001b[?25hInstalling collected packages: jiter, h11, httpcore, httpx, openai\n",
            "Successfully installed h11-0.14.0 httpcore-1.0.5 httpx-0.27.2 jiter-0.5.0 openai-1.42.0\n"
          ]
        }
      ],
      "source": [
        "pip install openai"
      ]
    },
    {
      "cell_type": "code",
      "source": [
        "from openai import OpenAI\n",
        "import openai"
      ],
      "metadata": {
        "id": "s8-5BB8Tao76"
      },
      "execution_count": 18,
      "outputs": []
    },
    {
      "cell_type": "code",
      "source": [
        "#Bibliotheken\n",
        "# um Excel-Dateien und dadurch Dataframes verarbeiten zu können\n",
        "import pandas as pd\n",
        "# für train und test-split\n",
        "from sklearn.model_selection import train_test_split\n",
        "# für Evaluation der Datenannotationen von GPT\n",
        "from sklearn.metrics import precision_score, recall_score, f1_score, classification_report, cohen_kappa_score, matthews_corrcoef\n",
        "\n",
        "# Visualisierungen\n",
        "import matplotlib.pyplot as plt\n",
        "import seaborn as sns\n",
        "\n",
        "import random\n",
        "import itertools\n",
        "import math\n",
        "\n",
        "from pprint import pprint"
      ],
      "metadata": {
        "id": "q-Zsb3xNdC7_"
      },
      "execution_count": 4,
      "outputs": []
    },
    {
      "cell_type": "markdown",
      "source": [
        "Variablen, die durchgehend gebraucht werden"
      ],
      "metadata": {
        "id": "cA_WHrGx1nlG"
      }
    },
    {
      "cell_type": "code",
      "source": [
        "# Label der Level\n",
        "labels_level_0 = ['fact', 'competence']\n",
        "labels_level_1 = ['equipment', 'preparation', 'material', 'miscellaneous', 'instruction', 'knowledge', 'manual technique', 'time', 'amount']"
      ],
      "metadata": {
        "id": "I2cqwqwS0q2q"
      },
      "execution_count": null,
      "outputs": []
    },
    {
      "cell_type": "markdown",
      "source": [
        "Nun werden die Daten geladen"
      ],
      "metadata": {
        "id": "EHyx8yRttXET"
      }
    },
    {
      "cell_type": "code",
      "source": [
        "# meine manuellen Labels\n",
        "file_path = 'Label_Manuell_final.xlsx'\n",
        "df = pd.read_excel(file_path)"
      ],
      "metadata": {
        "id": "H2ZLjUZvXU7e"
      },
      "execution_count": 6,
      "outputs": []
    },
    {
      "cell_type": "code",
      "source": [
        "# Zeilen entfernen, bei denen turn leer/NaN ist\n",
        "df = df[df['turn'].notna() & df['turn'].str.strip().ne('')]"
      ],
      "metadata": {
        "id": "LyOOTnlLUka0"
      },
      "execution_count": 7,
      "outputs": []
    },
    {
      "cell_type": "markdown",
      "source": [
        "### Zugriff auf API"
      ],
      "metadata": {
        "id": "iJdI3hpIb1Sd"
      }
    },
    {
      "cell_type": "markdown",
      "source": [
        "Ein Zugriff auf die OpenAI API mit persönlichem API key muss eingerichtet werden."
      ],
      "metadata": {
        "id": "EuJcHJogEiqN"
      }
    },
    {
      "cell_type": "code",
      "source": [
        "# API key\n",
        "with open('api_key.txt', 'r') as file:\n",
        "  api_key = file.read().strip()\n",
        "\n",
        "client = OpenAI(api_key=api_key)\n",
        "# Modell\n",
        "model=\"gpt-3.5-turbo\""
      ],
      "metadata": {
        "id": "46WXoz0B5rul"
      },
      "execution_count": 22,
      "outputs": []
    },
    {
      "cell_type": "markdown",
      "source": [
        "Nun ein kurzer Test ob die API-Anfrage funktioniert."
      ],
      "metadata": {
        "id": "_mMu7LWAEtkE"
      }
    },
    {
      "cell_type": "code",
      "source": [
        "response = client.chat.completions.create(\n",
        "    model=model,\n",
        "    messages=[{\"role\": \"user\", \"content\": \"Hallo Welt\"}],\n",
        "    temperature = 0.0\n",
        ")\n",
        "\n",
        "print(response.choices[0].message)"
      ],
      "metadata": {
        "id": "xy6Qn2sWLIBj",
        "colab": {
          "base_uri": "https://localhost:8080/"
        },
        "outputId": "5c4e363b-07bf-4e25-bcee-712966ce8fbe"
      },
      "execution_count": 23,
      "outputs": [
        {
          "output_type": "stream",
          "name": "stdout",
          "text": [
            "ChatCompletionMessage(content='Hallo! Wie kann ich Ihnen helfen?', refusal=None, role='assistant', function_call=None, tool_calls=None)\n"
          ]
        }
      ]
    },
    {
      "cell_type": "markdown",
      "source": [
        "# Inter-Rater Reliability"
      ],
      "metadata": {
        "id": "F4A7ZYHBW_eH"
      }
    },
    {
      "cell_type": "code",
      "source": [
        "# meine Labels\n",
        "file_path = 'Label_Manuell_final.xlsx'\n",
        "df_inter = pd.read_excel(file_path)\n",
        "\n",
        "# Labels des 2. Annotators\n",
        "file_path_sec_annotator = 'Label_Luca.xlsx'\n",
        "df_luca = pd.read_excel(file_path_sec_annotator)"
      ],
      "metadata": {
        "id": "MXXy8Hch-pKa"
      },
      "execution_count": 24,
      "outputs": []
    },
    {
      "cell_type": "code",
      "source": [
        "#df_inter['label_0'] = df_inter['label_0'].str.lower()\n",
        "df_inter['label_1'] = df_inter['label_1'].str.lower()\n",
        "#df_luca['label_0'] = df_luca['label_0'].str.lower()\n",
        "df_luca['label_1'] = df_luca['label_1'].str.lower()"
      ],
      "metadata": {
        "id": "OIsMWqe1-zhD"
      },
      "execution_count": 25,
      "outputs": []
    },
    {
      "cell_type": "code",
      "source": [
        "true_labels = df_inter['label_1']\n",
        "pred_labels = df_luca['label_1']"
      ],
      "metadata": {
        "id": "-QujdmAO-5WU"
      },
      "execution_count": 26,
      "outputs": []
    },
    {
      "cell_type": "code",
      "source": [
        "# Leere Liste für die Kappa-Werte pro Kategorie\n",
        "kappa_per_label = {}\n",
        "\n",
        "for label in labels_level_1:\n",
        "  true_bin = [1 if l == label else 0 for l in true_labels]\n",
        "  pred_bin = [1 if l == label else 0 for l in pred_labels]\n",
        "  # Cohen's Kappa\n",
        "  kappa = cohen_kappa_score(true_bin, pred_bin)\n",
        "\n",
        "  kappa_per_label[label] = kappa\n",
        "\n",
        "for label, kappa in kappa_per_label.items():\n",
        "  print(f\"Cohen's Kappa {label}: {kappa:.2f}\")"
      ],
      "metadata": {
        "id": "Q_l2T4BDXgmh",
        "colab": {
          "base_uri": "https://localhost:8080/"
        },
        "outputId": "e54e98f2-72de-44f8-ac6c-1c8b617e0644"
      },
      "execution_count": 27,
      "outputs": [
        {
          "output_type": "stream",
          "name": "stdout",
          "text": [
            "Cohen's Kappa equipment: 0.86\n",
            "Cohen's Kappa preparation: 0.84\n",
            "Cohen's Kappa material: 0.52\n",
            "Cohen's Kappa miscellaneous: 0.39\n",
            "Cohen's Kappa instruction: 0.26\n",
            "Cohen's Kappa knowledge: 0.58\n",
            "Cohen's Kappa manual technique: 0.22\n",
            "Cohen's Kappa time: 0.44\n",
            "Cohen's Kappa amount: 0.80\n"
          ]
        }
      ]
    },
    {
      "cell_type": "markdown",
      "source": [
        "# Aufteilung in train- und test-Datensatz der manuellen Labels"
      ],
      "metadata": {
        "id": "RkRXW5l9NsTF"
      }
    },
    {
      "cell_type": "code",
      "source": [
        "# Anzahl der Label Level 0\n",
        "label_counts_level_0 = df['label_0'].value_counts()"
      ],
      "metadata": {
        "id": "WIsPkZ98U-nW"
      },
      "execution_count": null,
      "outputs": []
    },
    {
      "cell_type": "code",
      "source": [
        "# Balkendiagramm für Verteilung der Labels\n",
        "bars = label_counts_level_0.plot(kind='bar')\n",
        "\n",
        "# Titel und Achsenbeschriftungen\n",
        "plt.title('Verteilung Label 0 der Stichprobe')\n",
        "plt.xlabel('Label')\n",
        "plt.ylabel('Anzahl')\n",
        "# Häufigkeiten an Balkenkante\n",
        "for i in bars.containers:\n",
        "  bars.bar_label(i, label_type='edge')\n",
        "\n",
        "plt.show()"
      ],
      "metadata": {
        "colab": {
          "base_uri": "https://localhost:8080/",
          "height": 546
        },
        "id": "V7gBF_08VSvT",
        "outputId": "892acf1e-739d-4d7d-ae7d-411b09a5d8a5"
      },
      "execution_count": null,
      "outputs": [
        {
          "output_type": "display_data",
          "data": {
            "text/plain": [
              "<Figure size 640x480 with 1 Axes>"
            ],
            "image/png": "[encoded data removed]"
          },
          "metadata": {}
        }
      ]
    },
    {
      "cell_type": "code",
      "source": [
        "# Anzahl der Label Level 1\n",
        "label_counts_level_1 = df['label_1'].value_counts()"
      ],
      "metadata": {
        "id": "3DTxzX5cN2Dz"
      },
      "execution_count": null,
      "outputs": []
    },
    {
      "cell_type": "code",
      "source": [
        "# Balkendiagramm für Verteilung der Labels LEvel 1\n",
        "bars = label_counts_level_1.plot(kind='bar')\n",
        "\n",
        "plt.title('Verteilung Label 1 der Stichprobe')\n",
        "plt.xlabel('Label')\n",
        "plt.ylabel('Anzahl')\n",
        "# Häufigkeiten an Balkenkante\n",
        "for i in bars.containers:\n",
        "  bars.bar_label(i, label_type='edge')\n",
        "\n",
        "plt.show()"
      ],
      "metadata": {
        "colab": {
          "base_uri": "https://localhost:8080/",
          "height": 582
        },
        "outputId": "2d074022-f4ba-4166-f692-7de9c28617ad",
        "id": "G0mVYmeQN2D0"
      },
      "execution_count": null,
      "outputs": [
        {
          "output_type": "display_data",
          "data": {
            "text/plain": [
              "<Figure size 640x480 with 1 Axes>"
            ],
            "image/png": "[encoded data removed]"
          },
          "metadata": {}
        }
      ]
    },
    {
      "cell_type": "code",
      "source": [
        "# Konversationen nach ids gruppieren, da die Konversationen nicht aufgeteilt werden sollen, damit Kontext bestehen bleibt\n",
        "conversations = df.groupby('id_conversation')\n"
      ],
      "metadata": {
        "id": "5IxR2Vk0N2D0"
      },
      "execution_count": null,
      "outputs": []
    },
    {
      "cell_type": "code",
      "source": [
        "# Seltene Labels (weniger als 10)\n",
        "labels_rare = label_counts_level_1[label_counts_level_1 < 10].index.tolist()\n",
        "# Konversationen mit seltenen Labels\n",
        "conversations_rare = df[df['label_1'].isin(labels_rare)]['id_conversation'].unique()\n",
        "\n",
        "print(labels_rare)\n",
        "print(conversations_rare)"
      ],
      "metadata": {
        "colab": {
          "base_uri": "https://localhost:8080/"
        },
        "id": "MXVXG-uoPfth",
        "outputId": "f6e80f0f-6fd0-4637-e6b1-30c1d4c2b7cb"
      },
      "execution_count": null,
      "outputs": [
        {
          "output_type": "stream",
          "name": "stdout",
          "text": [
            "['Manual Technique', 'Miscellaneous', 'Amount', 'Time']\n",
            "[ 2  3  5  6  8  9 10 11 12 13 14]\n"
          ]
        }
      ]
    },
    {
      "cell_type": "code",
      "source": [
        "# Zuerst werden Konversationen, welche seltene Labels enthalten, auf Train und Test aufgeteilt, damit jeder Dataset die seltenen Labels enthält\n",
        "\n",
        "# Konversationen mit seltenen Labels\n",
        "conversations_rare_df = df[df['label_1'].isin(labels_rare)]\n",
        "conversations_rare = conversations_rare_df['id_conversation'].unique()\n",
        "\n",
        "# Listen mit Ids der Konv.\n",
        "train_conversations_rare = []\n",
        "test_conversations_rare = []\n",
        "\n",
        "# Durchlaufen der Labels aus labels_rare\n",
        "for label in labels_rare:\n",
        "  # Konv.-Ids, welche dieses Label enthalten\n",
        "  label_conversations = conversations_rare_df[conversations_rare_df['label_1'] == label]['id_conversation'].unique()\n",
        "  #  Aufteilen auf Train und Test\n",
        "  train_conv, test_conv = train_test_split(\n",
        "      label_conversations,\n",
        "      test_size=0.5,  # 50% Test, 50% Train\n",
        "      random_state=42\n",
        "  )\n",
        "  train_conversations_rare.extend(train_conv)\n",
        "  test_conversations_rare.extend(test_conv)\n",
        "\n",
        "print(train_conversations_rare)\n",
        "print(test_conversations_rare)"
      ],
      "metadata": {
        "colab": {
          "base_uri": "https://localhost:8080/"
        },
        "id": "7F54Tdi4sz3N",
        "outputId": "f89d9126-46de-4c38-9502-439e7a5411e1"
      },
      "execution_count": null,
      "outputs": [
        {
          "output_type": "stream",
          "name": "stdout",
          "text": [
            "[6, 12, 9, 2, 12, 8, 12, 13]\n",
            "[2, 3, 14, 9, 14, 10, 11, 14, 2, 5]\n"
          ]
        }
      ]
    },
    {
      "cell_type": "code",
      "source": [
        "# Damit keine Ids sowohl in train als auch test + Set, damit keine doppelten Werte innerhalb\n",
        "train_conversations_rare = set(train_conversations_rare) - set(test_conversations_rare)\n",
        "test_conversations_rare = set(test_conversations_rare) - set(train_conversations_rare)\n",
        "# in Liste konvertieren\n",
        "train_conversations_rare = list(train_conversations_rare)\n",
        "test_conversations_rare = list(test_conversations_rare)\n",
        "\n",
        "print(train_conversations_rare)\n",
        "print(test_conversations_rare)"
      ],
      "metadata": {
        "colab": {
          "base_uri": "https://localhost:8080/"
        },
        "id": "0Px5cxXPA5BX",
        "outputId": "4aee7dac-e71a-426d-abe9-0732ecf27463"
      },
      "execution_count": null,
      "outputs": [
        {
          "output_type": "stream",
          "name": "stdout",
          "text": [
            "[8, 12, 13, 6]\n",
            "[2, 3, 5, 9, 10, 11, 14]\n"
          ]
        }
      ]
    },
    {
      "cell_type": "code",
      "source": [
        "# Rest der Konv.-Ids, die eben nicht in conversations_rare sind\n",
        "conversations_rest = df[~df['id_conversation'].isin(conversations_rare)]['id_conversation'].unique()\n",
        "print(conversations_rest)\n",
        "\n",
        "# Aufteilen der restlichen Konversationen (1/3 Training, 2/3 Test, da für few shot nicht viele Beispiele notwendig, für Test sind viele Daten jedoch gut, um gut evaluieren zu können)\n",
        "train_rest, test_rest = train_test_split(\n",
        "    conversations_rest,\n",
        "    test_size=2/3,  # 1/3 in Training, 2/3 in Test\n",
        "    random_state=42\n",
        ")"
      ],
      "metadata": {
        "colab": {
          "base_uri": "https://localhost:8080/"
        },
        "id": "yQ7trkPSE7Bv",
        "outputId": "b3e1d605-fbbd-4ea0-bf34-d64394456006"
      },
      "execution_count": null,
      "outputs": [
        {
          "output_type": "stream",
          "name": "stdout",
          "text": [
            "[1 4 7]\n"
          ]
        }
      ]
    },
    {
      "cell_type": "code",
      "source": [
        "# rest-Datensätze zu rare-Datensätze zufügen\n",
        "train_conversations = train_conversations_rare + list(train_rest)\n",
        "test_conversations = test_conversations_rare + list(test_rest)\n",
        "print(train_conversations)\n",
        "print(test_conversations)"
      ],
      "metadata": {
        "colab": {
          "base_uri": "https://localhost:8080/"
        },
        "id": "oGnPLDXiKceJ",
        "outputId": "f1253141-6ed2-4a60-9292-9bae6de32c34"
      },
      "execution_count": null,
      "outputs": [
        {
          "output_type": "stream",
          "name": "stdout",
          "text": [
            "[8, 12, 13, 6, 7]\n",
            "[2, 3, 5, 9, 10, 11, 14, 1, 4]\n"
          ]
        }
      ]
    },
    {
      "cell_type": "code",
      "source": [
        "# dfs final\n",
        "train_df = df[df['id_conversation'].isin(train_conversations)]\n",
        "test_df = df[df['id_conversation'].isin(test_conversations)]\n",
        "\n",
        "# Konv.-Ids pro df\n",
        "print(\"train_df:\", train_df['id_conversation'].unique())\n",
        "print(\"test_df:\", test_df['id_conversation'].unique())"
      ],
      "metadata": {
        "colab": {
          "base_uri": "https://localhost:8080/"
        },
        "id": "SZqErExQG6-s",
        "outputId": "685a1605-cb91-47c6-c667-5a565f27ca7e"
      },
      "execution_count": null,
      "outputs": [
        {
          "output_type": "stream",
          "name": "stdout",
          "text": [
            "train_df: [ 6  7  8 12 13]\n",
            "test_df: [ 1  2  3  4  5  9 10 11 14]\n"
          ]
        }
      ]
    },
    {
      "cell_type": "code",
      "source": [
        "# train_df\n",
        "label_counts_train = train_df['label_1'].value_counts()\n",
        "bars = label_counts_train.plot(kind='bar')\n",
        "\n",
        "plt.title('Verteilung Level 1 in train')\n",
        "plt.xlabel('Label')\n",
        "plt.ylabel('Anzahl')\n",
        "for i in bars.containers:\n",
        "  bars.bar_label(i, label_type='edge')\n",
        "\n",
        "plt.show()\n",
        "\n",
        "\n",
        "# test_df\n",
        "label_counts_test = test_df['label_1'].value_counts()\n",
        "bars = label_counts_test.plot(kind='bar')\n",
        "\n",
        "plt.title('Verteilung Level 1 in test')\n",
        "plt.xlabel('Label')\n",
        "plt.ylabel('Anzahl')\n",
        "for i in bars.containers:\n",
        "  bars.bar_label(i, label_type='edge')\n",
        "\n",
        "plt.show()"
      ],
      "metadata": {
        "colab": {
          "base_uri": "https://localhost:8080/",
          "height": 1000
        },
        "id": "muThqBRY4td0",
        "outputId": "dd517387-4fe7-47b6-89ef-f217f9bf0b20"
      },
      "execution_count": null,
      "outputs": [
        {
          "output_type": "display_data",
          "data": {
            "text/plain": [
              "<Figure size 640x480 with 1 Axes>"
            ],
            "image/png": "[encoded data removed]"
          },
          "metadata": {}
        },
        {
          "output_type": "display_data",
          "data": {
            "text/plain": [
              "<Figure size 640x480 with 1 Axes>"
            ],
            "image/png": "[encoded data removed]"
          },
          "metadata": {}
        }
      ]
    },
    {
      "cell_type": "code",
      "source": [
        "# Export in Excel\n",
        "train_df.to_excel('train_df.xlsx', index=False)\n",
        "test_df.to_excel('test_df.xlsx', index=False)"
      ],
      "metadata": {
        "id": "MRtEBo1xg7Ho"
      },
      "execution_count": null,
      "outputs": []
    },
    {
      "cell_type": "markdown",
      "source": [
        "# Methode, um Anfrage an API zu senden und somit Label zu erstellen"
      ],
      "metadata": {
        "id": "OYQ4d_n4N2D4"
      }
    },
    {
      "cell_type": "code",
      "source": [
        "# annotate, um Anfrage an API zu senden und Antwort zu erhalten\n",
        "# wird bei jedem Prompt aufgerufen\n",
        "\n",
        "def annotate(client, model, system_content, user_content):\n",
        "  response = client.chat.completions.create(\n",
        "      model=model,\n",
        "      messages=[{\"role\": \"system\", \"content\": system_content}, # prompt\n",
        "                {\"role\": \"user\", \"content\": user_content}, # turns\n",
        "      ],\n",
        "      # Temperatur entscheidet über Kreativität der Antwort:\n",
        "      # je höher, desto kreativer (+ in dieser Situation ungenauer) -> deswegen niedrig halten für präzise Antwort\n",
        "      temperature = 0.0)\n",
        "\n",
        "  result = response.choices[0].message.content\n",
        "  return result"
      ],
      "metadata": {
        "id": "Be63nhi_N2D4"
      },
      "execution_count": null,
      "outputs": []
    },
    {
      "cell_type": "markdown",
      "source": [
        "# **Datenannotation mit GPT-3**"
      ],
      "metadata": {
        "id": "l4QOHciUxmGX"
      }
    },
    {
      "cell_type": "code",
      "source": [
        "model = \"gpt-3.5-turbo\""
      ],
      "metadata": {
        "id": "hkRZFV5HJ8Sj"
      },
      "execution_count": null,
      "outputs": []
    },
    {
      "cell_type": "code",
      "source": [
        "# turns und roles in Liste speichern, damit über diese iteriert werden kann\n",
        "# wird bei jedem Prompt benötigt\n",
        "turns = test_df['turn'].tolist()\n",
        "roles = test_df['role'].tolist()"
      ],
      "metadata": {
        "id": "pst3-STwJ8Sm"
      },
      "execution_count": null,
      "outputs": []
    },
    {
      "cell_type": "code",
      "source": [
        "# Nur Zeilen von role=student, da generated_label dazu und dann Vergleich; komplett mit teacher passen Längen nicht\n",
        "test_df_st = test_df[test_df['role'] == 'student']"
      ],
      "metadata": {
        "id": "3ME-l1lYJ8So"
      },
      "execution_count": null,
      "outputs": []
    },
    {
      "cell_type": "code",
      "source": [
        "test_df_st = test_df_st.copy()"
      ],
      "metadata": {
        "id": "ylwgexEBJ8Sp"
      },
      "execution_count": null,
      "outputs": []
    },
    {
      "cell_type": "code",
      "source": [
        "test_df_st['label_0'] = test_df_st['label_0'].str.lower()\n",
        "test_df_st['label_1'] = test_df_st['label_1'].str.lower()"
      ],
      "metadata": {
        "id": "iV1a5bGZJ8Sr"
      },
      "execution_count": null,
      "outputs": []
    },
    {
      "cell_type": "code",
      "source": [
        "reset_test_df_st = test_df_st.copy()"
      ],
      "metadata": {
        "id": "a5Lq8yzeSA3M"
      },
      "execution_count": null,
      "outputs": []
    },
    {
      "cell_type": "code",
      "source": [
        "true_labels_level_0 = test_df_st['label_0'] # ist immer gleich bei level 0\n",
        "true_labels_level_1 = test_df_st['label_1'] # ist immer gleich bei level 1"
      ],
      "metadata": {
        "id": "ZkFSZXoaJ8St"
      },
      "execution_count": null,
      "outputs": []
    },
    {
      "cell_type": "markdown",
      "source": [
        "## ***Zero Shot Prompting***"
      ],
      "metadata": {
        "id": "9xIXb3h-G_n-"
      }
    },
    {
      "cell_type": "markdown",
      "source": [
        "### Level 0"
      ],
      "metadata": {
        "id": "3FDzvumKnHMK"
      }
    },
    {
      "cell_type": "code",
      "source": [
        "# Prompt Zero Level 0\n",
        "prompt_zero_level_0 = \"\"\"\n",
        "### CONTEXT ###\n",
        "The data collected consists of conversations between a conversational assistant ('role'='teacher'), who provides guidance during a do-it-yourself project, and a user ('role'='student'), who expresses statements or questions to the conversational assistant during the process.\n",
        "In order to find out which information needs the users express with this utterance (also called turn), these must be assigned to their information needs with the help of the taxonomy, i.e. annotated or classified.\n",
        "\n",
        "\n",
        "### OBJECTIVE ###\n",
        "Classify/annotate each statement of the user with one of the following two labels, which represent an information need of the user. You are an expert in data annotation!\n",
        "Each label is briefly defined for better delimitation.\n",
        "\n",
        "The two labels are as follows:\n",
        "- \"fact\": Information need regarding instructions that convey facts. Subcategories assigned to this:\n",
        "  > \"amount\": Information need regarding a quantity or frequency specification.\n",
        "  > \"material\": Information need regarding the required consumables.\n",
        "  > \"instruction\": Information needs regarding the selection or understanding of a project or guidance in general. Including general questions about the overall process or guidance, without referring to individual steps or detailed actions. This includes questions about the general requirements for completing a project, but without asking about specific materials, equipment or step-by-step instructions.\n",
        "  > \"time\": Information need regarding a time specification.\n",
        "  > \"equipment\": Information need regarding the required equipment such as devices, machines and tools, but not the technique of how to use them.\n",
        "  > \"knowledge\": Information need regarding background information/knowledge about the topic.\n",
        "  > \"miscellaneous\": Information need that cannot be assigned to any of the other subcategories/labels.\n",
        "\n",
        "- \"competence\": Information need on how to carry out the project. These actions or activities are necessary to carry out the project. Subcategories assigned to this:\n",
        "  > \"preparation\": Information need regarding the steps of the process, including questions about the next step or tips that should be followed.\n",
        "  > \"manual technique\": Information need regarding a practical instruction or method on how exactly to carry out a step that has not yet been described in detail. It is about the HOW of carrying out a step.\n",
        "\n",
        "Also consider the context and the user's previous statements!\n",
        "Also consider the previous statements of the conversational assistant, which can have an influence on the label of the user's information needs!\n",
        "\n",
        "### STYLE ###\n",
        "Only use the two categories \"fact\" or \"competence\"!\n",
        "\n",
        "\n",
        "### AUDIENCE ###\n",
        "The labels are used for analysis by a group of scientists in information science and linguistics.\n",
        "\n",
        "\n",
        "### RESPONSE ###\n",
        "Only the individual label \"fact\" or \"competence\" for each utterance.\n",
        "\"\"\""
      ],
      "metadata": {
        "id": "Hzzw-0gdnHMe"
      },
      "execution_count": null,
      "outputs": []
    },
    {
      "cell_type": "code",
      "source": [
        "# Aufruf Methode von oben\n",
        "# prompt wurde oben definiert\n",
        "\n",
        "pred_labels_zero_level_0 = []\n",
        "\n",
        "for turn, role in zip(turns, roles):\n",
        "  if role == 'student':\n",
        "    label = annotate(client, model, prompt_zero_level_0, turn)\n",
        "    if label:\n",
        "      print(f\"Turn: {turn}\\nLabel: {label}\\n\")\n",
        "      pred_labels_zero_level_0.append(label.lower())\n",
        "    else:\n",
        "      pred_labels_zero_level_0.append(\"Fehler bei Anfrage\")\n",
        "  else:\n",
        "    # turns von teacher überspringen, da diese nicht gelabelt werden; nur für Kontext da\n",
        "    continue"
      ],
      "metadata": {
        "colab": {
          "base_uri": "https://localhost:8080/"
        },
        "outputId": "a7f97641-6b57-4367-f8f1-946161e23b45",
        "id": "xlDG39w_nHMg"
      },
      "execution_count": null,
      "outputs": [
        {
          "output_type": "stream",
          "name": "stdout",
          "text": [
            "Turn: What are the tools and other things required for starting a bonsai tree?\n",
            "Label: fact\n",
            "\n",
            "Turn: I'm ready for the first step now please. \n",
            "Label: competence\n",
            "\n",
            "Turn: I've got an idea of where I want it to grow, what's the next step that I need to take now? \n",
            "Label: competence\n",
            "\n",
            "Turn: How do we prepare the tree? \n",
            "Label: competence\n",
            "\n",
            "Turn: Ok, I have a nice dark green pot, perfect. What should I do now?\n",
            "Label: competence\n",
            "\n",
            "Turn: Gotcha.  The tree is all ready for potting now, what's next?\n",
            "Label: competence\n",
            "\n",
            "Turn: Ok, I've prepared the tree, wired the branches as asked and followed all direction, what should I do now?\n",
            "Label: competence\n",
            "\n",
            "Turn: I've pruned and cleaned the roots, what's next?\n",
            "Label: competence\n",
            "\n",
            "Turn: How do I prepare the pot?\n",
            "Label: competence\n",
            "\n",
            "Turn: It is dry and clean, what should I do now?\n",
            "Label: competence\n",
            "\n",
            "Turn: Okay, the tree's been potted.  What now?\n",
            "Label: competence\n",
            "\n",
            "Turn: Thanks for the tips, is there anything else I need to know or do?\n",
            "Label: fact\n",
            "\n",
            "Turn: I have some good seeds, what is the next step I should take?\n",
            "Label: competence\n",
            "\n",
            "Turn: What should I do after the seeds germinate?\n",
            "Label: competence\n",
            "\n",
            "Turn: What do I do after I plant the germinated seeds?\n",
            "Label: competence\n",
            "\n",
            "Turn: Any specific growing medium I need for my seeds?\n",
            "Label: fact\n",
            "\n",
            "Turn: I have pot picked out, what should I do next?\n",
            "Label: competence\n",
            "\n",
            "Turn: After following the steps in the shared content, what should I do next?\n",
            "Label: competence\n",
            "\n",
            "Turn: Basil is so fragrant. I love it. \n",
            "Label: fact\n",
            "\n",
            "Turn: There are so many kinds, what do you recommend?\n",
            "Label: fact\n",
            "\n",
            "Turn: Good to know!  What tools might I need to grow some basil of my own?\n",
            "Label: fact\n",
            "\n",
            "Turn: Uh, I don't get it. Can you please tell me about the tools that I'll need?\n",
            "Label: competence\n",
            "\n",
            "Turn: Gotcha!  Once I have all those tools, what do I need to do to get started growing the basil?\n",
            "Label: competence\n",
            "\n",
            "Turn: Okay.  I've got the basil I want to grow picked out.  What should I do next?\n",
            "Label: competence\n",
            "\n",
            "Turn: Does that mean basil grows best in the spring and summer?\n",
            "Label: fact\n",
            "\n",
            "Turn: This seems very accurate. So, now that I know I'm starting at the right time, what should I do?\n",
            "Label: competence\n",
            "\n",
            "Turn: Which is the best place to place the container the plant is seeded\n",
            "Label: competence\n",
            "\n",
            "Turn: How long does it take for the basil to grow?\n",
            "Label: fact\n",
            "\n",
            "Turn: Is there a way to cut them after they grow?\n",
            "Label: competence\n",
            "\n",
            "Turn: When should I cut the basil leaves?\n",
            "Label: competence\n",
            "\n",
            "Turn: Now what step do I need to take to start this process? \n",
            "Label: competence\n",
            "\n",
            "Turn: Okay, now what should I do after that? \n",
            "Label: competence\n",
            "\n",
            "Turn: Can i u se other oily substance to loosen zipper? \n",
            "Label: competence\n",
            "\n",
            "Turn: I don't really have access to those right now but i have some beeswax lipbalm that is mostly beeswax. Where do I apply it to the zipper to unstick it?\n",
            "Label: competence\n",
            "\n",
            "Turn: what tool I need to use after that?\n",
            "Label: competence\n",
            "\n",
            "Turn: All right. I guess I was wondering what the next step after lubricating the zipper was.\n",
            "Label: competence\n",
            "\n",
            "Turn: What should I do after rinsing the zipper?\n",
            "Label: competence\n",
            "\n",
            "Turn: What should I do after washing and scrubbing the zipper?\n",
            "Label: competence\n",
            "\n",
            "Turn: I have rubbed the zipper with he toothbrush, what should I do now?\n",
            "Label: competence\n",
            "\n",
            "Turn: I have a lubricant, is there anything else that I should do?\n",
            "Label: competence\n",
            "\n",
            "Turn: Good to know!  Any other steps you could share?\n",
            "Label: fact\n",
            "\n",
            "Turn: Why do engines overheat in the first place?\n",
            "Label: fact\n",
            "\n",
            "Turn: Good to know!  So what tools will be needed for me to stop the engine overheating?\n",
            "Label: competence\n",
            "\n",
            "Turn: That's very informative!  I followed the steps you outlined.  What do I need to do now?\n",
            "Label: competence\n",
            "\n",
            "Turn: I have pulled over, is there another step I can take to troubleshoot this issue?\n",
            "Label: competence\n",
            "\n",
            "Turn: What exactly is decoupage?\n",
            "Label: fact\n",
            "\n",
            "Turn: Oh ok, thanks for that! Sounds fun! What do I need to get started?\n",
            "Label: competence\n",
            "\n",
            "Turn: what is decoupage? \n",
            "Label: fact\n",
            "\n",
            "Turn: This looks like a typing error. Anyway, I'm getting my tools together and I'm not sure about the glue. Do I have to use a particular type of crafting glue to do this project?\n",
            "Label: competence\n",
            "\n",
            "Turn: what do I do next to get started\n",
            "Label: competence\n",
            "\n",
            "Turn: Okay, I threw a couple layers of newspaper down.  What should I do now?\n",
            "Label: competence\n",
            "\n",
            "Turn: What is the easiest type of material to apply?\n",
            "Label: fact\n",
            "\n",
            "Turn: I'll ask for next to follow\n",
            "Label: competence\n",
            "\n",
            "Turn: If I could only choose one thing to decoupage what would be the best choice?  I want to make sure I'm getting the best results!\n",
            "Label: fact\n",
            "\n",
            "Turn: Can I reverse the process if I make a mistake?\n",
            "Label: fact\n",
            "\n",
            "Turn: I decided to decoupage a small box, it seems like a good starter project to practice on. So I have my materials, my item (small box), and some newspaper down. How should I set up my work station and proceed?\n",
            "Label: competence\n",
            "\n",
            "Turn: Are there any difficult instructions?\n",
            "Label: fact\n",
            "\n",
            "Turn: Okay, I picked out a surface!  What should I do next?\n",
            "Label: competence\n",
            "\n",
            "Turn: Sounds easy enough!  I cut the material to fit the surface of the object I'm using.  What should I do next?\n",
            "Label: competence\n",
            "\n",
            "Turn: I have the glue in the bowl, what should I do next?\n",
            "Label: competence\n",
            "\n",
            "Turn: I have the surface covered, what should I do next?\n",
            "Label: competence\n",
            "\n",
            "Turn: Ok. Once thats done, how long should I let it dry for?\n",
            "Label: competence\n",
            "\n",
            "Turn: Now that I've let that dry, what's the next step I should take? \n",
            "Label: competence\n",
            "\n",
            "Turn: Okay, I‚Äôve put on another layer of glue. Now do I do the paper?\n",
            "Label: competence\n",
            "\n",
            "Turn: Okay, now what should I do next? \n",
            "Label: competence\n",
            "\n",
            "Turn: Is the cheapest way to fertilize a garden with compost from my kitchen?\n",
            "Label: fact\n",
            "\n",
            "Turn: I'm not sure if you understood my previous question.  Could you try answering again?\n",
            "Label: competence\n",
            "\n",
            "Turn: We'll go with coffee, because I always have that around the house!  So how do I get started fertilizing?\n",
            "Label: competence\n",
            "\n",
            "Turn: That's so helpful!  I've dried the grounds and spread them around.  Is that it?\n",
            "Label: competence\n",
            "\n",
            "Turn: I don't have a coffee grinder. Can I crush the shells by hand? How fine do they have to be?\n",
            "Label: competence\n",
            "\n",
            "Turn: I'm sorry, I got confused.  I obviously have a grinder because I already spread coffee grounds around.  Are there any other tips you could share?\n",
            "Label: fact\n",
            "\n",
            "Turn: Great, I will use a banana peel because I don't want to waste food. Is there anything else I should do?\n",
            "Label: competence\n",
            "\n",
            "Turn: You already said that earlier, but thanks!  Any new tips?\n",
            "Label: fact\n",
            "\n",
            "Turn: I don't know what epsom salts are.  Can you tell me what they are?\n",
            "Label: fact\n",
            "\n",
            "Turn: What type of tools am I going to need for this? \n",
            "Label: competence\n",
            "\n",
            "Turn: If there are no tools needed, then how do I decide how to make the purchase?\n",
            "Label: fact\n",
            "\n",
            "Turn: What is the cord going to be used for?\n",
            "Label: fact\n",
            "\n",
            "Turn: What type of mattress is good for side sleepers? \n",
            "Label: fact\n",
            "\n",
            "Turn: Yes. How do I determine what is a good quality mattress when I'm in the store?\n",
            "Label: competence\n",
            "\n",
            "Turn: Are mattress sizes all standard? \n",
            "Label: fact\n",
            "\n",
            "Turn: What is memory foam made out of?\n",
            "Label: fact\n",
            "\n",
            "Turn: What are the benefits of high-density foam?\n",
            "Label: fact\n",
            "\n",
            "Turn: Why is memory foam a popular mattress choice? \n",
            "Label: fact\n",
            "\n",
            "Turn: Ok thank you. Anything else I should know before finishing up?\n",
            "Label: fact\n",
            "\n",
            "Turn: What tools do I need to grow elephant ear plants?\n",
            "Label: competence\n",
            "\n",
            "Turn: If the temperatures are still cold in the spring should I plant this indoors?\n",
            "Label: competence\n",
            "\n",
            "Turn: It's pretty cold here already. What type of potting soil will I need to plant indoors?\n",
            "Label: fact\n",
            "\n",
            "Turn: Can I propagate the Elephant Ear Plant from a plant I already have or do I need to purchase them?\n",
            "Label: fact\n",
            "\n",
            "Turn: Great, so for an indoor start, I have my plant and pot and correct acidity of planting medium. What should I do?\n",
            "Label: competence\n",
            "\n",
            "Turn: I've picked out a great spot with the right amount of indirect light. What should I do now?\n",
            "Label: competence\n",
            "\n",
            "Turn: How should I start planting once I've found the right spot?\n",
            "Label: competence\n",
            "\n",
            "Turn: I have dug a drainage hole and am ready to plant my elephant ear plant, how should I begin?\n",
            "Label: competence\n",
            "\n",
            "Turn: Now I have checked the ph level, what should I do next?\n",
            "Label: competence\n",
            "\n",
            "Turn: Ok, once the holes are dug can I put the plants right in?\n",
            "Label: competence\n",
            "\n",
            "Turn: I'm done digging, what do i do with the bulbs?\n",
            "Label: competence\n",
            "\n",
            "Turn: Alright, I've pressed my bulbs down firmly, flat-end down. What now?\n",
            "Label: competence\n",
            "\n",
            "Turn: How often should I be watering my plant?\n",
            "Label: fact\n",
            "\n",
            "Turn: Okay and I've kept the soil moist, what can I do next? \n",
            "Label: competence\n",
            "\n",
            "Turn: Why shouldn't I place my marker directly over the bulb?\n",
            "Label: competence\n",
            "\n",
            "Turn: Okay and is there another step that I should take after this? \n",
            "Label: competence\n",
            "\n",
            "Turn: It took the full three weeks but I'm finally seeing some sprouts. How do I nurture them?\n",
            "Label: competence\n",
            "\n",
            "Turn: What should I do after watering the plat's roots in the morning?\n",
            "Label: competence\n",
            "\n",
            "Turn: What should I do outside of adding slow-release fertilizer once a month?\n",
            "Label: competence\n",
            "\n",
            "Turn: What type of climate do African violets grow in? \n",
            "Label: fact\n",
            "\n",
            "Turn: What tools do I need to grow African violets?\n",
            "Label: competence\n",
            "\n",
            "Turn: Could you specify how much cement I'll need?\n",
            "Label: fact\n",
            "\n",
            "Turn: I have gathered the cement and other supplies, what should I do next?\n",
            "Label: competence\n",
            "\n",
            "Turn: Alright I have got water and my plant what‚Äôs next?\n",
            "Label: competence\n",
            "\n",
            "Turn: I went for the easier directions and put the leaf directly into the soil. So I just wait for it to take root?\n",
            "Label: competence\n",
            "\n",
            "Turn: What is the best place I can get these types of seeds?\n",
            "Label: fact\n",
            "\n",
            "Turn: Gotcha, I picked them up from the nursery by my house.  What should I do now?\n",
            "Label: competence\n",
            "\n",
            "Turn: What tool do I need to test the soil pH?\n",
            "Label: competence\n",
            "\n",
            "Turn: Why do i need to check the PH level of soil? \n",
            "Label: fact\n",
            "\n",
            "Turn: The ph level is good, what's next?\n",
            "Label: competence\n",
            "\n",
            "Turn: Alright I separated the plants, what now?\n",
            "Label: competence\n",
            "\n",
            "Turn: Now I've got several baby violet plants in their own small pots with violet potting medium. What should I do with them next?\n",
            "Label: competence\n",
            "\n",
            "Turn: They have a good home, now what step should I take next? \n",
            "Label: competence\n",
            "\n",
            "Turn: How frequently will the soil get dry?\n",
            "Label: fact\n",
            "\n",
            "Turn: If heavy sunlight dries out the soil should I keep it away from direct light?\n",
            "Label: fact\n",
            "\n",
            "Turn: Okay and they have light, so now what is the next step I can take? \n",
            "Label: competence\n",
            "\n",
            "Turn: Yes it should have plenty of light, so what‚Äôs next?\n",
            "Label: competence\n",
            "\n",
            "Turn: I've got a time that I want to fertilize, what else can I do now? \n",
            "Label: competence\n",
            "\n",
            "Turn: What should I do after monitoring and maintaining their temperature and humidity?\n",
            "Label: competence\n",
            "\n"
          ]
        }
      ]
    },
    {
      "cell_type": "code",
      "source": [
        "# generierte Labels als neue Spalte zu df\n",
        "test_df_st['pred_label_zero_level_0'] = pred_labels_zero_level_0"
      ],
      "metadata": {
        "id": "0smPXEAtqEHE"
      },
      "execution_count": null,
      "outputs": []
    },
    {
      "cell_type": "code",
      "source": [
        "# Vergleich GPT Labels mit manuellen Labels -> neue Spalte agreement, direkte Übereinstimmung: wahr/falsch\n",
        "test_df_st['agreement_zero_Level_0'] = test_df_st['label_0'] == test_df_st['pred_label_zero_level_0']"
      ],
      "metadata": {
        "id": "e6Jx8oDgqaO-"
      },
      "execution_count": null,
      "outputs": []
    },
    {
      "cell_type": "markdown",
      "source": [
        "Evaluation mit Precision, Recall, F1-Score, Cohen's Kappa"
      ],
      "metadata": {
        "id": "1aISWOuonHMi"
      }
    },
    {
      "cell_type": "code",
      "source": [
        "# true: manuelle Labels\n",
        "# pred: generierte Labels von GPT\n",
        "pred_labels_zero_level_0 = test_df_st['pred_label_zero_level_0']"
      ],
      "metadata": {
        "id": "DCmNyf-7nHMi"
      },
      "execution_count": null,
      "outputs": []
    },
    {
      "cell_type": "code",
      "source": [
        "# Precision, Recall und F1-Score pro Label\n",
        "precision = precision_score(true_labels_level_0, pred_labels_zero_level_0, average=None, labels=labels_level_0) # average, damit für jedes Label einzeln; labels_level_0 ganz am Anfang\n",
        "recall = recall_score(true_labels_level_0, pred_labels_zero_level_0, average=None, labels=labels_level_0)\n",
        "f1 = f1_score(true_labels_level_0, pred_labels_zero_level_0, average=None, labels=labels_level_0)"
      ],
      "metadata": {
        "id": "6PW9Ws1ynHMi"
      },
      "execution_count": null,
      "outputs": []
    },
    {
      "cell_type": "code",
      "source": [
        "report = classification_report(true_labels_level_0, pred_labels_zero_level_0, labels=labels_level_0)\n",
        "print(report)\n",
        "# Macro berücksichtigt Verteilung der Klassen nicht\n",
        "# Weighted Avg berücksichtigt Verteilung, also dass zB Label mit mehr Beispielen eine höhere Chance haben gewählt zu werden als Label mit wenigen Beispielen\n"
      ],
      "metadata": {
        "colab": {
          "base_uri": "https://localhost:8080/"
        },
        "outputId": "6777867a-a916-4c1b-d63e-e21e8b163fc6",
        "id": "rpZ3bfqznHMi"
      },
      "execution_count": null,
      "outputs": [
        {
          "output_type": "stream",
          "name": "stdout",
          "text": [
            "              precision    recall  f1-score   support\n",
            "\n",
            "        fact       0.86      0.67      0.75        48\n",
            "  competence       0.81      0.93      0.87        75\n",
            "\n",
            "    accuracy                           0.83       123\n",
            "   macro avg       0.84      0.80      0.81       123\n",
            "weighted avg       0.83      0.83      0.82       123\n",
            "\n"
          ]
        }
      ]
    },
    {
      "cell_type": "code",
      "source": [
        "# Cohen's Kappa: Inter-Rater Reliability -> berechnet mit ein, dass manche Label nur zufällig gewählt wurden\n",
        "kappa = cohen_kappa_score(true_labels_level_0, pred_labels_zero_level_0, labels=labels_level_0)\n",
        "print(f\"Cohen's Kappa: {kappa:.2f}\")"
      ],
      "metadata": {
        "colab": {
          "base_uri": "https://localhost:8080/"
        },
        "outputId": "92bd3e75-d592-4f48-9fd4-a98f26ea1bc2",
        "id": "BCsRaLNenHMj"
      },
      "execution_count": null,
      "outputs": [
        {
          "output_type": "stream",
          "name": "stdout",
          "text": [
            "Cohen's Kappa: 0.63\n"
          ]
        }
      ]
    },
    {
      "cell_type": "code",
      "source": [
        "test_df_st.to_excel('GPT3_Zero_Level0.xlsx', index=False)"
      ],
      "metadata": {
        "id": "QG0_g8czOFBn"
      },
      "execution_count": null,
      "outputs": []
    },
    {
      "cell_type": "code",
      "source": [
        "# wieder Original-Zustand\n",
        "test_df_st = reset_test_df_st.copy()"
      ],
      "metadata": {
        "id": "NccJJWKISSvJ"
      },
      "execution_count": null,
      "outputs": []
    },
    {
      "cell_type": "markdown",
      "source": [
        "### Level 1"
      ],
      "metadata": {
        "id": "xPpGnovYyQ0U"
      }
    },
    {
      "cell_type": "code",
      "source": [
        "# Prompt für Zero-Shot Level 1\n",
        "prompt_zero_level_1 = \"\"\"\n",
        "### CONTEXT ###\n",
        "The data collected consists of conversations between a conversational assistant ('role'='teacher'), who provides guidance during a do-it-yourself project, and a user ('role'='student'), who expresses statements or questions to the conversational assistant during the process.\n",
        "In order to find out which information needs the users express with this utterance (also called turn), these must be assigned to their information needs with the help of the taxonomy, i.e. annotated or classified.\n",
        "\n",
        "\n",
        "### OBJECTIVE ###\n",
        "Classify/annotate each statement of the user with one of the following labels, which represent an information need of the user. You are an expert in data annotation!\n",
        "Each label is briefly defined for better delimitation.\n",
        "\n",
        "The nine labels are as follows:\n",
        "- \"amount\": Information need regarding a quantity or frequency specification.\n",
        "- \"material\": Information need regarding the required consumables.\n",
        "- \"preparation\": Information need regarding the steps of the process, including questions about the next step or tips that should be followed.\n",
        "- \"manual technique\": Information need regarding a practical instruction or method on how exactly to carry out a step that has not yet been described in detail. It is about the HOW of carrying out a step.\n",
        "- \"instruction\": Information needs regarding the selection or understanding of a project or guidance in general. Including general questions about the overall process or guidance, without referring to individual steps or detailed actions. This includes questions about the general requirements for completing a project, but without asking about specific materials, equipment or step-by-step instructions.\n",
        "- \"time\": Information need regarding a time specification.\n",
        "- \"equipment\": Information need regarding the required equipment such as devices, machines and tools, but not the technique of how to use them.\n",
        "- \"knowledge\": Information need regarding background information/knowledge about the topic.\n",
        "- \"miscellaneous\": Information need that cannot be assigned to any of the other categories/labels.\n",
        "\n",
        "Also consider the context and the user's previous statements!\n",
        "Also consider the previous statements of the conversational assistant, which can have an influence on the label of the user's information needs!\n",
        "\n",
        "\n",
        "### STYLE ###\n",
        "Only use the above labels.\n",
        "\n",
        "\n",
        "### AUDIENCE ###\n",
        "The labels are used for analysis by a group of scientists in information science and linguistics.\n",
        "\n",
        "\n",
        "### RESPONSE ###\n",
        "Only the label for each utterance.\n",
        "\"\"\""
      ],
      "metadata": {
        "id": "1_51b--P8sMG"
      },
      "execution_count": null,
      "outputs": []
    },
    {
      "cell_type": "code",
      "source": [
        "# Aufruf der bereits definierten Methode mit Iteration durch die turns\n",
        "pred_labels_zero_level_1 = []\n",
        "\n",
        "for turn, role in zip(turns, roles):\n",
        "  if role == 'student':\n",
        "    label = annotate(client, model, prompt_zero_level_1, turn)\n",
        "    # Falls kein Label generiert werden kann\n",
        "    if label:\n",
        "      print(f\"Turn: {turn}\\nLabel: {label}\\n\")\n",
        "      pred_labels_zero_level_1.append(label.lower()) # .lower(), damit alles einheitlich mt manuellen Label\n",
        "    else:\n",
        "      pred_labels_zero_level_1.append(\"Fehler bei Anfrage\")\n",
        "  else:\n",
        "    # Überspringe turns von teacher\n",
        "    continue"
      ],
      "metadata": {
        "colab": {
          "base_uri": "https://localhost:8080/"
        },
        "outputId": "a0b353c9-eecc-4bfc-992f-a8f67d5d3c59",
        "id": "84lwNCwb8cTh"
      },
      "execution_count": null,
      "outputs": [
        {
          "output_type": "stream",
          "name": "stdout",
          "text": [
            "Turn: What are the tools and other things required for starting a bonsai tree?\n",
            "Label: equipment\n",
            "\n",
            "Turn: I'm ready for the first step now please. \n",
            "Label: preparation\n",
            "\n",
            "Turn: I've got an idea of where I want it to grow, what's the next step that I need to take now? \n",
            "Label: preparation\n",
            "\n",
            "Turn: How do we prepare the tree? \n",
            "Label: preparation\n",
            "\n",
            "Turn: Ok, I have a nice dark green pot, perfect. What should I do now?\n",
            "Label: preparation\n",
            "\n",
            "Turn: Gotcha.  The tree is all ready for potting now, what's next?\n",
            "Label: preparation\n",
            "\n",
            "Turn: Ok, I've prepared the tree, wired the branches as asked and followed all direction, what should I do now?\n",
            "Label: preparation\n",
            "\n",
            "Turn: I've pruned and cleaned the roots, what's next?\n",
            "Label: preparation\n",
            "\n",
            "Turn: How do I prepare the pot?\n",
            "Label: manual technique\n",
            "\n",
            "Turn: It is dry and clean, what should I do now?\n",
            "Label: preparation\n",
            "\n",
            "Turn: Okay, the tree's been potted.  What now?\n",
            "Label: preparation\n",
            "\n",
            "Turn: Thanks for the tips, is there anything else I need to know or do?\n",
            "Label: instruction\n",
            "\n",
            "Turn: I have some good seeds, what is the next step I should take?\n",
            "Label: instruction\n",
            "\n",
            "Turn: What should I do after the seeds germinate?\n",
            "Label: preparation\n",
            "\n",
            "Turn: What do I do after I plant the germinated seeds?\n",
            "Label: preparation\n",
            "\n",
            "Turn: Any specific growing medium I need for my seeds?\n",
            "Label: material\n",
            "\n",
            "Turn: I have pot picked out, what should I do next?\n",
            "Label: preparation\n",
            "\n",
            "Turn: After following the steps in the shared content, what should I do next?\n",
            "Label: preparation\n",
            "\n",
            "Turn: Basil is so fragrant. I love it. \n",
            "Label: miscellaneous\n",
            "\n",
            "Turn: There are so many kinds, what do you recommend?\n",
            "Label: instruction\n",
            "\n",
            "Turn: Good to know!  What tools might I need to grow some basil of my own?\n",
            "Label: equipment\n",
            "\n",
            "Turn: Uh, I don't get it. Can you please tell me about the tools that I'll need?\n",
            "Label: equipment\n",
            "\n",
            "Turn: Gotcha!  Once I have all those tools, what do I need to do to get started growing the basil?\n",
            "Label: preparation\n",
            "\n",
            "Turn: Okay.  I've got the basil I want to grow picked out.  What should I do next?\n",
            "Label: preparation\n",
            "\n",
            "Turn: Does that mean basil grows best in the spring and summer?\n",
            "Label: knowledge\n",
            "\n",
            "Turn: This seems very accurate. So, now that I know I'm starting at the right time, what should I do?\n",
            "Label: instruction\n",
            "\n",
            "Turn: Which is the best place to place the container the plant is seeded\n",
            "Label: instruction\n",
            "\n",
            "Turn: How long does it take for the basil to grow?\n",
            "Label: time\n",
            "\n",
            "Turn: Is there a way to cut them after they grow?\n",
            "Label: manual technique\n",
            "\n",
            "Turn: When should I cut the basil leaves?\n",
            "Label: time\n",
            "\n",
            "Turn: Now what step do I need to take to start this process? \n",
            "Label: preparation\n",
            "\n",
            "Turn: Okay, now what should I do after that? \n",
            "Label: preparation\n",
            "\n",
            "Turn: Can i u se other oily substance to loosen zipper? \n",
            "Label: miscellaneous\n",
            "\n",
            "Turn: I don't really have access to those right now but i have some beeswax lipbalm that is mostly beeswax. Where do I apply it to the zipper to unstick it?\n",
            "Label: equipment\n",
            "\n",
            "Turn: what tool I need to use after that?\n",
            "Label: equipment\n",
            "\n",
            "Turn: All right. I guess I was wondering what the next step after lubricating the zipper was.\n",
            "Label: preparation\n",
            "\n",
            "Turn: What should I do after rinsing the zipper?\n",
            "Label: preparation\n",
            "\n",
            "Turn: What should I do after washing and scrubbing the zipper?\n",
            "Label: preparation\n",
            "\n",
            "Turn: I have rubbed the zipper with he toothbrush, what should I do now?\n",
            "Label: manual technique\n",
            "\n",
            "Turn: I have a lubricant, is there anything else that I should do?\n",
            "Label: instruction\n",
            "\n",
            "Turn: Good to know!  Any other steps you could share?\n",
            "Label: instruction\n",
            "\n",
            "Turn: Why do engines overheat in the first place?\n",
            "Label: knowledge\n",
            "\n",
            "Turn: Good to know!  So what tools will be needed for me to stop the engine overheating?\n",
            "Label: equipment\n",
            "\n",
            "Turn: That's very informative!  I followed the steps you outlined.  What do I need to do now?\n",
            "Label: preparation\n",
            "\n",
            "Turn: I have pulled over, is there another step I can take to troubleshoot this issue?\n",
            "Label: preparation\n",
            "\n",
            "Turn: What exactly is decoupage?\n",
            "Label: knowledge\n",
            "\n",
            "Turn: Oh ok, thanks for that! Sounds fun! What do I need to get started?\n",
            "Label: instruction\n",
            "\n",
            "Turn: what is decoupage? \n",
            "Label: instruction\n",
            "\n",
            "Turn: This looks like a typing error. Anyway, I'm getting my tools together and I'm not sure about the glue. Do I have to use a particular type of crafting glue to do this project?\n",
            "Label: equipment\n",
            "\n",
            "Turn: what do I do next to get started\n",
            "Label: preparation\n",
            "\n",
            "Turn: Okay, I threw a couple layers of newspaper down.  What should I do now?\n",
            "Label: preparation\n",
            "\n",
            "Turn: What is the easiest type of material to apply?\n",
            "Label: instruction\n",
            "\n",
            "Turn: I'll ask for next to follow\n",
            "Label: preparation\n",
            "\n",
            "Turn: If I could only choose one thing to decoupage what would be the best choice?  I want to make sure I'm getting the best results!\n",
            "Label: instruction\n",
            "\n",
            "Turn: Can I reverse the process if I make a mistake?\n",
            "Label: instruction\n",
            "\n",
            "Turn: I decided to decoupage a small box, it seems like a good starter project to practice on. So I have my materials, my item (small box), and some newspaper down. How should I set up my work station and proceed?\n",
            "Label: instruction\n",
            "\n",
            "Turn: Are there any difficult instructions?\n",
            "Label: instruction\n",
            "\n",
            "Turn: Okay, I picked out a surface!  What should I do next?\n",
            "Label: preparation\n",
            "\n",
            "Turn: Sounds easy enough!  I cut the material to fit the surface of the object I'm using.  What should I do next?\n",
            "Label: preparation\n",
            "\n",
            "Turn: I have the glue in the bowl, what should I do next?\n",
            "Label: preparation\n",
            "\n",
            "Turn: I have the surface covered, what should I do next?\n",
            "Label: preparation\n",
            "\n",
            "Turn: Ok. Once thats done, how long should I let it dry for?\n",
            "Label: time\n",
            "\n",
            "Turn: Now that I've let that dry, what's the next step I should take? \n",
            "Label: preparation\n",
            "\n",
            "Turn: Okay, I‚Äôve put on another layer of glue. Now do I do the paper?\n",
            "Label: preparation\n",
            "\n",
            "Turn: Okay, now what should I do next? \n",
            "Label: preparation\n",
            "\n",
            "Turn: Is the cheapest way to fertilize a garden with compost from my kitchen?\n",
            "Label: knowledge\n",
            "\n",
            "Turn: I'm not sure if you understood my previous question.  Could you try answering again?\n",
            "Label: instruction\n",
            "\n",
            "Turn: We'll go with coffee, because I always have that around the house!  So how do I get started fertilizing?\n",
            "Label: material\n",
            "\n",
            "Turn: That's so helpful!  I've dried the grounds and spread them around.  Is that it?\n",
            "Label: preparation\n",
            "\n",
            "Turn: I don't have a coffee grinder. Can I crush the shells by hand? How fine do they have to be?\n",
            "Label: equipment\n",
            "\n",
            "Turn: I'm sorry, I got confused.  I obviously have a grinder because I already spread coffee grounds around.  Are there any other tips you could share?\n",
            "Label: instruction\n",
            "\n",
            "Turn: Great, I will use a banana peel because I don't want to waste food. Is there anything else I should do?\n",
            "Label: preparation\n",
            "\n",
            "Turn: You already said that earlier, but thanks!  Any new tips?\n",
            "Label: instruction\n",
            "\n",
            "Turn: I don't know what epsom salts are.  Can you tell me what they are?\n",
            "Label: knowledge\n",
            "\n",
            "Turn: What type of tools am I going to need for this? \n",
            "Label: equipment\n",
            "\n",
            "Turn: If there are no tools needed, then how do I decide how to make the purchase?\n",
            "Label: instruction\n",
            "\n",
            "Turn: What is the cord going to be used for?\n",
            "Label: instruction\n",
            "\n",
            "Turn: What type of mattress is good for side sleepers? \n",
            "Label: knowledge\n",
            "\n",
            "Turn: Yes. How do I determine what is a good quality mattress when I'm in the store?\n",
            "Label: instruction\n",
            "\n",
            "Turn: Are mattress sizes all standard? \n",
            "Label: knowledge\n",
            "\n",
            "Turn: What is memory foam made out of?\n",
            "Label: knowledge\n",
            "\n",
            "Turn: What are the benefits of high-density foam?\n",
            "Label: knowledge\n",
            "\n",
            "Turn: Why is memory foam a popular mattress choice? \n",
            "Label: knowledge\n",
            "\n",
            "Turn: Ok thank you. Anything else I should know before finishing up?\n",
            "Label: instruction\n",
            "\n",
            "Turn: What tools do I need to grow elephant ear plants?\n",
            "Label: equipment\n",
            "\n",
            "Turn: If the temperatures are still cold in the spring should I plant this indoors?\n",
            "Label: time\n",
            "\n",
            "Turn: It's pretty cold here already. What type of potting soil will I need to plant indoors?\n",
            "Label: miscellaneous\n",
            "\n",
            "Turn: Can I propagate the Elephant Ear Plant from a plant I already have or do I need to purchase them?\n",
            "Label: instruction\n",
            "\n",
            "Turn: Great, so for an indoor start, I have my plant and pot and correct acidity of planting medium. What should I do?\n",
            "Label: preparation\n",
            "\n",
            "Turn: I've picked out a great spot with the right amount of indirect light. What should I do now?\n",
            "Label: preparation\n",
            "\n",
            "Turn: How should I start planting once I've found the right spot?\n",
            "Label: preparation\n",
            "\n",
            "Turn: I have dug a drainage hole and am ready to plant my elephant ear plant, how should I begin?\n",
            "Label: preparation\n",
            "\n",
            "Turn: Now I have checked the ph level, what should I do next?\n",
            "Label: preparation\n",
            "\n",
            "Turn: Ok, once the holes are dug can I put the plants right in?\n",
            "Label: instruction\n",
            "\n",
            "Turn: I'm done digging, what do i do with the bulbs?\n",
            "Label: preparation\n",
            "\n",
            "Turn: Alright, I've pressed my bulbs down firmly, flat-end down. What now?\n",
            "Label: preparation\n",
            "\n",
            "Turn: How often should I be watering my plant?\n",
            "Label: amount\n",
            "\n",
            "Turn: Okay and I've kept the soil moist, what can I do next? \n",
            "Label: preparation\n",
            "\n",
            "Turn: Why shouldn't I place my marker directly over the bulb?\n",
            "Label: instruction\n",
            "\n",
            "Turn: Okay and is there another step that I should take after this? \n",
            "Label: preparation\n",
            "\n",
            "Turn: It took the full three weeks but I'm finally seeing some sprouts. How do I nurture them?\n",
            "Label: time\n",
            "\n",
            "Turn: What should I do after watering the plat's roots in the morning?\n",
            "Label: preparation\n",
            "\n",
            "Turn: What should I do outside of adding slow-release fertilizer once a month?\n",
            "Label: instruction\n",
            "\n",
            "Turn: What type of climate do African violets grow in? \n",
            "Label: knowledge\n",
            "\n",
            "Turn: What tools do I need to grow African violets?\n",
            "Label: equipment\n",
            "\n",
            "Turn: Could you specify how much cement I'll need?\n",
            "Label: amount\n",
            "\n",
            "Turn: I have gathered the cement and other supplies, what should I do next?\n",
            "Label: preparation\n",
            "\n",
            "Turn: Alright I have got water and my plant what‚Äôs next?\n",
            "Label: preparation\n",
            "\n",
            "Turn: I went for the easier directions and put the leaf directly into the soil. So I just wait for it to take root?\n",
            "Label: preparation\n",
            "\n",
            "Turn: What is the best place I can get these types of seeds?\n",
            "Label: instruction\n",
            "\n",
            "Turn: Gotcha, I picked them up from the nursery by my house.  What should I do now?\n",
            "Label: preparation\n",
            "\n",
            "Turn: What tool do I need to test the soil pH?\n",
            "Label: equipment\n",
            "\n",
            "Turn: Why do i need to check the PH level of soil? \n",
            "Label: knowledge\n",
            "\n",
            "Turn: The ph level is good, what's next?\n",
            "Label: preparation\n",
            "\n",
            "Turn: Alright I separated the plants, what now?\n",
            "Label: preparation\n",
            "\n",
            "Turn: Now I've got several baby violet plants in their own small pots with violet potting medium. What should I do with them next?\n",
            "Label: preparation\n",
            "\n",
            "Turn: They have a good home, now what step should I take next? \n",
            "Label: preparation\n",
            "\n",
            "Turn: How frequently will the soil get dry?\n",
            "Label: amount\n",
            "\n",
            "Turn: If heavy sunlight dries out the soil should I keep it away from direct light?\n",
            "Label: preparation\n",
            "\n",
            "Turn: Okay and they have light, so now what is the next step I can take? \n",
            "Label: preparation\n",
            "\n",
            "Turn: Yes it should have plenty of light, so what‚Äôs next?\n",
            "Label: preparation\n",
            "\n",
            "Turn: I've got a time that I want to fertilize, what else can I do now? \n",
            "Label: preparation\n",
            "\n",
            "Turn: What should I do after monitoring and maintaining their temperature and humidity?\n",
            "Label: preparation\n",
            "\n"
          ]
        }
      ]
    },
    {
      "cell_type": "code",
      "source": [
        "# von GPT-3 generierte Labels als neue Spalte zu df\n",
        "test_df_st['pred_label_zero_level_1'] = pred_labels_zero_level_1"
      ],
      "metadata": {
        "id": "XnVLdK_R8cTi"
      },
      "execution_count": null,
      "outputs": []
    },
    {
      "cell_type": "code",
      "source": [
        "# Vergleich GPT-3 Labels mit manuellen Labels -> neue Spalte agreement, direkte Übereinstimmung\n",
        "test_df_st['agreement_zero_level_1'] = test_df_st['label_1'] == test_df_st['pred_label_zero_level_1']\n"
      ],
      "metadata": {
        "id": "AnuWcszC8cTi"
      },
      "execution_count": null,
      "outputs": []
    },
    {
      "cell_type": "markdown",
      "source": [
        "Jetzt P, R, F1"
      ],
      "metadata": {
        "id": "Ay_RGm4b8cTi"
      }
    },
    {
      "cell_type": "code",
      "source": [
        "# true sind manuelle und pred die von gpt 3\n",
        "pred_labels_zero_level_1 = test_df_st['pred_label_zero_level_1']"
      ],
      "metadata": {
        "id": "AnGEQa628cTj"
      },
      "execution_count": null,
      "outputs": []
    },
    {
      "cell_type": "code",
      "source": [
        "# Berechnung Precision, Recall und F1-Score für jedes Label\n",
        "precision = precision_score(true_labels_level_1, pred_labels_zero_level_1, average=None, labels=labels_level_1) # label_level_1 wurde anfangs definiert\n",
        "recall = recall_score(true_labels_level_1, pred_labels_zero_level_1, average=None, labels=labels_level_1)\n",
        "f1 = f1_score(true_labels_level_1, pred_labels_zero_level_1, average=None, labels=labels_level_1)"
      ],
      "metadata": {
        "id": "ROq3J7Bj8cTj"
      },
      "execution_count": null,
      "outputs": []
    },
    {
      "cell_type": "code",
      "source": [
        "# Bericht drucken\n",
        "report = classification_report(true_labels_level_1, pred_labels_zero_level_1, labels=labels_level_1)\n",
        "print(report)\n",
        "# macro berücksichtigt die Verteilung der Klassen nicht\n",
        "#weighted berückschtigt die Verteilung, also dass zB die Label mit mehr Bsp eine höhere Chance auf richtig haben als zB amount\n"
      ],
      "metadata": {
        "colab": {
          "base_uri": "https://localhost:8080/"
        },
        "outputId": "9409730d-082f-4654-89bc-935fa71c5845",
        "id": "l_OLodGO8cTj"
      },
      "execution_count": null,
      "outputs": [
        {
          "output_type": "stream",
          "name": "stdout",
          "text": [
            "                  precision    recall  f1-score   support\n",
            "\n",
            "       equipment       0.75      1.00      0.86         9\n",
            "     preparation       0.98      0.80      0.88        70\n",
            "        material       0.50      0.14      0.22         7\n",
            "   miscellaneous       0.33      0.25      0.29         4\n",
            "     instruction       0.31      0.80      0.44        10\n",
            "       knowledge       0.83      0.83      0.83        12\n",
            "manual technique       0.33      0.20      0.25         5\n",
            "            time       0.60      1.00      0.75         3\n",
            "          amount       1.00      1.00      1.00         3\n",
            "\n",
            "        accuracy                           0.75       123\n",
            "       macro avg       0.63      0.67      0.61       123\n",
            "    weighted avg       0.81      0.75      0.76       123\n",
            "\n"
          ]
        }
      ]
    },
    {
      "cell_type": "code",
      "source": [
        "# Berechnung von Cohen's Kappa\n",
        "kappa = cohen_kappa_score(true_labels_level_1, pred_labels_zero_level_1, labels=labels_level_1)\n",
        "print(f\"Cohen's Kappa: {kappa:.2f}\")"
      ],
      "metadata": {
        "colab": {
          "base_uri": "https://localhost:8080/"
        },
        "outputId": "ca892182-9409-41c3-af2b-a296de5fd6ca",
        "id": "NQ9dnARi8cTj"
      },
      "execution_count": null,
      "outputs": [
        {
          "output_type": "stream",
          "name": "stdout",
          "text": [
            "Cohen's Kappa: 0.64\n"
          ]
        }
      ]
    },
    {
      "cell_type": "code",
      "source": [
        "test_df_st.to_excel('GPT3_Zero_Level1.xlsx', index=False)"
      ],
      "metadata": {
        "id": "nEU__Mbr8cTj"
      },
      "execution_count": null,
      "outputs": []
    },
    {
      "cell_type": "code",
      "source": [
        "test_df_st = reset_test_df_st.copy()"
      ],
      "metadata": {
        "id": "8O4aFlrRSjuE"
      },
      "execution_count": null,
      "outputs": []
    },
    {
      "cell_type": "markdown",
      "source": [
        "## ***Few Shot Prompting***"
      ],
      "metadata": {
        "id": "CE26h62PEY9T"
      }
    },
    {
      "cell_type": "code",
      "source": [
        "# Für Beispielauswahl\n",
        "train_df = train_df.copy()"
      ],
      "metadata": {
        "id": "zc_L1heVD5Mz"
      },
      "execution_count": null,
      "outputs": []
    },
    {
      "cell_type": "code",
      "source": [
        "# Nur Zeilen, bei denen label_0/label_1 Eintrag\n",
        "train_df = train_df[(train_df['label_0'].notna()) & (train_df['label_0'].str.strip() != '')]"
      ],
      "metadata": {
        "id": "jCe1cqOLrjyf"
      },
      "execution_count": null,
      "outputs": []
    },
    {
      "cell_type": "code",
      "source": [
        "# Nur Zeilen von role=student\n",
        "train_df_st = train_df[train_df['role'] == 'student']"
      ],
      "metadata": {
        "id": "q5NvrVQ5D5M0"
      },
      "execution_count": null,
      "outputs": []
    },
    {
      "cell_type": "code",
      "source": [
        "train_df_st = train_df_st.copy()\n",
        "train_df_st['label_0'] = train_df_st['label_0'].str.lower()\n",
        "train_df_st['label_1'] = train_df_st['label_1'].str.lower()"
      ],
      "metadata": {
        "id": "qNKn22rlZ1kZ"
      },
      "execution_count": null,
      "outputs": []
    },
    {
      "cell_type": "markdown",
      "source": [
        "### Level 0"
      ],
      "metadata": {
        "id": "gk7jMyFcEse9"
      }
    },
    {
      "cell_type": "code",
      "source": [
        "# Prompt für few shot level 0\n",
        "prompt_few_level_0 = \"\"\"\n",
        "### CONTEXT ###\n",
        "The data collected consists of conversations between a conversational assistant ('role'='teacher'), who provides guidance during a do-it-yourself project, and a user ('role'='student'), who expresses statements or questions to the conversational assistant during the process.\n",
        "In order to find out which information needs the users express with this utterance (also called turn), these must be assigned to their information needs with the help of the taxonomy, i.e. annotated or classified.\n",
        "\n",
        "\n",
        "### OBJECTIVE ###\n",
        "Classify/annotate each statement of the user with one of the following two labels, which represent an information need of the user. You are an expert in data annotation!\n",
        "Each label is briefly defined for better delimitation.\n",
        "\n",
        "The two labels are as follows:\n",
        "- \"fact\": Information need regarding instructions that convey facts. Subcategories assigned to this:\n",
        "  > \"amount\": Information need regarding a quantity or frequency specification.\n",
        "  > \"material\": Information need regarding the required consumables.\n",
        "  > \"instruction\": Information needs regarding the selection or understanding of a project or guidance in general. Including general questions about the overall process or guidance, without referring to individual steps or detailed actions. This includes questions about the general requirements for completing a project, but without asking about specific materials, equipment or step-by-step instructions.\n",
        "  > \"time\": Information need regarding a time specification.\n",
        "  > \"equipment\": Information need regarding the required equipment such as devices, machines and tools, but not the technique of how to use them.\n",
        "  > \"knowledge\": Information need regarding background information/knowledge about the topic.\n",
        "  > \"miscellaneous\": Information need that cannot be assigned to any of the other subcategories/labels.\n",
        "\n",
        "- \"competence\": Information need on how to carry out the project. These actions or activities are necessary to carry out the project. Subcategories assigned to this:\n",
        "  > \"preparation\": Information need regarding the steps of the process, including questions about the next step or tips that should be followed.\n",
        "  > \"manual technique\": Information need regarding a practical instruction or method on how exactly to carry out a step that has not yet been described in detail. It is about the HOW of carrying out a step.\n",
        "\n",
        "Also consider the context and the user's previous statements!\n",
        "Also consider the previous statements of the conversational assistant, which can have an influence on the label of the user's information needs!\n",
        "\n",
        "\n",
        "### STYLE ###\n",
        "Only use the two categories \"fact\" or \"competence\"!\n",
        "\n",
        "\n",
        "### AUDIENCE ###\n",
        "The labels are used for analysis by a group of scientists in information science and linguistics.\n",
        "\n",
        "\n",
        "### RESPONSE ###\n",
        "Only the individual label \"fact\" or \"competence\" for each utterance.\n",
        "\n",
        "\n",
        "### EXAMPLES ###\n",
        "{few_shot_examples_level_0}\n",
        "\"\"\""
      ],
      "metadata": {
        "id": "tQcA5X3OVLnG"
      },
      "execution_count": null,
      "outputs": []
    },
    {
      "cell_type": "markdown",
      "source": [
        "Auswahl der Few-Shot-Beispiele"
      ],
      "metadata": {
        "id": "-xOLmDaREse-"
      }
    },
    {
      "cell_type": "code",
      "source": [
        "def few_shots(df, label, max):\n",
        "  label_df = train_df_st[train_df_st['label_0'] == label]\n",
        "  label_examples = len(label_df)\n",
        "\n",
        "  if label_examples <= max:\n",
        "    k = label_examples\n",
        "  else:\n",
        "    k = max\n",
        "\n",
        "  return label_df.sample(n=k, random_state=42)\n",
        "\n",
        "examples = {}\n",
        "example_counts = {}  # Um Anzahl der few shots zu speichern\n",
        "\n",
        "# für jedes Label few shots erstellen + Anzahl\n",
        "for label in labels_level_0:\n",
        "  few_examples = few_shots(train_df_st, label, 6)\n",
        "  examples[label] = few_examples\n",
        "  example_counts[label] = len(few_examples)\n",
        "\n",
        "few_shot_examples = \"\\n\".join([f\" {row['turn']}\\n {label}\" for label, df in examples.items() for _, row in df.iterrows()])\n",
        "\n",
        "print(few_shot_examples)"
      ],
      "metadata": {
        "colab": {
          "base_uri": "https://localhost:8080/"
        },
        "outputId": "c3a6a33d-e799-4242-a290-b311ad17d711",
        "id": "A-qeouLSEse-"
      },
      "execution_count": null,
      "outputs": [
        {
          "output_type": "stream",
          "name": "stdout",
          "text": [
            " What tools do I need to build a worm compost system?\n",
            " fact\n",
            " There are different types of worms, can you tell what the types are and what they are good for? \n",
            " fact\n",
            " Doesn't the change in color to brown mean that the pods are dying or unhealthy?\n",
            " fact\n",
            " I am confused by your response. Would you please rephrase? \n",
            " fact\n",
            " Can you tell me what a vacuum thermoflask is used for?\n",
            " fact\n",
            " How often do I need to feed the worms to feed them \"regularly\"?\n",
            " fact\n",
            " I have scrubbed as much as will come off, what is the next step I should take?\n",
            " competence\n",
            " Alright I got my tools, what now?\n",
            " competence\n",
            " Is there anything else that I need to do?\n",
            " competence\n",
            " I've let the clothes hang to dry, what should I do next? \n",
            " competence\n",
            " So after they turn brown and I've left some stem on the pods, what is after that?\n",
            " competence\n",
            " I've take care of that, what can I do next? \n",
            " competence\n"
          ]
        }
      ]
    },
    {
      "cell_type": "code",
      "source": [
        "for label, count in example_counts.items():\n",
        "  print(f\"Label: {label}: {count}\")"
      ],
      "metadata": {
        "colab": {
          "base_uri": "https://localhost:8080/"
        },
        "outputId": "972c3c79-8387-4956-e2cb-d9be6f998244",
        "id": "AfNFsW-IEse-"
      },
      "execution_count": null,
      "outputs": [
        {
          "output_type": "stream",
          "name": "stdout",
          "text": [
            "Label: fact: 6\n",
            "Label: competence: 6\n"
          ]
        }
      ]
    },
    {
      "cell_type": "code",
      "source": [
        "# Platzhalter wird durch few shots ersetzt\n",
        "prompt_few_level_0 = prompt_few_level_0.replace(\"{few_shot_examples}\", few_shot_examples)"
      ],
      "metadata": {
        "id": "Z3Fh9WufEse_"
      },
      "execution_count": null,
      "outputs": []
    },
    {
      "cell_type": "code",
      "source": [
        "pred_labels_few_level_0 = []\n",
        "\n",
        "for turn, role in zip(turns, roles):\n",
        "  if role == 'student':\n",
        "    label = annotate(client, model, prompt_few_level_0, turn)\n",
        "    if label:\n",
        "      print(f\"Turn: {turn}\\nLabel: {label}\\n\")\n",
        "      pred_labels_few_level_0.append(label.lower())\n",
        "    else:\n",
        "      pred_labels_few_level_0.append(\"Fehler bei Anfrage\")\n",
        "  else:\n",
        "      # turns von teacher überspringen, da diese nicht gelabelt werden; nur für Kontext da\n",
        "      continue"
      ],
      "metadata": {
        "colab": {
          "base_uri": "https://localhost:8080/"
        },
        "outputId": "1f8d0aa9-b4dc-4b66-8e9e-73a9ae484d0a",
        "id": "w9zFnIveEse_"
      },
      "execution_count": null,
      "outputs": [
        {
          "output_type": "stream",
          "name": "stdout",
          "text": [
            "Turn: What are the tools and other things required for starting a bonsai tree?\n",
            "Label: fact\n",
            "\n",
            "Turn: I'm ready for the first step now please. \n",
            "Label: competence\n",
            "\n",
            "Turn: I've got an idea of where I want it to grow, what's the next step that I need to take now? \n",
            "Label: competence\n",
            "\n",
            "Turn: How do we prepare the tree? \n",
            "Label: competence\n",
            "\n",
            "Turn: Ok, I have a nice dark green pot, perfect. What should I do now?\n",
            "Label: competence\n",
            "\n",
            "Turn: Gotcha.  The tree is all ready for potting now, what's next?\n",
            "Label: competence\n",
            "\n",
            "Turn: Ok, I've prepared the tree, wired the branches as asked and followed all direction, what should I do now?\n",
            "Label: competence\n",
            "\n",
            "Turn: I've pruned and cleaned the roots, what's next?\n",
            "Label: competence\n",
            "\n",
            "Turn: How do I prepare the pot?\n",
            "Label: competence\n",
            "\n",
            "Turn: It is dry and clean, what should I do now?\n",
            "Label: competence\n",
            "\n",
            "Turn: Okay, the tree's been potted.  What now?\n",
            "Label: competence\n",
            "\n",
            "Turn: Thanks for the tips, is there anything else I need to know or do?\n",
            "Label: fact\n",
            "\n",
            "Turn: I have some good seeds, what is the next step I should take?\n",
            "Label: competence\n",
            "\n",
            "Turn: What should I do after the seeds germinate?\n",
            "Label: competence\n",
            "\n",
            "Turn: What do I do after I plant the germinated seeds?\n",
            "Label: competence\n",
            "\n",
            "Turn: Any specific growing medium I need for my seeds?\n",
            "Label: fact\n",
            "\n",
            "Turn: I have pot picked out, what should I do next?\n",
            "Label: competence\n",
            "\n",
            "Turn: After following the steps in the shared content, what should I do next?\n",
            "Label: competence\n",
            "\n",
            "Turn: Basil is so fragrant. I love it. \n",
            "Label: fact\n",
            "\n",
            "Turn: There are so many kinds, what do you recommend?\n",
            "Label: fact\n",
            "\n",
            "Turn: Good to know!  What tools might I need to grow some basil of my own?\n",
            "Label: fact\n",
            "\n",
            "Turn: Uh, I don't get it. Can you please tell me about the tools that I'll need?\n",
            "Label: fact\n",
            "\n",
            "Turn: Gotcha!  Once I have all those tools, what do I need to do to get started growing the basil?\n",
            "Label: competence\n",
            "\n",
            "Turn: Okay.  I've got the basil I want to grow picked out.  What should I do next?\n",
            "Label: competence\n",
            "\n",
            "Turn: Does that mean basil grows best in the spring and summer?\n",
            "Label: fact\n",
            "\n",
            "Turn: This seems very accurate. So, now that I know I'm starting at the right time, what should I do?\n",
            "Label: competence\n",
            "\n",
            "Turn: Which is the best place to place the container the plant is seeded\n",
            "Label: competence\n",
            "\n",
            "Turn: How long does it take for the basil to grow?\n",
            "Label: fact\n",
            "\n",
            "Turn: Is there a way to cut them after they grow?\n",
            "Label: competence\n",
            "\n",
            "Turn: When should I cut the basil leaves?\n",
            "Label: competence\n",
            "\n",
            "Turn: Now what step do I need to take to start this process? \n",
            "Label: competence\n",
            "\n",
            "Turn: Okay, now what should I do after that? \n",
            "Label: competence\n",
            "\n",
            "Turn: Can i u se other oily substance to loosen zipper? \n",
            "Label: fact\n",
            "\n",
            "Turn: I don't really have access to those right now but i have some beeswax lipbalm that is mostly beeswax. Where do I apply it to the zipper to unstick it?\n",
            "Label: competence\n",
            "\n",
            "Turn: what tool I need to use after that?\n",
            "Label: competence\n",
            "\n",
            "Turn: All right. I guess I was wondering what the next step after lubricating the zipper was.\n",
            "Label: competence\n",
            "\n",
            "Turn: What should I do after rinsing the zipper?\n",
            "Label: competence\n",
            "\n",
            "Turn: What should I do after washing and scrubbing the zipper?\n",
            "Label: competence\n",
            "\n",
            "Turn: I have rubbed the zipper with he toothbrush, what should I do now?\n",
            "Label: competence\n",
            "\n",
            "Turn: I have a lubricant, is there anything else that I should do?\n",
            "Label: fact\n",
            "\n",
            "Turn: Good to know!  Any other steps you could share?\n",
            "Label: fact\n",
            "\n",
            "Turn: Why do engines overheat in the first place?\n",
            "Label: fact\n",
            "\n",
            "Turn: Good to know!  So what tools will be needed for me to stop the engine overheating?\n",
            "Label: fact\n",
            "\n",
            "Turn: That's very informative!  I followed the steps you outlined.  What do I need to do now?\n",
            "Label: competence\n",
            "\n",
            "Turn: I have pulled over, is there another step I can take to troubleshoot this issue?\n",
            "Label: competence\n",
            "\n",
            "Turn: What exactly is decoupage?\n",
            "Label: fact\n",
            "\n",
            "Turn: Oh ok, thanks for that! Sounds fun! What do I need to get started?\n",
            "Label: fact\n",
            "\n",
            "Turn: what is decoupage? \n",
            "Label: fact\n",
            "\n",
            "Turn: This looks like a typing error. Anyway, I'm getting my tools together and I'm not sure about the glue. Do I have to use a particular type of crafting glue to do this project?\n",
            "Label: fact\n",
            "\n",
            "Turn: what do I do next to get started\n",
            "Label: competence\n",
            "\n",
            "Turn: Okay, I threw a couple layers of newspaper down.  What should I do now?\n",
            "Label: competence\n",
            "\n",
            "Turn: What is the easiest type of material to apply?\n",
            "Label: fact\n",
            "\n",
            "Turn: I'll ask for next to follow\n",
            "Label: competence\n",
            "\n",
            "Turn: If I could only choose one thing to decoupage what would be the best choice?  I want to make sure I'm getting the best results!\n",
            "Label: fact\n",
            "\n",
            "Turn: Can I reverse the process if I make a mistake?\n",
            "Label: competence\n",
            "\n",
            "Turn: I decided to decoupage a small box, it seems like a good starter project to practice on. So I have my materials, my item (small box), and some newspaper down. How should I set up my work station and proceed?\n",
            "Label: competence\n",
            "\n",
            "Turn: Are there any difficult instructions?\n",
            "Label: fact\n",
            "\n",
            "Turn: Okay, I picked out a surface!  What should I do next?\n",
            "Label: competence\n",
            "\n",
            "Turn: Sounds easy enough!  I cut the material to fit the surface of the object I'm using.  What should I do next?\n",
            "Label: competence\n",
            "\n",
            "Turn: I have the glue in the bowl, what should I do next?\n",
            "Label: competence\n",
            "\n",
            "Turn: I have the surface covered, what should I do next?\n",
            "Label: competence\n",
            "\n",
            "Turn: Ok. Once thats done, how long should I let it dry for?\n",
            "Label: competence\n",
            "\n",
            "Turn: Now that I've let that dry, what's the next step I should take? \n",
            "Label: competence\n",
            "\n",
            "Turn: Okay, I‚Äôve put on another layer of glue. Now do I do the paper?\n",
            "Label: competence\n",
            "\n",
            "Turn: Okay, now what should I do next? \n",
            "Label: competence\n",
            "\n",
            "Turn: Is the cheapest way to fertilize a garden with compost from my kitchen?\n",
            "Label: fact\n",
            "\n",
            "Turn: I'm not sure if you understood my previous question.  Could you try answering again?\n",
            "Label: competence\n",
            "\n",
            "Turn: We'll go with coffee, because I always have that around the house!  So how do I get started fertilizing?\n",
            "Label: competence\n",
            "\n",
            "Turn: That's so helpful!  I've dried the grounds and spread them around.  Is that it?\n",
            "Label: competence\n",
            "\n",
            "Turn: I don't have a coffee grinder. Can I crush the shells by hand? How fine do they have to be?\n",
            "Label: competence\n",
            "\n",
            "Turn: I'm sorry, I got confused.  I obviously have a grinder because I already spread coffee grounds around.  Are there any other tips you could share?\n",
            "Label: fact\n",
            "\n",
            "Turn: Great, I will use a banana peel because I don't want to waste food. Is there anything else I should do?\n",
            "Label: competence\n",
            "\n",
            "Turn: You already said that earlier, but thanks!  Any new tips?\n",
            "Label: fact\n",
            "\n",
            "Turn: I don't know what epsom salts are.  Can you tell me what they are?\n",
            "Label: fact\n",
            "\n",
            "Turn: What type of tools am I going to need for this? \n",
            "Label: fact\n",
            "\n",
            "Turn: If there are no tools needed, then how do I decide how to make the purchase?\n",
            "Label: fact\n",
            "\n",
            "Turn: What is the cord going to be used for?\n",
            "Label: fact\n",
            "\n",
            "Turn: What type of mattress is good for side sleepers? \n",
            "Label: fact\n",
            "\n",
            "Turn: Yes. How do I determine what is a good quality mattress when I'm in the store?\n",
            "Label: fact\n",
            "\n",
            "Turn: Are mattress sizes all standard? \n",
            "Label: fact\n",
            "\n",
            "Turn: What is memory foam made out of?\n",
            "Label: fact\n",
            "\n",
            "Turn: What are the benefits of high-density foam?\n",
            "Label: fact\n",
            "\n",
            "Turn: Why is memory foam a popular mattress choice? \n",
            "Label: fact\n",
            "\n",
            "Turn: Ok thank you. Anything else I should know before finishing up?\n",
            "Label: fact\n",
            "\n",
            "Turn: What tools do I need to grow elephant ear plants?\n",
            "Label: fact\n",
            "\n",
            "Turn: If the temperatures are still cold in the spring should I plant this indoors?\n",
            "Label: fact\n",
            "\n",
            "Turn: It's pretty cold here already. What type of potting soil will I need to plant indoors?\n",
            "Label: fact\n",
            "\n",
            "Turn: Can I propagate the Elephant Ear Plant from a plant I already have or do I need to purchase them?\n",
            "Label: fact\n",
            "\n",
            "Turn: Great, so for an indoor start, I have my plant and pot and correct acidity of planting medium. What should I do?\n",
            "Label: competence\n",
            "\n",
            "Turn: I've picked out a great spot with the right amount of indirect light. What should I do now?\n",
            "Label: competence\n",
            "\n",
            "Turn: How should I start planting once I've found the right spot?\n",
            "Label: competence\n",
            "\n",
            "Turn: I have dug a drainage hole and am ready to plant my elephant ear plant, how should I begin?\n",
            "Label: competence\n",
            "\n",
            "Turn: Now I have checked the ph level, what should I do next?\n",
            "Label: competence\n",
            "\n",
            "Turn: Ok, once the holes are dug can I put the plants right in?\n",
            "Label: competence\n",
            "\n",
            "Turn: I'm done digging, what do i do with the bulbs?\n",
            "Label: competence\n",
            "\n",
            "Turn: Alright, I've pressed my bulbs down firmly, flat-end down. What now?\n",
            "Label: competence\n",
            "\n",
            "Turn: How often should I be watering my plant?\n",
            "Label: fact\n",
            "\n",
            "Turn: Okay and I've kept the soil moist, what can I do next? \n",
            "Label: competence\n",
            "\n",
            "Turn: Why shouldn't I place my marker directly over the bulb?\n",
            "Label: fact\n",
            "\n",
            "Turn: Okay and is there another step that I should take after this? \n",
            "Label: competence\n",
            "\n",
            "Turn: It took the full three weeks but I'm finally seeing some sprouts. How do I nurture them?\n",
            "Label: competence\n",
            "\n",
            "Turn: What should I do after watering the plat's roots in the morning?\n",
            "Label: competence\n",
            "\n",
            "Turn: What should I do outside of adding slow-release fertilizer once a month?\n",
            "Label: fact\n",
            "\n",
            "Turn: What type of climate do African violets grow in? \n",
            "Label: fact\n",
            "\n",
            "Turn: What tools do I need to grow African violets?\n",
            "Label: fact\n",
            "\n",
            "Turn: Could you specify how much cement I'll need?\n",
            "Label: fact\n",
            "\n",
            "Turn: I have gathered the cement and other supplies, what should I do next?\n",
            "Label: competence\n",
            "\n",
            "Turn: Alright I have got water and my plant what‚Äôs next?\n",
            "Label: competence\n",
            "\n",
            "Turn: I went for the easier directions and put the leaf directly into the soil. So I just wait for it to take root?\n",
            "Label: competence\n",
            "\n",
            "Turn: What is the best place I can get these types of seeds?\n",
            "Label: fact\n",
            "\n",
            "Turn: Gotcha, I picked them up from the nursery by my house.  What should I do now?\n",
            "Label: competence\n",
            "\n",
            "Turn: What tool do I need to test the soil pH?\n",
            "Label: fact\n",
            "\n",
            "Turn: Why do i need to check the PH level of soil? \n",
            "Label: fact\n",
            "\n",
            "Turn: The ph level is good, what's next?\n",
            "Label: competence\n",
            "\n",
            "Turn: Alright I separated the plants, what now?\n",
            "Label: competence\n",
            "\n",
            "Turn: Now I've got several baby violet plants in their own small pots with violet potting medium. What should I do with them next?\n",
            "Label: competence\n",
            "\n",
            "Turn: They have a good home, now what step should I take next? \n",
            "Label: competence\n",
            "\n",
            "Turn: How frequently will the soil get dry?\n",
            "Label: fact\n",
            "\n",
            "Turn: If heavy sunlight dries out the soil should I keep it away from direct light?\n",
            "Label: fact\n",
            "\n",
            "Turn: Okay and they have light, so now what is the next step I can take? \n",
            "Label: competence\n",
            "\n",
            "Turn: Yes it should have plenty of light, so what‚Äôs next?\n",
            "Label: competence\n",
            "\n",
            "Turn: I've got a time that I want to fertilize, what else can I do now? \n",
            "Label: fact\n",
            "\n",
            "Turn: What should I do after monitoring and maintaining their temperature and humidity?\n",
            "Label: competence\n",
            "\n"
          ]
        }
      ]
    },
    {
      "cell_type": "code",
      "source": [
        "# von GPT-3 generierte Labels als neue Spalte zu df hinzufügen\n",
        "test_df_st['pred_label_few_level_0'] = pred_labels_few_level_0"
      ],
      "metadata": {
        "id": "4fA0ZOQFEsfA"
      },
      "execution_count": null,
      "outputs": []
    },
    {
      "cell_type": "code",
      "source": [
        "# Vergleich GPT Labels mit manuellen Labels -> neue Spalte agreement = direkte Übereinstimmung: wahr/falsch\n",
        "test_df_st['agreement_few_level_0'] = test_df_st['label_0'] == test_df_st['pred_label_few_level_0']"
      ],
      "metadata": {
        "id": "3LZf72EQEsfA"
      },
      "execution_count": null,
      "outputs": []
    },
    {
      "cell_type": "code",
      "source": [
        "# Labels extrahieren, true sind manuelle und pred die von gpt 3\n",
        "pred_labels_few_level_0 = test_df_st['pred_label_few_level_0']"
      ],
      "metadata": {
        "id": "sBzppkjAEsfB"
      },
      "execution_count": null,
      "outputs": []
    },
    {
      "cell_type": "code",
      "source": [
        "# Berechnung Precision, Recall und F1-Score für jedes Label\n",
        "precision = precision_score(true_labels_level_0, pred_labels_few_level_0, average=None, labels=labels_level_0)\n",
        "recall = recall_score(true_labels_level_0, pred_labels_few_level_0, average=None, labels=labels_level_0)\n",
        "f1 = f1_score(true_labels_level_0, pred_labels_few_level_0, average=None, labels=labels_level_0)"
      ],
      "metadata": {
        "id": "H2BWvvrcEsfB"
      },
      "execution_count": null,
      "outputs": []
    },
    {
      "cell_type": "code",
      "source": [
        "report = classification_report(true_labels_level_0, pred_labels_few_level_0, labels=labels_level_0)\n",
        "print(report)"
      ],
      "metadata": {
        "colab": {
          "base_uri": "https://localhost:8080/"
        },
        "outputId": "bb9f29de-aadd-4c64-a243-dc90456063b8",
        "id": "rWPCBPe2EsfC"
      },
      "execution_count": null,
      "outputs": [
        {
          "output_type": "stream",
          "name": "stdout",
          "text": [
            "              precision    recall  f1-score   support\n",
            "\n",
            "        fact       0.84      0.90      0.87        48\n",
            "  competence       0.93      0.89      0.91        75\n",
            "\n",
            "    accuracy                           0.89       123\n",
            "   macro avg       0.89      0.89      0.89       123\n",
            "weighted avg       0.90      0.89      0.89       123\n",
            "\n"
          ]
        }
      ]
    },
    {
      "cell_type": "code",
      "source": [
        "# Berechnung Cohen's Kappa\n",
        "kappa = cohen_kappa_score(true_labels_level_0, pred_labels_few_level_0, labels=labels_level_0)\n",
        "print(f\"Cohen's Kappa: {kappa:.2f}\")"
      ],
      "metadata": {
        "colab": {
          "base_uri": "https://localhost:8080/"
        },
        "outputId": "e9c31784-d0c9-4215-c455-e511a81ded36",
        "id": "eNarhoNTEsfD"
      },
      "execution_count": null,
      "outputs": [
        {
          "output_type": "stream",
          "name": "stdout",
          "text": [
            "Cohen's Kappa: 0.78\n"
          ]
        }
      ]
    },
    {
      "cell_type": "code",
      "source": [
        "test_df_st.to_excel('GPT3_Few_Level0.xlsx', index=False)\n",
        "test_df_st = reset_test_df_st.copy()"
      ],
      "metadata": {
        "id": "m7upqWJIiUIx"
      },
      "execution_count": null,
      "outputs": []
    },
    {
      "cell_type": "markdown",
      "source": [
        "#### Ändern der Reihenfolge"
      ],
      "metadata": {
        "id": "l3fwb6UcEsfD"
      }
    },
    {
      "cell_type": "markdown",
      "source": [
        "Nun wird getestet, ob die Reihenfolge der few shots einen Einfluss auf die Performance des Modells hat. Da die eigentliche Anzahl an Permutationen zu groß wäre, wenn jedes Few-Shot Beispiel einzeln betrachtet werden würde (benötigte Rechenleistung zu hoch, wenn alle Möglichkeiten der Reihenfolgen getestet werden würden), wird nur die Reihenfolge der beiden Kategorien als Ganzes getestet."
      ],
      "metadata": {
        "id": "B-t94CuJEsfD"
      }
    },
    {
      "cell_type": "code",
      "source": [
        "list_few_shots = list(examples.keys())\n",
        "\n",
        "# Anzahl aller möglichen Permutationen\n",
        "num_labels_level_0 = len(labels_level_0)\n",
        "num_permut = math.factorial(num_labels_level_0)\n",
        "print(f\"Anzahl möglicher Permutationen: {num_permut}\")\n",
        "\n",
        "permut_few_shots = list(itertools.permutations(list_few_shots))\n",
        "print(f\"Anzahl zu testende Permutationen: {len(permut_few_shots)}\")"
      ],
      "metadata": {
        "colab": {
          "base_uri": "https://localhost:8080/"
        },
        "outputId": "fc1976eb-a2d4-434a-d9fa-c767e102c83a",
        "id": "eUU3bGgmEsfD"
      },
      "execution_count": null,
      "outputs": [
        {
          "output_type": "stream",
          "name": "stdout",
          "text": [
            "Anzahl möglicher Permutationen: 2\n",
            "Anzahl zu testende Permutationen: 2\n"
          ]
        }
      ]
    },
    {
      "cell_type": "code",
      "source": [
        "def metrics(true_labels, pred_labels):\n",
        "  precision = precision_score(true_labels, pred_labels, average='weighted', zero_division=0)\n",
        "  recall = recall_score(true_labels, pred_labels, average='weighted', zero_division=0)\n",
        "  f1 = f1_score(true_labels, pred_labels, average='weighted', zero_division=0)\n",
        "  return precision, recall, f1\n",
        "\n",
        "results_permut_few_shots = []\n",
        "\n",
        "for permut in permut_few_shots:\n",
        "  # few shot Beispiele pro Permutation\n",
        "  permuted_few_shot_examples = \"\\n\".join([f\" {row['turn']}\\n {label}\" for label in permut for _, row in examples[label].iterrows()])\n",
        "  # few shot Beispiele im Prompt aktualisieren\n",
        "  current_prompt = prompt_few_level_0.replace(\"{few_shot_examples}\", permuted_few_shot_examples)\n",
        "  # nun wieder normaler Ablauf der Annotation\n",
        "  pred_labels_few_level_0 = []\n",
        "\n",
        "  for turn, role in zip(turns, roles):\n",
        "    if role == 'student':\n",
        "      label = annotate(client, model, current_prompt, turn)\n",
        "      if label:\n",
        "        pred_labels_few_level_0.append(label.lower())\n",
        "      else:\n",
        "        pred_labels_few_level_0.append(\"Fehler bei Anfrage\")\n",
        "\n",
        "    else:\n",
        "      # turns von teacher überspringen, da diese nicht gelabelt werden; nur für Kontext da\n",
        "      continue\n",
        "\n",
        "  # Precision, Recall und F1 pro Permutationen, damit Performance vergleichbar\n",
        "  p, r, f1 = metrics(true_labels_level_0, pred_labels_few_level_0)\n",
        "\n",
        "  # Ergebnisse speichern\n",
        "  results_permut_few_shots.append({'permutation': permut, 'precision': p, 'recall': r, 'f1_score': f1})\n",
        "\n",
        "# Performance-Ergebnisse der verschiedenen Reihenfolgen\n",
        "results_permut_few_shots_df = pd.DataFrame(results_permut_few_shots)\n",
        "\n",
        "precision_mean = results_permut_few_shots_df['precision'].mean()\n",
        "recall_mean = results_permut_few_shots_df['recall'].mean()\n",
        "f1_mean = results_permut_few_shots_df['f1_score'].mean()\n",
        "# um zu sehen wie stark das Modell zwischen Permutationen schwankt\n",
        "precision_std = results_permut_few_shots_df['precision'].std()\n",
        "recall_std_ = results_permut_few_shots_df['recall'].std()\n",
        "f1_std = results_permut_few_shots_df['f1_score'].std()\n",
        "\n",
        "print(f\"Durchschnitt Precision: {precision_mean:.3f} ± {precision_std:.3f}\")\n",
        "print(f\"Durchschnitt Recall: {recall_mean:.3f} ± {recall_std_:.3f}\")\n",
        "print(f\"Durchschnitt F1-Score: {f1_mean:.3f} ± {f1_std:.3f}\")"
      ],
      "metadata": {
        "colab": {
          "base_uri": "https://localhost:8080/"
        },
        "outputId": "d27e88fe-aaaa-4d8a-9c2a-c5c6249ac594",
        "id": "zchMy9jaEsfE"
      },
      "execution_count": null,
      "outputs": [
        {
          "output_type": "stream",
          "name": "stdout",
          "text": [
            "Durchschnitt Precision: 0.908 ± 0.006\n",
            "Durchschnitt Recall: 0.907 ± 0.006\n",
            "Durchschnitt F1-Score: 0.907 ± 0.006\n"
          ]
        }
      ]
    },
    {
      "cell_type": "code",
      "source": [
        "# Permutation mit bestem f1\n",
        "best_permutation = results_permut_few_shots_df.loc[results_permut_few_shots_df['f1_score'].idxmax()]\n",
        "print(\"Beste Reihenfolge:\", best_permutation['permutation'])\n",
        "print(f\"Precision: {best_permutation['precision']:.3f}, Recall: {best_permutation['recall']:.3f}, F1-Score: {best_permutation['f1_score']:.3f}\")\n"
      ],
      "metadata": {
        "colab": {
          "base_uri": "https://localhost:8080/"
        },
        "outputId": "57f3af73-1db4-4a66-e7e0-d5efed072fa0",
        "id": "aNK-Yr7aEsfF"
      },
      "execution_count": null,
      "outputs": [
        {
          "output_type": "stream",
          "name": "stdout",
          "text": [
            "Beste Reihenfolge: ('competence', 'fact')\n",
            "Precision: 0.913, Recall: 0.911, F1-Score: 0.911\n"
          ]
        }
      ]
    },
    {
      "cell_type": "code",
      "source": [
        "best_order_label = best_permutation['permutation']\n",
        "\n",
        "# few shots in dieser Reihenfolge\n",
        "best_order_few_shot_examples = \"\\n\".join([f\" {row['turn']}\\n {label}\" for label in best_order_label for _, row in examples[label].iterrows()])\n",
        "\n",
        "# few shots in Prompt einsetzen\n",
        "final_prompt = prompt_few_level_0.replace(\"{few_shot_examples}\", best_order_few_shot_examples)\n",
        "\n",
        "# jetzt wieder Annotation\n",
        "final_pred_labels_few_level_0 = []\n",
        "\n",
        "for turn, role in zip(turns, roles):\n",
        "  if role == 'student':\n",
        "    label = annotate(client, model, final_prompt, turn)\n",
        "    if label:\n",
        "      print(f\"Turn: {turn}\\nLabel: {label}\\n\")\n",
        "      final_pred_labels_few_level_0.append(label.lower())\n",
        "    else:\n",
        "      final_pred_labels_few_level_0.append(\"Fehler bei Anfrage\")\n",
        "  else:\n",
        "       # turns von teacher überspringen, da diese nicht gelabelt werden; nur für Kontext da\n",
        "      continue"
      ],
      "metadata": {
        "colab": {
          "base_uri": "https://localhost:8080/"
        },
        "outputId": "ea467bb8-2fe9-4464-e8ce-b511012b8810",
        "id": "PtFj9H6uEsfF"
      },
      "execution_count": null,
      "outputs": [
        {
          "output_type": "stream",
          "name": "stdout",
          "text": [
            "Turn: What are the tools and other things required for starting a bonsai tree?\n",
            "Label: fact\n",
            "\n",
            "Turn: I'm ready for the first step now please. \n",
            "Label: competence\n",
            "\n",
            "Turn: I've got an idea of where I want it to grow, what's the next step that I need to take now? \n",
            "Label: competence\n",
            "\n",
            "Turn: How do we prepare the tree? \n",
            "Label: competence\n",
            "\n",
            "Turn: Ok, I have a nice dark green pot, perfect. What should I do now?\n",
            "Label: competence\n",
            "\n",
            "Turn: Gotcha.  The tree is all ready for potting now, what's next?\n",
            "Label: competence\n",
            "\n",
            "Turn: Ok, I've prepared the tree, wired the branches as asked and followed all direction, what should I do now?\n",
            "Label: competence\n",
            "\n",
            "Turn: I've pruned and cleaned the roots, what's next?\n",
            "Label: competence\n",
            "\n",
            "Turn: How do I prepare the pot?\n",
            "Label: competence\n",
            "\n",
            "Turn: It is dry and clean, what should I do now?\n",
            "Label: competence\n",
            "\n",
            "Turn: Okay, the tree's been potted.  What now?\n",
            "Label: competence\n",
            "\n",
            "Turn: Thanks for the tips, is there anything else I need to know or do?\n",
            "Label: fact\n",
            "\n",
            "Turn: I have some good seeds, what is the next step I should take?\n",
            "Label: competence\n",
            "\n",
            "Turn: What should I do after the seeds germinate?\n",
            "Label: competence\n",
            "\n",
            "Turn: What do I do after I plant the germinated seeds?\n",
            "Label: competence\n",
            "\n",
            "Turn: Any specific growing medium I need for my seeds?\n",
            "Label: fact\n",
            "\n",
            "Turn: I have pot picked out, what should I do next?\n",
            "Label: competence\n",
            "\n",
            "Turn: After following the steps in the shared content, what should I do next?\n",
            "Label: competence\n",
            "\n",
            "Turn: Basil is so fragrant. I love it. \n",
            "Label: fact\n",
            "\n",
            "Turn: There are so many kinds, what do you recommend?\n",
            "Label: fact\n",
            "\n",
            "Turn: Good to know!  What tools might I need to grow some basil of my own?\n",
            "Label: fact\n",
            "\n",
            "Turn: Uh, I don't get it. Can you please tell me about the tools that I'll need?\n",
            "Label: fact\n",
            "\n",
            "Turn: Gotcha!  Once I have all those tools, what do I need to do to get started growing the basil?\n",
            "Label: competence\n",
            "\n",
            "Turn: Okay.  I've got the basil I want to grow picked out.  What should I do next?\n",
            "Label: competence\n",
            "\n",
            "Turn: Does that mean basil grows best in the spring and summer?\n",
            "Label: fact\n",
            "\n",
            "Turn: This seems very accurate. So, now that I know I'm starting at the right time, what should I do?\n",
            "Label: competence\n",
            "\n",
            "Turn: Which is the best place to place the container the plant is seeded\n",
            "Label: competence\n",
            "\n",
            "Turn: How long does it take for the basil to grow?\n",
            "Label: fact\n",
            "\n",
            "Turn: Is there a way to cut them after they grow?\n",
            "Label: competence\n",
            "\n",
            "Turn: When should I cut the basil leaves?\n",
            "Label: competence\n",
            "\n",
            "Turn: Now what step do I need to take to start this process? \n",
            "Label: competence\n",
            "\n",
            "Turn: Okay, now what should I do after that? \n",
            "Label: competence\n",
            "\n",
            "Turn: Can i u se other oily substance to loosen zipper? \n",
            "Label: fact\n",
            "\n",
            "Turn: I don't really have access to those right now but i have some beeswax lipbalm that is mostly beeswax. Where do I apply it to the zipper to unstick it?\n",
            "Label: competence\n",
            "\n",
            "Turn: what tool I need to use after that?\n",
            "Label: competence\n",
            "\n",
            "Turn: All right. I guess I was wondering what the next step after lubricating the zipper was.\n",
            "Label: competence\n",
            "\n",
            "Turn: What should I do after rinsing the zipper?\n",
            "Label: competence\n",
            "\n",
            "Turn: What should I do after washing and scrubbing the zipper?\n",
            "Label: competence\n",
            "\n",
            "Turn: I have rubbed the zipper with he toothbrush, what should I do now?\n",
            "Label: competence\n",
            "\n",
            "Turn: I have a lubricant, is there anything else that I should do?\n",
            "Label: fact\n",
            "\n",
            "Turn: Good to know!  Any other steps you could share?\n",
            "Label: competence\n",
            "\n",
            "Turn: Why do engines overheat in the first place?\n",
            "Label: fact\n",
            "\n",
            "Turn: Good to know!  So what tools will be needed for me to stop the engine overheating?\n",
            "Label: fact\n",
            "\n",
            "Turn: That's very informative!  I followed the steps you outlined.  What do I need to do now?\n",
            "Label: competence\n",
            "\n",
            "Turn: I have pulled over, is there another step I can take to troubleshoot this issue?\n",
            "Label: competence\n",
            "\n",
            "Turn: What exactly is decoupage?\n",
            "Label: fact\n",
            "\n",
            "Turn: Oh ok, thanks for that! Sounds fun! What do I need to get started?\n",
            "Label: fact\n",
            "\n",
            "Turn: what is decoupage? \n",
            "Label: fact\n",
            "\n",
            "Turn: This looks like a typing error. Anyway, I'm getting my tools together and I'm not sure about the glue. Do I have to use a particular type of crafting glue to do this project?\n",
            "Label: fact\n",
            "\n",
            "Turn: what do I do next to get started\n",
            "Label: competence\n",
            "\n",
            "Turn: Okay, I threw a couple layers of newspaper down.  What should I do now?\n",
            "Label: competence\n",
            "\n",
            "Turn: What is the easiest type of material to apply?\n",
            "Label: fact\n",
            "\n",
            "Turn: I'll ask for next to follow\n",
            "Label: competence\n",
            "\n",
            "Turn: If I could only choose one thing to decoupage what would be the best choice?  I want to make sure I'm getting the best results!\n",
            "Label: fact\n",
            "\n",
            "Turn: Can I reverse the process if I make a mistake?\n",
            "Label: competence\n",
            "\n",
            "Turn: I decided to decoupage a small box, it seems like a good starter project to practice on. So I have my materials, my item (small box), and some newspaper down. How should I set up my work station and proceed?\n",
            "Label: competence\n",
            "\n",
            "Turn: Are there any difficult instructions?\n",
            "Label: fact\n",
            "\n",
            "Turn: Okay, I picked out a surface!  What should I do next?\n",
            "Label: competence\n",
            "\n",
            "Turn: Sounds easy enough!  I cut the material to fit the surface of the object I'm using.  What should I do next?\n",
            "Label: competence\n",
            "\n",
            "Turn: I have the glue in the bowl, what should I do next?\n",
            "Label: competence\n",
            "\n",
            "Turn: I have the surface covered, what should I do next?\n",
            "Label: competence\n",
            "\n",
            "Turn: Ok. Once thats done, how long should I let it dry for?\n",
            "Label: fact\n",
            "\n",
            "Turn: Now that I've let that dry, what's the next step I should take? \n",
            "Label: competence\n",
            "\n",
            "Turn: Okay, I‚Äôve put on another layer of glue. Now do I do the paper?\n",
            "Label: competence\n",
            "\n",
            "Turn: Okay, now what should I do next? \n",
            "Label: competence\n",
            "\n",
            "Turn: Is the cheapest way to fertilize a garden with compost from my kitchen?\n",
            "Label: fact\n",
            "\n",
            "Turn: I'm not sure if you understood my previous question.  Could you try answering again?\n",
            "Label: competence\n",
            "\n",
            "Turn: We'll go with coffee, because I always have that around the house!  So how do I get started fertilizing?\n",
            "Label: competence\n",
            "\n",
            "Turn: That's so helpful!  I've dried the grounds and spread them around.  Is that it?\n",
            "Label: competence\n",
            "\n",
            "Turn: I don't have a coffee grinder. Can I crush the shells by hand? How fine do they have to be?\n",
            "Label: competence\n",
            "\n",
            "Turn: I'm sorry, I got confused.  I obviously have a grinder because I already spread coffee grounds around.  Are there any other tips you could share?\n",
            "Label: fact\n",
            "\n",
            "Turn: Great, I will use a banana peel because I don't want to waste food. Is there anything else I should do?\n",
            "Label: competence\n",
            "\n",
            "Turn: You already said that earlier, but thanks!  Any new tips?\n",
            "Label: fact\n",
            "\n",
            "Turn: I don't know what epsom salts are.  Can you tell me what they are?\n",
            "Label: fact\n",
            "\n",
            "Turn: What type of tools am I going to need for this? \n",
            "Label: fact\n",
            "\n",
            "Turn: If there are no tools needed, then how do I decide how to make the purchase?\n",
            "Label: fact\n",
            "\n",
            "Turn: What is the cord going to be used for?\n",
            "Label: fact\n",
            "\n",
            "Turn: What type of mattress is good for side sleepers? \n",
            "Label: fact\n",
            "\n",
            "Turn: Yes. How do I determine what is a good quality mattress when I'm in the store?\n",
            "Label: fact\n",
            "\n",
            "Turn: Are mattress sizes all standard? \n",
            "Label: fact\n",
            "\n",
            "Turn: What is memory foam made out of?\n",
            "Label: fact\n",
            "\n",
            "Turn: What are the benefits of high-density foam?\n",
            "Label: fact\n",
            "\n",
            "Turn: Why is memory foam a popular mattress choice? \n",
            "Label: fact\n",
            "\n",
            "Turn: Ok thank you. Anything else I should know before finishing up?\n",
            "Label: fact\n",
            "\n",
            "Turn: What tools do I need to grow elephant ear plants?\n",
            "Label: fact\n",
            "\n",
            "Turn: If the temperatures are still cold in the spring should I plant this indoors?\n",
            "Label: fact\n",
            "\n",
            "Turn: It's pretty cold here already. What type of potting soil will I need to plant indoors?\n",
            "Label: fact\n",
            "\n",
            "Turn: Can I propagate the Elephant Ear Plant from a plant I already have or do I need to purchase them?\n",
            "Label: fact\n",
            "\n",
            "Turn: Great, so for an indoor start, I have my plant and pot and correct acidity of planting medium. What should I do?\n",
            "Label: competence\n",
            "\n",
            "Turn: I've picked out a great spot with the right amount of indirect light. What should I do now?\n",
            "Label: competence\n",
            "\n",
            "Turn: How should I start planting once I've found the right spot?\n",
            "Label: competence\n",
            "\n",
            "Turn: I have dug a drainage hole and am ready to plant my elephant ear plant, how should I begin?\n",
            "Label: competence\n",
            "\n",
            "Turn: Now I have checked the ph level, what should I do next?\n",
            "Label: competence\n",
            "\n",
            "Turn: Ok, once the holes are dug can I put the plants right in?\n",
            "Label: competence\n",
            "\n",
            "Turn: I'm done digging, what do i do with the bulbs?\n",
            "Label: competence\n",
            "\n",
            "Turn: Alright, I've pressed my bulbs down firmly, flat-end down. What now?\n",
            "Label: competence\n",
            "\n",
            "Turn: How often should I be watering my plant?\n",
            "Label: fact\n",
            "\n",
            "Turn: Okay and I've kept the soil moist, what can I do next? \n",
            "Label: competence\n",
            "\n",
            "Turn: Why shouldn't I place my marker directly over the bulb?\n",
            "Label: fact\n",
            "\n",
            "Turn: Okay and is there another step that I should take after this? \n",
            "Label: competence\n",
            "\n",
            "Turn: It took the full three weeks but I'm finally seeing some sprouts. How do I nurture them?\n",
            "Label: competence\n",
            "\n",
            "Turn: What should I do after watering the plat's roots in the morning?\n",
            "Label: competence\n",
            "\n",
            "Turn: What should I do outside of adding slow-release fertilizer once a month?\n",
            "Label: fact\n",
            "\n",
            "Turn: What type of climate do African violets grow in? \n",
            "Label: fact\n",
            "\n",
            "Turn: What tools do I need to grow African violets?\n",
            "Label: fact\n",
            "\n",
            "Turn: Could you specify how much cement I'll need?\n",
            "Label: fact\n",
            "\n",
            "Turn: I have gathered the cement and other supplies, what should I do next?\n",
            "Label: competence\n",
            "\n",
            "Turn: Alright I have got water and my plant what‚Äôs next?\n",
            "Label: competence\n",
            "\n",
            "Turn: I went for the easier directions and put the leaf directly into the soil. So I just wait for it to take root?\n",
            "Label: competence\n",
            "\n",
            "Turn: What is the best place I can get these types of seeds?\n",
            "Label: fact\n",
            "\n",
            "Turn: Gotcha, I picked them up from the nursery by my house.  What should I do now?\n",
            "Label: competence\n",
            "\n",
            "Turn: What tool do I need to test the soil pH?\n",
            "Label: fact\n",
            "\n",
            "Turn: Why do i need to check the PH level of soil? \n",
            "Label: fact\n",
            "\n",
            "Turn: The ph level is good, what's next?\n",
            "Label: competence\n",
            "\n",
            "Turn: Alright I separated the plants, what now?\n",
            "Label: competence\n",
            "\n",
            "Turn: Now I've got several baby violet plants in their own small pots with violet potting medium. What should I do with them next?\n",
            "Label: competence\n",
            "\n",
            "Turn: They have a good home, now what step should I take next? \n",
            "Label: competence\n",
            "\n",
            "Turn: How frequently will the soil get dry?\n",
            "Label: fact\n",
            "\n",
            "Turn: If heavy sunlight dries out the soil should I keep it away from direct light?\n",
            "Label: fact\n",
            "\n",
            "Turn: Okay and they have light, so now what is the next step I can take? \n",
            "Label: competence\n",
            "\n",
            "Turn: Yes it should have plenty of light, so what‚Äôs next?\n",
            "Label: competence\n",
            "\n",
            "Turn: I've got a time that I want to fertilize, what else can I do now? \n",
            "Label: fact\n",
            "\n",
            "Turn: What should I do after monitoring and maintaining their temperature and humidity?\n",
            "Label: competence\n",
            "\n"
          ]
        }
      ]
    },
    {
      "cell_type": "code",
      "source": [
        "# von GPT-3 generierte Labels als neue Spalte zu df hinzufügen\n",
        "test_df_st['final_pred_labels_few_level_0'] = final_pred_labels_few_level_0"
      ],
      "metadata": {
        "id": "MX-HJ2gCEsfF"
      },
      "execution_count": null,
      "outputs": []
    },
    {
      "cell_type": "code",
      "source": [
        "# Vergleich GPT Labels mit manuellen Labels -> neue Spalte agreement, direkte Übereinstimmung: wahr/falsch\n",
        "test_df_st['agreement_few_level_0'] = test_df_st['label_0'] == test_df_st['final_pred_labels_few_level_0']"
      ],
      "metadata": {
        "id": "VjtKthgxEsfF"
      },
      "execution_count": null,
      "outputs": []
    },
    {
      "cell_type": "code",
      "source": [
        "# Labels extrahieren, true sind manuelle und pred die von gpt 3\n",
        "# true_labels_level_0 wurde schon definiert\n",
        "pred_labels_few_level_0 = test_df_st['final_pred_labels_few_level_0']"
      ],
      "metadata": {
        "id": "w7EnIkgdEsfG"
      },
      "execution_count": null,
      "outputs": []
    },
    {
      "cell_type": "code",
      "source": [
        "# Berechnung Precision, Recall und F1-Score für jedes Label\n",
        "precision = precision_score(true_labels_level_0, pred_labels_few_level_0, average=None, labels=labels_level_0)\n",
        "recall = recall_score(true_labels_level_0, pred_labels_few_level_0, average=None, labels=labels_level_0)\n",
        "f1 = f1_score(true_labels_level_0, pred_labels_few_level_0, average=None, labels=labels_level_0)"
      ],
      "metadata": {
        "id": "kVg3apDEEsfG"
      },
      "execution_count": null,
      "outputs": []
    },
    {
      "cell_type": "code",
      "source": [
        "report = classification_report(true_labels_level_0, pred_labels_few_level_0, labels=labels_level_0)\n",
        "print(report)"
      ],
      "metadata": {
        "colab": {
          "base_uri": "https://localhost:8080/"
        },
        "outputId": "5e23155a-ad00-4c77-dd3d-b7c5c8db2609",
        "id": "B8CGQA9wEsfH"
      },
      "execution_count": null,
      "outputs": [
        {
          "output_type": "stream",
          "name": "stdout",
          "text": [
            "              precision    recall  f1-score   support\n",
            "\n",
            "        fact       0.86      0.92      0.89        48\n",
            "  competence       0.94      0.91      0.93        75\n",
            "\n",
            "    accuracy                           0.91       123\n",
            "   macro avg       0.90      0.91      0.91       123\n",
            "weighted avg       0.91      0.91      0.91       123\n",
            "\n"
          ]
        }
      ]
    },
    {
      "cell_type": "code",
      "source": [
        "# Berechnung Cohen's Kappa\n",
        "kappa = cohen_kappa_score(true_labels_level_0, pred_labels_few_level_0, labels=labels_level_0)\n",
        "print(f\"Cohen's Kappa: {kappa:.2f}\")"
      ],
      "metadata": {
        "colab": {
          "base_uri": "https://localhost:8080/"
        },
        "outputId": "daab2a4e-39b4-4f48-dae7-3100ba4ba520",
        "id": "XY3w7eN2EsfH"
      },
      "execution_count": null,
      "outputs": [
        {
          "output_type": "stream",
          "name": "stdout",
          "text": [
            "Cohen's Kappa: 0.81\n"
          ]
        }
      ]
    },
    {
      "cell_type": "code",
      "source": [
        "test_df_st.to_excel('GPT3_Few_Level0.xlsx', index=False)"
      ],
      "metadata": {
        "id": "3MLGoWe2VY-7"
      },
      "execution_count": null,
      "outputs": []
    },
    {
      "cell_type": "code",
      "source": [
        "test_df_st = reset_test_df_st.copy()"
      ],
      "metadata": {
        "id": "25xnOceAViMi"
      },
      "execution_count": null,
      "outputs": []
    },
    {
      "cell_type": "markdown",
      "source": [
        "### Level 1"
      ],
      "metadata": {
        "id": "MHGU0ooOVWup"
      }
    },
    {
      "cell_type": "code",
      "source": [
        "# Prompt für Few Shot Level 1\n",
        "prompt_few_level_1 = \"\"\"\n",
        "### CONTEXT ###\n",
        "The data collected consists of conversations between a conversational assistant ('role'='teacher'), who provides guidance during a do-it-yourself project, and a user ('role'='student'), who expresses statements or questions to the conversational assistant during the process.\n",
        "In order to find out which information needs the users express with this utterance (also called turn), these must be assigned to their information needs with the help of the taxonomy, i.e. annotated or classified.\n",
        "\n",
        "\n",
        "### OBJECTIVE ###\n",
        "Classify/annotate each statement of the user with one of the following labels, which represent an information need of the user. You are an expert in data annotation!\n",
        "Each label is briefly defined for better delimitation.\n",
        "\n",
        "The nine labels are as follows:\n",
        "- \"amount\": Information need regarding a quantity or frequency specification.\n",
        "- \"material\": Information need regarding the required consumables.\n",
        "- \"preparation\": Information need regarding the steps of the process, including questions about the next step or tips that should be followed.\n",
        "- \"manual technique\": Information need regarding a practical instruction or method on how exactly to carry out a step that has not yet been described in detail. It is about the HOW of carrying out a step.\n",
        "- \"instruction\": Information needs regarding the selection or understanding of a project or guidance in general. Including general questions about the overall process or guidance, without referring to individual steps or detailed actions. This includes questions about the general requirements for completing a project, but without asking about specific materials, equipment or step-by-step instructions.\n",
        "- \"time\": Information need regarding a time specification.\n",
        "- \"equipment\": Information need regarding the required equipment such as devices, machines and tools, but not the technique of how to use them.\n",
        "- \"knowledge\": Information need regarding background information/knowledge about the topic.\n",
        "- \"miscellaneous\": Information need that cannot be assigned to any of the other categories/labels.\n",
        "\n",
        "Also consider the context and the user's previous statements!\n",
        "Also consider the previous statements of the conversational assistant, which can have an influence on the label of the user's information needs!\n",
        "\n",
        "\n",
        "### STYLE ###\n",
        "Only use the above labels.\n",
        "\n",
        "\n",
        "### AUDIENCE ###\n",
        "The labels are used for analysis by a group of scientists in information science and linguistics.\n",
        "\n",
        "\n",
        "### RESPONSE ###\n",
        "Only the label for each utterance.\n",
        "\n",
        "\n",
        "### EXAMPLES ###\n",
        "{few_shot_examples}\n",
        "\"\"\""
      ],
      "metadata": {
        "id": "xLZDeXXpH6Jt"
      },
      "execution_count": null,
      "outputs": []
    },
    {
      "cell_type": "markdown",
      "source": [
        "Auswahl der Few-Shot-Beispiele"
      ],
      "metadata": {
        "id": "gtOaNdngzjMN"
      }
    },
    {
      "cell_type": "code",
      "source": [
        "def few_shots(df, label, max):\n",
        "  label_df = train_df_st[train_df_st['label_1'] == label]\n",
        "  label_examples = len(label_df)\n",
        "\n",
        "  if label_examples <= max:\n",
        "    return label_df  # alle\n",
        "  #elif label_examples <= 6:\n",
        "    # k = 4  #  5 war auch gut\n",
        "  #elif label_examples <= 15:\n",
        "    # k = 10  #  5 war auch gut\n",
        "  else:\n",
        "    k = min(label_examples, max)\n",
        "\n",
        "  return label_df.sample(n=k, random_state=42)\n",
        "\n",
        "examples = {}\n",
        "example_counts = {}  # Um Anzahl der few shots zu speichern\n",
        "\n",
        "# für jedes Label few shots erstellen + Anzahl\n",
        "for label in labels_level_1:\n",
        "  few_examples = few_shots(train_df_st, label, 4)\n",
        "  examples[label] = few_examples\n",
        "  example_counts[label] = len(few_examples)\n",
        "\n",
        "few_shot_examples = \"\\n\".join([f\" {row['turn']}\\n {label}\" for label, df in examples.items() for _, row in df.iterrows()])\n",
        "\n",
        "print(few_shot_examples)"
      ],
      "metadata": {
        "colab": {
          "base_uri": "https://localhost:8080/"
        },
        "id": "4WDa5GkOVWIQ",
        "outputId": "fd417457-ea6d-40db-b550-ff2f9ea7f7ac"
      },
      "execution_count": null,
      "outputs": [
        {
          "output_type": "stream",
          "name": "stdout",
          "text": [
            " What tools do I need to build a worm compost system?\n",
            " equipment\n",
            " What is the best tool to use to harvest the sweet pea seed pods?\n",
            " equipment\n",
            " Do I need a special container to hold the seeds?\n",
            " equipment\n",
            " ok, I'm assuming I need rice and a sock, but what other things or tools do I need to make a rice sock?\n",
            " equipment\n",
            " Alright I will be sure not to overfeed, what‚Äôs my next step?\n",
            " preparation\n",
            " Now the fizzing in the flask has stopped, what should I do?\n",
            " preparation\n",
            " I've let the clothes hang to dry, what should I do next? \n",
            " preparation\n",
            " Is there anything I should do after taking it to the dry cleaners?\n",
            " preparation\n",
            " I have added the salt, what materials do I need for the next step?\n",
            " material\n",
            " What do I need to be feeding it?\n",
            " material\n",
            " Could I substitute baking soda if I don't have denture cleaning tablets?\n",
            " material\n",
            " Can I use a shirt that is 50% cotton and 50% wool to test out?\n",
            " material\n",
            " I am confused by your response. Would you please rephrase? \n",
            " miscellaneous\n",
            " I have musty smelling shirts and pants from my wardrobe, what do I need to go about getting rid of the stink?\n",
            " instruction\n",
            " I guess I'll have to try that then. Are there any other alternatives besides dry-cleaning and similar?\n",
            " instruction\n",
            " Can you specify what the square is referring to on your list?\n",
            " instruction\n",
            " How should I clean it?\n",
            " instruction\n",
            " Ok. So the food scraps and the water, is there anything else I need to be aware of to maintain their health?\n",
            " knowledge\n",
            " Why shouldn't I feed my worms as much as I can?\n",
            " knowledge\n",
            " Is there any risk of damage to my clothes if I take it to a dry cleaner?\n",
            " knowledge\n",
            " Is the sunshine request for the seeds\n",
            " knowledge\n",
            " Should I keep the water boiling with the clothes added?\n",
            " manual technique\n",
            " Sorry, I'm a total plant novice.  What do you mean by \"go to seed\"?\n",
            " manual technique\n",
            " How long can I leave the rice sock on my head for relief?\n",
            " time\n",
            " How often do I need to feed the worms to feed them \"regularly\"?\n",
            " amount\n",
            " You said to leave some stem on the pods. How much stem should I leave on each pod?\n",
            " amount\n"
          ]
        }
      ]
    },
    {
      "cell_type": "code",
      "source": [
        "for label, count in example_counts.items():\n",
        "  print(f\"Label: {label},  Beispiele: {count}\")"
      ],
      "metadata": {
        "colab": {
          "base_uri": "https://localhost:8080/"
        },
        "id": "iiWA8LOMapOa",
        "outputId": "78b97e98-ad09-4113-8d7f-ae5cadbd11b4"
      },
      "execution_count": null,
      "outputs": [
        {
          "output_type": "stream",
          "name": "stdout",
          "text": [
            "Label: equipment,  Beispiele: 4\n",
            "Label: preparation,  Beispiele: 4\n",
            "Label: material,  Beispiele: 4\n",
            "Label: miscellaneous,  Beispiele: 1\n",
            "Label: instruction,  Beispiele: 4\n",
            "Label: knowledge,  Beispiele: 4\n",
            "Label: manual technique,  Beispiele: 2\n",
            "Label: time,  Beispiele: 1\n",
            "Label: amount,  Beispiele: 2\n"
          ]
        }
      ]
    },
    {
      "cell_type": "code",
      "source": [
        "# Platzhalter durch gewählte Beispiele ersetzen\n",
        "prompt_few_level_1 = prompt_few_level_1.replace(\"{few_shot_examples}\", few_shot_examples)"
      ],
      "metadata": {
        "id": "WBW0Rtinb9v3"
      },
      "execution_count": null,
      "outputs": []
    },
    {
      "cell_type": "code",
      "source": [
        "pred_labels_few_level_1 = []\n",
        "\n",
        "for turn, role in zip(turns, roles):\n",
        "  if role == 'student':\n",
        "    label = annotate(client, model, prompt_few_level_1, turn)\n",
        "    if label:\n",
        "      print(f\"Turn: {turn}\\nLabel: {label}\\n\")\n",
        "      pred_labels_few_level_1.append(label.lower())\n",
        "    else:\n",
        "      pred_labels_few_level_1.append(\"Fehler bei Anfrage\")\n",
        "  else:\n",
        "      # turns von teacher überspringen, da diese nicht gelabelt werden; nur für Kontext da\n",
        "      continue"
      ],
      "metadata": {
        "colab": {
          "base_uri": "https://localhost:8080/"
        },
        "outputId": "fd2be8a4-f819-4ae2-8e93-aeb8724ad3be",
        "id": "UQC3lv6LAtcs"
      },
      "execution_count": null,
      "outputs": [
        {
          "output_type": "stream",
          "name": "stdout",
          "text": [
            "Turn: What are the tools and other things required for starting a bonsai tree?\n",
            "Label: equipment\n",
            "\n",
            "Turn: I'm ready for the first step now please. \n",
            "Label: preparation\n",
            "\n",
            "Turn: I've got an idea of where I want it to grow, what's the next step that I need to take now? \n",
            "Label: preparation\n",
            "\n",
            "Turn: How do we prepare the tree? \n",
            "Label: preparation\n",
            "\n",
            "Turn: Ok, I have a nice dark green pot, perfect. What should I do now?\n",
            "Label: preparation\n",
            "\n",
            "Turn: Gotcha.  The tree is all ready for potting now, what's next?\n",
            "Label: preparation\n",
            "\n",
            "Turn: Ok, I've prepared the tree, wired the branches as asked and followed all direction, what should I do now?\n",
            "Label: preparation\n",
            "\n",
            "Turn: I've pruned and cleaned the roots, what's next?\n",
            "Label: preparation\n",
            "\n",
            "Turn: How do I prepare the pot?\n",
            "Label: preparation\n",
            "\n",
            "Turn: It is dry and clean, what should I do now?\n",
            "Label: preparation\n",
            "\n",
            "Turn: Okay, the tree's been potted.  What now?\n",
            "Label: preparation\n",
            "\n",
            "Turn: Thanks for the tips, is there anything else I need to know or do?\n",
            "Label: instruction\n",
            "\n",
            "Turn: I have some good seeds, what is the next step I should take?\n",
            "Label: preparation\n",
            "\n",
            "Turn: What should I do after the seeds germinate?\n",
            "Label: preparation\n",
            "\n",
            "Turn: What do I do after I plant the germinated seeds?\n",
            "Label: preparation\n",
            "\n",
            "Turn: Any specific growing medium I need for my seeds?\n",
            "Label: material\n",
            "\n",
            "Turn: I have pot picked out, what should I do next?\n",
            "Label: preparation\n",
            "\n",
            "Turn: After following the steps in the shared content, what should I do next?\n",
            "Label: preparation\n",
            "\n",
            "Turn: Basil is so fragrant. I love it. \n",
            "Label: miscellaneous\n",
            "\n",
            "Turn: There are so many kinds, what do you recommend?\n",
            "Label: instruction\n",
            "\n",
            "Turn: Good to know!  What tools might I need to grow some basil of my own?\n",
            "Label: equipment\n",
            "\n",
            "Turn: Uh, I don't get it. Can you please tell me about the tools that I'll need?\n",
            "Label: equipment\n",
            "\n",
            "Turn: Gotcha!  Once I have all those tools, what do I need to do to get started growing the basil?\n",
            "Label: preparation\n",
            "\n",
            "Turn: Okay.  I've got the basil I want to grow picked out.  What should I do next?\n",
            "Label: preparation\n",
            "\n",
            "Turn: Does that mean basil grows best in the spring and summer?\n",
            "Label: knowledge\n",
            "\n",
            "Turn: This seems very accurate. So, now that I know I'm starting at the right time, what should I do?\n",
            "Label: preparation\n",
            "\n",
            "Turn: Which is the best place to place the container the plant is seeded\n",
            "Label: instruction\n",
            "\n",
            "Turn: How long does it take for the basil to grow?\n",
            "Label: time\n",
            "\n",
            "Turn: Is there a way to cut them after they grow?\n",
            "Label: manual technique\n",
            "\n",
            "Turn: When should I cut the basil leaves?\n",
            "Label: time\n",
            "\n",
            "Turn: Now what step do I need to take to start this process? \n",
            "Label: preparation\n",
            "\n",
            "Turn: Okay, now what should I do after that? \n",
            "Label: preparation\n",
            "\n",
            "Turn: Can i u se other oily substance to loosen zipper? \n",
            "Label: material\n",
            "\n",
            "Turn: I don't really have access to those right now but i have some beeswax lipbalm that is mostly beeswax. Where do I apply it to the zipper to unstick it?\n",
            "Label: equipment\n",
            "\n",
            "Turn: what tool I need to use after that?\n",
            "Label: equipment\n",
            "\n",
            "Turn: All right. I guess I was wondering what the next step after lubricating the zipper was.\n",
            "Label: preparation\n",
            "\n",
            "Turn: What should I do after rinsing the zipper?\n",
            "Label: preparation\n",
            "\n",
            "Turn: What should I do after washing and scrubbing the zipper?\n",
            "Label: preparation\n",
            "\n",
            "Turn: I have rubbed the zipper with he toothbrush, what should I do now?\n",
            "Label: preparation\n",
            "\n",
            "Turn: I have a lubricant, is there anything else that I should do?\n",
            "Label: preparation\n",
            "\n",
            "Turn: Good to know!  Any other steps you could share?\n",
            "Label: preparation\n",
            "\n",
            "Turn: Why do engines overheat in the first place?\n",
            "Label: knowledge\n",
            "\n",
            "Turn: Good to know!  So what tools will be needed for me to stop the engine overheating?\n",
            "Label: equipment\n",
            "\n",
            "Turn: That's very informative!  I followed the steps you outlined.  What do I need to do now?\n",
            "Label: preparation\n",
            "\n",
            "Turn: I have pulled over, is there another step I can take to troubleshoot this issue?\n",
            "Label: preparation\n",
            "\n",
            "Turn: What exactly is decoupage?\n",
            "Label: knowledge\n",
            "\n",
            "Turn: Oh ok, thanks for that! Sounds fun! What do I need to get started?\n",
            "Label: instruction\n",
            "\n",
            "Turn: what is decoupage? \n",
            "Label: knowledge\n",
            "\n",
            "Turn: This looks like a typing error. Anyway, I'm getting my tools together and I'm not sure about the glue. Do I have to use a particular type of crafting glue to do this project?\n",
            "Label: equipment\n",
            "\n",
            "Turn: what do I do next to get started\n",
            "Label: preparation\n",
            "\n",
            "Turn: Okay, I threw a couple layers of newspaper down.  What should I do now?\n",
            "Label: preparation\n",
            "\n",
            "Turn: What is the easiest type of material to apply?\n",
            "Label: instruction\n",
            "\n",
            "Turn: I'll ask for next to follow\n",
            "Label: preparation\n",
            "\n",
            "Turn: If I could only choose one thing to decoupage what would be the best choice?  I want to make sure I'm getting the best results!\n",
            "Label: instruction\n",
            "\n",
            "Turn: Can I reverse the process if I make a mistake?\n",
            "Label: instruction\n",
            "\n",
            "Turn: I decided to decoupage a small box, it seems like a good starter project to practice on. So I have my materials, my item (small box), and some newspaper down. How should I set up my work station and proceed?\n",
            "Label: preparation\n",
            "\n",
            "Turn: Are there any difficult instructions?\n",
            "Label: instruction\n",
            "\n",
            "Turn: Okay, I picked out a surface!  What should I do next?\n",
            "Label: preparation\n",
            "\n",
            "Turn: Sounds easy enough!  I cut the material to fit the surface of the object I'm using.  What should I do next?\n",
            "Label: preparation\n",
            "\n",
            "Turn: I have the glue in the bowl, what should I do next?\n",
            "Label: preparation\n",
            "\n",
            "Turn: I have the surface covered, what should I do next?\n",
            "Label: preparation\n",
            "\n",
            "Turn: Ok. Once thats done, how long should I let it dry for?\n",
            "Label: time\n",
            "\n",
            "Turn: Now that I've let that dry, what's the next step I should take? \n",
            "Label: preparation\n",
            "\n",
            "Turn: Okay, I‚Äôve put on another layer of glue. Now do I do the paper?\n",
            "Label: preparation\n",
            "\n",
            "Turn: Okay, now what should I do next? \n",
            "Label: preparation\n",
            "\n",
            "Turn: Is the cheapest way to fertilize a garden with compost from my kitchen?\n",
            "Label: knowledge\n",
            "\n",
            "Turn: I'm not sure if you understood my previous question.  Could you try answering again?\n",
            "Label: miscellaneous\n",
            "\n",
            "Turn: We'll go with coffee, because I always have that around the house!  So how do I get started fertilizing?\n",
            "Label: instruction\n",
            "\n",
            "Turn: That's so helpful!  I've dried the grounds and spread them around.  Is that it?\n",
            "Label: preparation\n",
            "\n",
            "Turn: I don't have a coffee grinder. Can I crush the shells by hand? How fine do they have to be?\n",
            "Label: equipment\n",
            "\n",
            "Turn: I'm sorry, I got confused.  I obviously have a grinder because I already spread coffee grounds around.  Are there any other tips you could share?\n",
            "Label: instruction\n",
            "\n",
            "Turn: Great, I will use a banana peel because I don't want to waste food. Is there anything else I should do?\n",
            "Label: preparation\n",
            "\n",
            "Turn: You already said that earlier, but thanks!  Any new tips?\n",
            "Label: miscellaneous\n",
            "\n",
            "Turn: I don't know what epsom salts are.  Can you tell me what they are?\n",
            "Label: knowledge\n",
            "\n",
            "Turn: What type of tools am I going to need for this? \n",
            "Label: equipment\n",
            "\n",
            "Turn: If there are no tools needed, then how do I decide how to make the purchase?\n",
            "Label: instruction\n",
            "\n",
            "Turn: What is the cord going to be used for?\n",
            "Label: instruction\n",
            "\n",
            "Turn: What type of mattress is good for side sleepers? \n",
            "Label: miscellaneous\n",
            "\n",
            "Turn: Yes. How do I determine what is a good quality mattress when I'm in the store?\n",
            "Label: instruction\n",
            "\n",
            "Turn: Are mattress sizes all standard? \n",
            "Label: knowledge\n",
            "\n",
            "Turn: What is memory foam made out of?\n",
            "Label: knowledge\n",
            "\n",
            "Turn: What are the benefits of high-density foam?\n",
            "Label: knowledge\n",
            "\n",
            "Turn: Why is memory foam a popular mattress choice? \n",
            "Label: knowledge\n",
            "\n",
            "Turn: Ok thank you. Anything else I should know before finishing up?\n",
            "Label: preparation\n",
            "\n",
            "Turn: What tools do I need to grow elephant ear plants?\n",
            "Label: equipment\n",
            "\n",
            "Turn: If the temperatures are still cold in the spring should I plant this indoors?\n",
            "Label: instruction\n",
            "\n",
            "Turn: It's pretty cold here already. What type of potting soil will I need to plant indoors?\n",
            "Label: material\n",
            "\n",
            "Turn: Can I propagate the Elephant Ear Plant from a plant I already have or do I need to purchase them?\n",
            "Label: instruction\n",
            "\n",
            "Turn: Great, so for an indoor start, I have my plant and pot and correct acidity of planting medium. What should I do?\n",
            "Label: preparation\n",
            "\n",
            "Turn: I've picked out a great spot with the right amount of indirect light. What should I do now?\n",
            "Label: preparation\n",
            "\n",
            "Turn: How should I start planting once I've found the right spot?\n",
            "Label: preparation\n",
            "\n",
            "Turn: I have dug a drainage hole and am ready to plant my elephant ear plant, how should I begin?\n",
            "Label: preparation\n",
            "\n",
            "Turn: Now I have checked the ph level, what should I do next?\n",
            "Label: preparation\n",
            "\n",
            "Turn: Ok, once the holes are dug can I put the plants right in?\n",
            "Label: preparation\n",
            "\n",
            "Turn: I'm done digging, what do i do with the bulbs?\n",
            "Label: preparation\n",
            "\n",
            "Turn: Alright, I've pressed my bulbs down firmly, flat-end down. What now?\n",
            "Label: preparation\n",
            "\n",
            "Turn: How often should I be watering my plant?\n",
            "Label: instruction\n",
            "\n",
            "Turn: Okay and I've kept the soil moist, what can I do next? \n",
            "Label: preparation\n",
            "\n",
            "Turn: Why shouldn't I place my marker directly over the bulb?\n",
            "Label: knowledge\n",
            "\n",
            "Turn: Okay and is there another step that I should take after this? \n",
            "Label: preparation\n",
            "\n",
            "Turn: It took the full three weeks but I'm finally seeing some sprouts. How do I nurture them?\n",
            "Label: preparation\n",
            "\n",
            "Turn: What should I do after watering the plat's roots in the morning?\n",
            "Label: preparation\n",
            "\n",
            "Turn: What should I do outside of adding slow-release fertilizer once a month?\n",
            "Label: preparation\n",
            "\n",
            "Turn: What type of climate do African violets grow in? \n",
            "Label: knowledge\n",
            "\n",
            "Turn: What tools do I need to grow African violets?\n",
            "Label: equipment\n",
            "\n",
            "Turn: Could you specify how much cement I'll need?\n",
            "Label: amount\n",
            "\n",
            "Turn: I have gathered the cement and other supplies, what should I do next?\n",
            "Label: preparation\n",
            "\n",
            "Turn: Alright I have got water and my plant what‚Äôs next?\n",
            "Label: preparation\n",
            "\n",
            "Turn: I went for the easier directions and put the leaf directly into the soil. So I just wait for it to take root?\n",
            "Label: preparation\n",
            "\n",
            "Turn: What is the best place I can get these types of seeds?\n",
            "Label: instruction\n",
            "\n",
            "Turn: Gotcha, I picked them up from the nursery by my house.  What should I do now?\n",
            "Label: preparation\n",
            "\n",
            "Turn: What tool do I need to test the soil pH?\n",
            "Label: equipment\n",
            "\n",
            "Turn: Why do i need to check the PH level of soil? \n",
            "Label: knowledge\n",
            "\n",
            "Turn: The ph level is good, what's next?\n",
            "Label: preparation\n",
            "\n",
            "Turn: Alright I separated the plants, what now?\n",
            "Label: preparation\n",
            "\n",
            "Turn: Now I've got several baby violet plants in their own small pots with violet potting medium. What should I do with them next?\n",
            "Label: preparation\n",
            "\n",
            "Turn: They have a good home, now what step should I take next? \n",
            "Label: preparation\n",
            "\n",
            "Turn: How frequently will the soil get dry?\n",
            "Label: amount\n",
            "\n",
            "Turn: If heavy sunlight dries out the soil should I keep it away from direct light?\n",
            "Label: instruction\n",
            "\n",
            "Turn: Okay and they have light, so now what is the next step I can take? \n",
            "Label: preparation\n",
            "\n",
            "Turn: Yes it should have plenty of light, so what‚Äôs next?\n",
            "Label: preparation\n",
            "\n",
            "Turn: I've got a time that I want to fertilize, what else can I do now? \n",
            "Label: preparation\n",
            "\n",
            "Turn: What should I do after monitoring and maintaining their temperature and humidity?\n",
            "Label: preparation\n",
            "\n"
          ]
        }
      ]
    },
    {
      "cell_type": "code",
      "source": [
        "# von GPT-3 generierte Labels als neue Spalte zu df hinzufügen\n",
        "test_df_st['pred_label_few_level_1'] = pred_labels_few_level_1"
      ],
      "metadata": {
        "id": "h0VijX9iAtcv"
      },
      "execution_count": null,
      "outputs": []
    },
    {
      "cell_type": "code",
      "source": [
        "# Vergleich GPT Labels mit manuellen Labels -> neue Spalte agreement, direkte Übereinstimmung: wahr/falsch\n",
        "test_df_st['agreement_few_level_1'] = test_df_st['label_1'] == test_df_st['pred_label_few_level_1']"
      ],
      "metadata": {
        "id": "G4P6YGYbAtc3"
      },
      "execution_count": null,
      "outputs": []
    },
    {
      "cell_type": "code",
      "source": [
        "# Labels extrahieren, true sind manuelle und pred die von gpt 3\n",
        "pred_labels_few_level_1 = test_df_st['pred_label_few_level_1']"
      ],
      "metadata": {
        "id": "JjDpGCFCAtc6"
      },
      "execution_count": null,
      "outputs": []
    },
    {
      "cell_type": "code",
      "source": [
        "# Berechnung Precision, Recall und F1-Score für jedes Label\n",
        "precision = precision_score(true_labels_level_1, pred_labels_few_level_1, average=None, labels=labels_level_1)\n",
        "recall = recall_score(true_labels_level_1, pred_labels_few_level_1, average=None, labels=labels_level_1)\n",
        "f1 = f1_score(true_labels_level_1, pred_labels_few_level_1, average=None, labels=labels_level_1)"
      ],
      "metadata": {
        "id": "07iVKmbeAtc7"
      },
      "execution_count": null,
      "outputs": []
    },
    {
      "cell_type": "code",
      "source": [
        "# Report\n",
        "report = classification_report(true_labels_level_1, pred_labels_few_level_1, labels=labels_level_1)\n",
        "print(report)"
      ],
      "metadata": {
        "colab": {
          "base_uri": "https://localhost:8080/"
        },
        "outputId": "57691c9a-ca4c-40d9-97c7-ba81d29f0099",
        "id": "CXEOmYtFAtc8"
      },
      "execution_count": null,
      "outputs": [
        {
          "output_type": "stream",
          "name": "stdout",
          "text": [
            "                  precision    recall  f1-score   support\n",
            "\n",
            "       equipment       0.75      1.00      0.86         9\n",
            "     preparation       0.99      0.94      0.96        70\n",
            "        material       1.00      0.43      0.60         7\n",
            "   miscellaneous       0.50      0.50      0.50         4\n",
            "     instruction       0.50      0.90      0.64        10\n",
            "       knowledge       0.85      0.92      0.88        12\n",
            "manual technique       1.00      0.20      0.33         5\n",
            "            time       1.00      1.00      1.00         3\n",
            "          amount       1.00      0.67      0.80         3\n",
            "\n",
            "        accuracy                           0.86       123\n",
            "       macro avg       0.84      0.73      0.73       123\n",
            "    weighted avg       0.90      0.86      0.86       123\n",
            "\n"
          ]
        }
      ]
    },
    {
      "cell_type": "code",
      "source": [
        "# Berechnung Cohen's Kappa\n",
        "kappa = cohen_kappa_score(true_labels_level_1, pred_labels_few_level_1, labels=labels_level_1)\n",
        "print(f\"Cohen's Kappa: {kappa:.2f}\")"
      ],
      "metadata": {
        "colab": {
          "base_uri": "https://localhost:8080/"
        },
        "outputId": "a6bede36-fab7-4a84-8ecc-7714920fce38",
        "id": "PBhcCa65Atc9"
      },
      "execution_count": null,
      "outputs": [
        {
          "output_type": "stream",
          "name": "stdout",
          "text": [
            "Cohen's Kappa: 0.79\n"
          ]
        }
      ]
    },
    {
      "cell_type": "code",
      "source": [
        "test_df_st.to_excel('GPT3_Few_Level1.xlsx', index=False)\n",
        "test_df_st = reset_test_df_st.copy()"
      ],
      "metadata": {
        "id": "A15wSzdwknJy"
      },
      "execution_count": null,
      "outputs": []
    },
    {
      "cell_type": "markdown",
      "source": [
        "#### Ändern der Reihenfolge"
      ],
      "metadata": {
        "id": "GehXUO1JWStD"
      }
    },
    {
      "cell_type": "markdown",
      "source": [
        "Nun wird getestet, ob die Reihenfolge der few shots einen Einfluss auf die Performance des Modells hat. Da die eigentliche Anzahl an Permutationen zu groß ist (benötigte Rechenleistung zu hoch), wird nur eine bestimmte Anzahl an verschiedenen Reihenfolgen der few shots getestet und die Beispiele pro Kategorie als Ganzes betrachtet."
      ],
      "metadata": {
        "id": "8df98cWYB8JP"
      }
    },
    {
      "cell_type": "code",
      "source": [
        "list_few_shots = list(examples.keys())\n",
        "\n",
        "# Anzahl aller möglichen Permutationen\n",
        "num_labels_level_1 = len(labels_level_1)\n",
        "num_permut = math.factorial(num_labels_level_1)\n",
        "print(f\"Anzahl möglicher Permutationen: {num_permut}\")\n",
        "\n",
        "# Da diese Anzahl an Permutationen zu hoch -> Anzahl verringern\n",
        "permut_few_shots = random.sample(list(itertools.permutations(list_few_shots)), 10)"
      ],
      "metadata": {
        "colab": {
          "base_uri": "https://localhost:8080/"
        },
        "id": "vbsRLm1edM2r",
        "outputId": "4c8151ea-db0b-4cb8-96cb-e3b608924d4d"
      },
      "execution_count": null,
      "outputs": [
        {
          "output_type": "stream",
          "name": "stdout",
          "text": [
            "Anzahl möglicher Permutationen: 362880\n"
          ]
        }
      ]
    },
    {
      "cell_type": "code",
      "source": [
        "def metrics(true_labels, pred_labels):\n",
        "  precision = precision_score(true_labels, pred_labels, average='weighted', zero_division=0)\n",
        "  recall = recall_score(true_labels, pred_labels, average='weighted', zero_division=0)\n",
        "  f1 = f1_score(true_labels, pred_labels, average='weighted', zero_division=0)\n",
        "  return precision, recall, f1\n",
        "\n",
        "results_permut_few_shots = []\n",
        "\n",
        "for permut in permut_few_shots:\n",
        "  permuted_few_shot_examples = \"\\n\".join([f\" {row['turn']}\\n {label}\" for label in permut for _, row in examples[label].iterrows()])\n",
        "  # few shot Beispiele im Prompt aktualisieren\n",
        "  current_prompt = prompt_few_level_1.replace(\"{few_shot_examples}\", permuted_few_shot_examples)\n",
        "  # nun wieder normaler Ablauf der Annotation\n",
        "  pred_labels_few_level_1 = []\n",
        "\n",
        "  for turn, role in zip(turns, roles):\n",
        "    if role == 'student':\n",
        "      label = annotate(client, model, current_prompt, turn)\n",
        "      if label:\n",
        "        pred_labels_few_level_1.append(label.lower())\n",
        "      else:\n",
        "        pred_labels_few_level_1.append(\"Fehler bei Anfrage\")\n",
        "    else:\n",
        "      # turns von teacher überspringen, da diese nicht gelabelt werden; nur für Kontext da\n",
        "      continue\n",
        "\n",
        "  # Precision, Recall und F1 pro Permutationen, damit Performance vergleichbar\n",
        "  p, r, f1 = metrics(true_labels_level_1, pred_labels_few_level_1)\n",
        "\n",
        "  # Ergebnisse speichern\n",
        "  results_permut_few_shots.append({'permutation': permut, 'precision': p, 'recall': r, 'f1_score': f1})\n",
        "\n",
        "# Performance-Ergebnisse der verschiedenen Reihenfolgen\n",
        "results_permut_few_shots_df = pd.DataFrame(results_permut_few_shots)\n",
        "\n",
        "precision_mean = results_permut_few_shots_df['precision'].mean()\n",
        "recall_mean = results_permut_few_shots_df['recall'].mean()\n",
        "f1_mean = results_permut_few_shots_df['f1_score'].mean()\n",
        "\n",
        "precision_std = results_permut_few_shots_df['precision'].std()\n",
        "recall_std_ = results_permut_few_shots_df['recall'].std()\n",
        "f1_std = results_permut_few_shots_df['f1_score'].std()\n",
        "\n",
        "print(f\"Durchschnitt Precision: {precision_mean:.3f} ± {precision_std:.3f}\")\n",
        "print(f\"Durchschnitt Recall: {recall_mean:.3f} ± {recall_std_:.3f}\")\n",
        "print(f\"Durchschnitt F1-Score: {f1_mean:.3f} ± {f1_std:.3f}\")"
      ],
      "metadata": {
        "colab": {
          "base_uri": "https://localhost:8080/"
        },
        "id": "-tKm5g8KWQ26",
        "outputId": "a030c6c7-085a-45ef-bbc8-d83561bdb622"
      },
      "execution_count": null,
      "outputs": [
        {
          "output_type": "stream",
          "name": "stdout",
          "text": [
            "Durchschnitt Precision: 0.900 ± 0.003\n",
            "Durchschnitt Recall: 0.861 ± 0.003\n",
            "Durchschnitt F1-Score: 0.856 ± 0.003\n"
          ]
        }
      ]
    },
    {
      "cell_type": "code",
      "source": [
        "# Permutation mit bestem f1\n",
        "best_permutation = results_permut_few_shots_df.loc[results_permut_few_shots_df['f1_score'].idxmax()]\n",
        "print(\"Beste Reihenfolge:\", best_permutation['permutation'])\n",
        "print(f\"Precision: {best_permutation['precision']:.3f}, Recall: {best_permutation['recall']:.3f}, F1-Score: {best_permutation['f1_score']:.3f}\")"
      ],
      "metadata": {
        "colab": {
          "base_uri": "https://localhost:8080/"
        },
        "id": "JwIDDgTS731g",
        "outputId": "f2382a03-4d31-48c8-be29-2eeab4642d12"
      },
      "execution_count": null,
      "outputs": [
        {
          "output_type": "stream",
          "name": "stdout",
          "text": [
            "Beste Reihenfolge: ('equipment', 'miscellaneous', 'material', 'instruction', 'amount', 'preparation', 'time', 'manual technique', 'knowledge')\n",
            "Precision: 0.901, Recall: 0.862, F1-Score: 0.857\n"
          ]
        }
      ]
    },
    {
      "cell_type": "code",
      "source": [
        "best_order_label = best_permutation['permutation']\n",
        "\n",
        "# few shots\n",
        "best_order_few_shot_examples = \"\\n\".join([f\" {row['turn']}\\n {label}\" for label in best_order_label for _, row in examples[label].iterrows()])\n",
        "\n",
        "# Platzhalter ersetzen\n",
        "final_prompt = prompt_few_level_1.replace(\"{few_shot_examples}\", best_order_few_shot_examples)\n",
        "\n",
        "# jetzt wieder Annotation\n",
        "final_pred_labels_few_level_1 = []\n",
        "\n",
        "for turn, role in zip(turns, roles):\n",
        "  if role == 'student':\n",
        "    label = annotate(client, model, final_prompt, turn)\n",
        "    if label:\n",
        "      print(f\"Turn: {turn}\\nLabel: {label}\\n\")\n",
        "      final_pred_labels_few_level_1.append(label.lower())\n",
        "    else:\n",
        "      final_pred_labels_few_level_1.append(\"Fehler bei Anfrage\")\n",
        "  else:\n",
        "    # turns von teacher überspringen, da diese nicht gelabelt werden; nur für Kontext da\n",
        "    continue"
      ],
      "metadata": {
        "colab": {
          "base_uri": "https://localhost:8080/"
        },
        "id": "_sUMUQLJ8SL0",
        "outputId": "14b162bc-b10e-4408-d213-15a54fd19c2c"
      },
      "execution_count": null,
      "outputs": [
        {
          "output_type": "stream",
          "name": "stdout",
          "text": [
            "Turn: What are the tools and other things required for starting a bonsai tree?\n",
            "Label: equipment\n",
            "\n",
            "Turn: I'm ready for the first step now please. \n",
            "Label: preparation\n",
            "\n",
            "Turn: I've got an idea of where I want it to grow, what's the next step that I need to take now? \n",
            "Label: preparation\n",
            "\n",
            "Turn: How do we prepare the tree? \n",
            "Label: preparation\n",
            "\n",
            "Turn: Ok, I have a nice dark green pot, perfect. What should I do now?\n",
            "Label: preparation\n",
            "\n",
            "Turn: Gotcha.  The tree is all ready for potting now, what's next?\n",
            "Label: preparation\n",
            "\n",
            "Turn: Ok, I've prepared the tree, wired the branches as asked and followed all direction, what should I do now?\n",
            "Label: preparation\n",
            "\n",
            "Turn: I've pruned and cleaned the roots, what's next?\n",
            "Label: preparation\n",
            "\n",
            "Turn: How do I prepare the pot?\n",
            "Label: preparation\n",
            "\n",
            "Turn: It is dry and clean, what should I do now?\n",
            "Label: preparation\n",
            "\n",
            "Turn: Okay, the tree's been potted.  What now?\n",
            "Label: preparation\n",
            "\n",
            "Turn: Thanks for the tips, is there anything else I need to know or do?\n",
            "Label: instruction\n",
            "\n",
            "Turn: I have some good seeds, what is the next step I should take?\n",
            "Label: preparation\n",
            "\n",
            "Turn: What should I do after the seeds germinate?\n",
            "Label: preparation\n",
            "\n",
            "Turn: What do I do after I plant the germinated seeds?\n",
            "Label: preparation\n",
            "\n",
            "Turn: Any specific growing medium I need for my seeds?\n",
            "Label: material\n",
            "\n",
            "Turn: I have pot picked out, what should I do next?\n",
            "Label: preparation\n",
            "\n",
            "Turn: After following the steps in the shared content, what should I do next?\n",
            "Label: preparation\n",
            "\n",
            "Turn: Basil is so fragrant. I love it. \n",
            "Label: miscellaneous\n",
            "\n",
            "Turn: There are so many kinds, what do you recommend?\n",
            "Label: instruction\n",
            "\n",
            "Turn: Good to know!  What tools might I need to grow some basil of my own?\n",
            "Label: equipment\n",
            "\n",
            "Turn: Uh, I don't get it. Can you please tell me about the tools that I'll need?\n",
            "Label: equipment\n",
            "\n",
            "Turn: Gotcha!  Once I have all those tools, what do I need to do to get started growing the basil?\n",
            "Label: preparation\n",
            "\n",
            "Turn: Okay.  I've got the basil I want to grow picked out.  What should I do next?\n",
            "Label: preparation\n",
            "\n",
            "Turn: Does that mean basil grows best in the spring and summer?\n",
            "Label: knowledge\n",
            "\n",
            "Turn: This seems very accurate. So, now that I know I'm starting at the right time, what should I do?\n",
            "Label: preparation\n",
            "\n",
            "Turn: Which is the best place to place the container the plant is seeded\n",
            "Label: instruction\n",
            "\n",
            "Turn: How long does it take for the basil to grow?\n",
            "Label: time\n",
            "\n",
            "Turn: Is there a way to cut them after they grow?\n",
            "Label: manual technique\n",
            "\n",
            "Turn: When should I cut the basil leaves?\n",
            "Label: time\n",
            "\n",
            "Turn: Now what step do I need to take to start this process? \n",
            "Label: preparation\n",
            "\n",
            "Turn: Okay, now what should I do after that? \n",
            "Label: preparation\n",
            "\n",
            "Turn: Can i u se other oily substance to loosen zipper? \n",
            "Label: material\n",
            "\n",
            "Turn: I don't really have access to those right now but i have some beeswax lipbalm that is mostly beeswax. Where do I apply it to the zipper to unstick it?\n",
            "Label: equipment\n",
            "\n",
            "Turn: what tool I need to use after that?\n",
            "Label: equipment\n",
            "\n",
            "Turn: All right. I guess I was wondering what the next step after lubricating the zipper was.\n",
            "Label: preparation\n",
            "\n",
            "Turn: What should I do after rinsing the zipper?\n",
            "Label: preparation\n",
            "\n",
            "Turn: What should I do after washing and scrubbing the zipper?\n",
            "Label: preparation\n",
            "\n",
            "Turn: I have rubbed the zipper with he toothbrush, what should I do now?\n",
            "Label: preparation\n",
            "\n",
            "Turn: I have a lubricant, is there anything else that I should do?\n",
            "Label: preparation\n",
            "\n",
            "Turn: Good to know!  Any other steps you could share?\n",
            "Label: preparation\n",
            "\n",
            "Turn: Why do engines overheat in the first place?\n",
            "Label: knowledge\n",
            "\n",
            "Turn: Good to know!  So what tools will be needed for me to stop the engine overheating?\n",
            "Label: equipment\n",
            "\n",
            "Turn: That's very informative!  I followed the steps you outlined.  What do I need to do now?\n",
            "Label: preparation\n",
            "\n",
            "Turn: I have pulled over, is there another step I can take to troubleshoot this issue?\n",
            "Label: preparation\n",
            "\n",
            "Turn: What exactly is decoupage?\n",
            "Label: knowledge\n",
            "\n",
            "Turn: Oh ok, thanks for that! Sounds fun! What do I need to get started?\n",
            "Label: instruction\n",
            "\n",
            "Turn: what is decoupage? \n",
            "Label: knowledge\n",
            "\n",
            "Turn: This looks like a typing error. Anyway, I'm getting my tools together and I'm not sure about the glue. Do I have to use a particular type of crafting glue to do this project?\n",
            "Label: equipment\n",
            "\n",
            "Turn: what do I do next to get started\n",
            "Label: preparation\n",
            "\n",
            "Turn: Okay, I threw a couple layers of newspaper down.  What should I do now?\n",
            "Label: preparation\n",
            "\n",
            "Turn: What is the easiest type of material to apply?\n",
            "Label: instruction\n",
            "\n",
            "Turn: I'll ask for next to follow\n",
            "Label: preparation\n",
            "\n",
            "Turn: If I could only choose one thing to decoupage what would be the best choice?  I want to make sure I'm getting the best results!\n",
            "Label: instruction\n",
            "\n",
            "Turn: Can I reverse the process if I make a mistake?\n",
            "Label: instruction\n",
            "\n",
            "Turn: I decided to decoupage a small box, it seems like a good starter project to practice on. So I have my materials, my item (small box), and some newspaper down. How should I set up my work station and proceed?\n",
            "Label: preparation\n",
            "\n",
            "Turn: Are there any difficult instructions?\n",
            "Label: instruction\n",
            "\n",
            "Turn: Okay, I picked out a surface!  What should I do next?\n",
            "Label: preparation\n",
            "\n",
            "Turn: Sounds easy enough!  I cut the material to fit the surface of the object I'm using.  What should I do next?\n",
            "Label: preparation\n",
            "\n",
            "Turn: I have the glue in the bowl, what should I do next?\n",
            "Label: preparation\n",
            "\n",
            "Turn: I have the surface covered, what should I do next?\n",
            "Label: preparation\n",
            "\n",
            "Turn: Ok. Once thats done, how long should I let it dry for?\n",
            "Label: time\n",
            "\n",
            "Turn: Now that I've let that dry, what's the next step I should take? \n",
            "Label: preparation\n",
            "\n",
            "Turn: Okay, I‚Äôve put on another layer of glue. Now do I do the paper?\n",
            "Label: preparation\n",
            "\n",
            "Turn: Okay, now what should I do next? \n",
            "Label: preparation\n",
            "\n",
            "Turn: Is the cheapest way to fertilize a garden with compost from my kitchen?\n",
            "Label: knowledge\n",
            "\n",
            "Turn: I'm not sure if you understood my previous question.  Could you try answering again?\n",
            "Label: miscellaneous\n",
            "\n",
            "Turn: We'll go with coffee, because I always have that around the house!  So how do I get started fertilizing?\n",
            "Label: instruction\n",
            "\n",
            "Turn: That's so helpful!  I've dried the grounds and spread them around.  Is that it?\n",
            "Label: preparation\n",
            "\n",
            "Turn: I don't have a coffee grinder. Can I crush the shells by hand? How fine do they have to be?\n",
            "Label: equipment\n",
            "\n",
            "Turn: I'm sorry, I got confused.  I obviously have a grinder because I already spread coffee grounds around.  Are there any other tips you could share?\n",
            "Label: instruction\n",
            "\n",
            "Turn: Great, I will use a banana peel because I don't want to waste food. Is there anything else I should do?\n",
            "Label: preparation\n",
            "\n",
            "Turn: You already said that earlier, but thanks!  Any new tips?\n",
            "Label: miscellaneous\n",
            "\n",
            "Turn: I don't know what epsom salts are.  Can you tell me what they are?\n",
            "Label: knowledge\n",
            "\n",
            "Turn: What type of tools am I going to need for this? \n",
            "Label: equipment\n",
            "\n",
            "Turn: If there are no tools needed, then how do I decide how to make the purchase?\n",
            "Label: instruction\n",
            "\n",
            "Turn: What is the cord going to be used for?\n",
            "Label: instruction\n",
            "\n",
            "Turn: What type of mattress is good for side sleepers? \n",
            "Label: miscellaneous\n",
            "\n",
            "Turn: Yes. How do I determine what is a good quality mattress when I'm in the store?\n",
            "Label: instruction\n",
            "\n",
            "Turn: Are mattress sizes all standard? \n",
            "Label: knowledge\n",
            "\n",
            "Turn: What is memory foam made out of?\n",
            "Label: knowledge\n",
            "\n",
            "Turn: What are the benefits of high-density foam?\n",
            "Label: knowledge\n",
            "\n",
            "Turn: Why is memory foam a popular mattress choice? \n",
            "Label: knowledge\n",
            "\n",
            "Turn: Ok thank you. Anything else I should know before finishing up?\n",
            "Label: preparation\n",
            "\n",
            "Turn: What tools do I need to grow elephant ear plants?\n",
            "Label: equipment\n",
            "\n",
            "Turn: If the temperatures are still cold in the spring should I plant this indoors?\n",
            "Label: instruction\n",
            "\n",
            "Turn: It's pretty cold here already. What type of potting soil will I need to plant indoors?\n",
            "Label: material\n",
            "\n",
            "Turn: Can I propagate the Elephant Ear Plant from a plant I already have or do I need to purchase them?\n",
            "Label: instruction\n",
            "\n",
            "Turn: Great, so for an indoor start, I have my plant and pot and correct acidity of planting medium. What should I do?\n",
            "Label: preparation\n",
            "\n",
            "Turn: I've picked out a great spot with the right amount of indirect light. What should I do now?\n",
            "Label: preparation\n",
            "\n",
            "Turn: How should I start planting once I've found the right spot?\n",
            "Label: preparation\n",
            "\n",
            "Turn: I have dug a drainage hole and am ready to plant my elephant ear plant, how should I begin?\n",
            "Label: preparation\n",
            "\n",
            "Turn: Now I have checked the ph level, what should I do next?\n",
            "Label: preparation\n",
            "\n",
            "Turn: Ok, once the holes are dug can I put the plants right in?\n",
            "Label: preparation\n",
            "\n",
            "Turn: I'm done digging, what do i do with the bulbs?\n",
            "Label: preparation\n",
            "\n",
            "Turn: Alright, I've pressed my bulbs down firmly, flat-end down. What now?\n",
            "Label: preparation\n",
            "\n",
            "Turn: How often should I be watering my plant?\n",
            "Label: instruction\n",
            "\n",
            "Turn: Okay and I've kept the soil moist, what can I do next? \n",
            "Label: preparation\n",
            "\n",
            "Turn: Why shouldn't I place my marker directly over the bulb?\n",
            "Label: knowledge\n",
            "\n",
            "Turn: Okay and is there another step that I should take after this? \n",
            "Label: preparation\n",
            "\n",
            "Turn: It took the full three weeks but I'm finally seeing some sprouts. How do I nurture them?\n",
            "Label: preparation\n",
            "\n",
            "Turn: What should I do after watering the plat's roots in the morning?\n",
            "Label: preparation\n",
            "\n",
            "Turn: What should I do outside of adding slow-release fertilizer once a month?\n",
            "Label: preparation\n",
            "\n",
            "Turn: What type of climate do African violets grow in? \n",
            "Label: knowledge\n",
            "\n",
            "Turn: What tools do I need to grow African violets?\n",
            "Label: equipment\n",
            "\n",
            "Turn: Could you specify how much cement I'll need?\n",
            "Label: amount\n",
            "\n",
            "Turn: I have gathered the cement and other supplies, what should I do next?\n",
            "Label: preparation\n",
            "\n",
            "Turn: Alright I have got water and my plant what‚Äôs next?\n",
            "Label: preparation\n",
            "\n",
            "Turn: I went for the easier directions and put the leaf directly into the soil. So I just wait for it to take root?\n",
            "Label: preparation\n",
            "\n",
            "Turn: What is the best place I can get these types of seeds?\n",
            "Label: instruction\n",
            "\n",
            "Turn: Gotcha, I picked them up from the nursery by my house.  What should I do now?\n",
            "Label: preparation\n",
            "\n",
            "Turn: What tool do I need to test the soil pH?\n",
            "Label: equipment\n",
            "\n",
            "Turn: Why do i need to check the PH level of soil? \n",
            "Label: knowledge\n",
            "\n",
            "Turn: The ph level is good, what's next?\n",
            "Label: preparation\n",
            "\n",
            "Turn: Alright I separated the plants, what now?\n",
            "Label: preparation\n",
            "\n",
            "Turn: Now I've got several baby violet plants in their own small pots with violet potting medium. What should I do with them next?\n",
            "Label: preparation\n",
            "\n",
            "Turn: They have a good home, now what step should I take next? \n",
            "Label: preparation\n",
            "\n",
            "Turn: How frequently will the soil get dry?\n",
            "Label: amount\n",
            "\n",
            "Turn: If heavy sunlight dries out the soil should I keep it away from direct light?\n",
            "Label: instruction\n",
            "\n",
            "Turn: Okay and they have light, so now what is the next step I can take? \n",
            "Label: preparation\n",
            "\n",
            "Turn: Yes it should have plenty of light, so what‚Äôs next?\n",
            "Label: preparation\n",
            "\n",
            "Turn: I've got a time that I want to fertilize, what else can I do now? \n",
            "Label: preparation\n",
            "\n",
            "Turn: What should I do after monitoring and maintaining their temperature and humidity?\n",
            "Label: preparation\n",
            "\n"
          ]
        }
      ]
    },
    {
      "cell_type": "code",
      "source": [
        "# von GPT-3 generierte Labels als neue Spalte zu df hinzufügen\n",
        "test_df_st['final_pred_labels_few_level_1'] = final_pred_labels_few_level_1"
      ],
      "metadata": {
        "id": "_4WjWtr694VN"
      },
      "execution_count": null,
      "outputs": []
    },
    {
      "cell_type": "code",
      "source": [
        "# Vergleich GPT Labels mit manuellen Labels -> neue Spalte agreement, direkte Übereinstimmung: wahr/falsch\n",
        "test_df_st['agreement_few_level_1'] = test_df_st['label_1'] == test_df_st['final_pred_labels_few_level_1']"
      ],
      "metadata": {
        "id": "nLQrYGHU94VQ"
      },
      "execution_count": null,
      "outputs": []
    },
    {
      "cell_type": "code",
      "source": [
        "# Labels extrahieren, true sind manuelle und pred die von gpt 3\n",
        "pred_labels_few_level_1 = test_df_st['final_pred_labels_few_level_1']"
      ],
      "metadata": {
        "id": "6a5iPk2E94VR"
      },
      "execution_count": null,
      "outputs": []
    },
    {
      "cell_type": "code",
      "source": [
        "# Berechnung Precision, Recall und F1-Score für jedes Label\n",
        "precision = precision_score(true_labels_level_1, pred_labels_few_level_1, average=None, labels=labels_level_1)\n",
        "recall = recall_score(true_labels_level_1, pred_labels_few_level_1, average=None, labels=labels_level_1)\n",
        "f1 = f1_score(true_labels_level_1, pred_labels_few_level_1, average=None, labels=labels_level_1)"
      ],
      "metadata": {
        "id": "5xlej3GX94VR"
      },
      "execution_count": null,
      "outputs": []
    },
    {
      "cell_type": "code",
      "source": [
        "report = classification_report(true_labels_level_1, pred_labels_few_level_1, labels=labels_level_1)\n",
        "print(report)"
      ],
      "metadata": {
        "colab": {
          "base_uri": "https://localhost:8080/"
        },
        "outputId": "59ad5527-fb23-4bd1-b52f-dfd59e93a678",
        "id": "D8uVGZ8E94VS"
      },
      "execution_count": null,
      "outputs": [
        {
          "output_type": "stream",
          "name": "stdout",
          "text": [
            "                  precision    recall  f1-score   support\n",
            "\n",
            "       equipment       0.75      1.00      0.86         9\n",
            "     preparation       0.99      0.94      0.96        70\n",
            "        material       1.00      0.43      0.60         7\n",
            "   miscellaneous       0.50      0.50      0.50         4\n",
            "     instruction       0.50      0.90      0.64        10\n",
            "       knowledge       0.85      0.92      0.88        12\n",
            "manual technique       1.00      0.20      0.33         5\n",
            "            time       1.00      1.00      1.00         3\n",
            "          amount       1.00      0.67      0.80         3\n",
            "\n",
            "        accuracy                           0.86       123\n",
            "       macro avg       0.84      0.73      0.73       123\n",
            "    weighted avg       0.90      0.86      0.86       123\n",
            "\n"
          ]
        }
      ]
    },
    {
      "cell_type": "code",
      "source": [
        "# Berechnung Cohen's Kappa\n",
        "kappa = cohen_kappa_score(true_labels_level_1, pred_labels_few_level_1, labels=labels_level_1)\n",
        "print(f\"Cohen's Kappa: {kappa:.2f}\")"
      ],
      "metadata": {
        "colab": {
          "base_uri": "https://localhost:8080/"
        },
        "outputId": "61d805a0-1bba-4742-db33-86b9147d35b1",
        "id": "Fepki6SO94VS"
      },
      "execution_count": null,
      "outputs": [
        {
          "output_type": "stream",
          "name": "stdout",
          "text": [
            "Cohen's Kappa: 0.79\n"
          ]
        }
      ]
    },
    {
      "cell_type": "code",
      "source": [
        "test_df_st.to_excel('GPT3_Few_Level1.xlsx', index=False)\n",
        "test_df_st = reset_test_df_st.copy()"
      ],
      "metadata": {
        "id": "uV_p9w3Geq2s"
      },
      "execution_count": null,
      "outputs": []
    },
    {
      "cell_type": "markdown",
      "source": [
        "# **Datenannotation mit GPT-4**"
      ],
      "metadata": {
        "id": "pjnIiL7DDD6o"
      }
    },
    {
      "cell_type": "code",
      "source": [
        "model = \"gpt-4o-mini\""
      ],
      "metadata": {
        "id": "FjvD2wT8T9fk"
      },
      "execution_count": null,
      "outputs": []
    },
    {
      "cell_type": "code",
      "source": [
        "# turns und roles in Liste speichern, damit über diese iteriert werden kann\n",
        "# wird bei jedem Prompt benötigt\n",
        "turns = test_df['turn'].tolist()\n",
        "roles = test_df['role'].tolist()"
      ],
      "metadata": {
        "id": "JgTxjdiWMWLe"
      },
      "execution_count": null,
      "outputs": []
    },
    {
      "cell_type": "code",
      "source": [
        "# Nur Zeilen von role=student, da generated_label dazu und dann Vergleich; komplett mit teacher passen Längen nicht\n",
        "test_df_st = test_df[test_df['role'] == 'student']"
      ],
      "metadata": {
        "id": "X2e2lJ5hTafu"
      },
      "execution_count": null,
      "outputs": []
    },
    {
      "cell_type": "code",
      "source": [
        "test_df_st = test_df_st.copy()"
      ],
      "metadata": {
        "id": "4sTY4sxfTafu"
      },
      "execution_count": null,
      "outputs": []
    },
    {
      "cell_type": "code",
      "source": [
        "test_df_st['label_0'] = test_df_st['label_0'].str.lower()\n",
        "test_df_st['label_1'] = test_df_st['label_1'].str.lower()"
      ],
      "metadata": {
        "id": "SDXKx1FXQ2LC"
      },
      "execution_count": null,
      "outputs": []
    },
    {
      "cell_type": "code",
      "source": [
        "# um df wieder in orig. Zustand zurückzusetzen\n",
        "reset_test_df_st = test_df_st.copy()"
      ],
      "metadata": {
        "id": "cibBoZ05rIzo"
      },
      "execution_count": null,
      "outputs": []
    },
    {
      "cell_type": "code",
      "source": [
        "true_labels_level_0 = test_df_st['label_0'] # ist immer gleich bei level 0\n",
        "true_labels_level_1 = test_df_st['label_1'] # ist immer gleich bei level 1"
      ],
      "metadata": {
        "id": "YyXFzRyPRP2D"
      },
      "execution_count": null,
      "outputs": []
    },
    {
      "cell_type": "markdown",
      "source": [
        "## ***Zero-Shot Prompting***"
      ],
      "metadata": {
        "id": "EH9X2wh5TOwm"
      }
    },
    {
      "cell_type": "markdown",
      "source": [
        "### Level 0"
      ],
      "metadata": {
        "id": "5lGVvgaMTafh"
      }
    },
    {
      "cell_type": "code",
      "source": [
        "# Prompt Zero Level 0\n",
        "prompt_zero_level_0 = \"\"\"\n",
        "### CONTEXT ###\n",
        "The data collected consists of conversations between a conversational assistant ('role'='teacher'), who provides guidance during a do-it-yourself project, and a user ('role'='student'), who expresses statements or questions to the conversational assistant during the process.\n",
        "In order to find out which information needs the users express with this utterance (also called turn), these must be assigned to their information needs with the help of the taxonomy, i.e. annotated or classified.\n",
        "\n",
        "\n",
        "### OBJECTIVE ###\n",
        "Classify/annotate each statement of the user with one of the following two labels, which represent an information need of the user. You are an expert in data annotation!\n",
        "Each label is briefly defined for better delimitation.\n",
        "\n",
        "The two labels are as follows:\n",
        "- \"fact\": Information need regarding instructions that convey facts. Subcategories assigned to this:\n",
        "  > \"amount\": Information need regarding a quantity or frequency specification.\n",
        "  > \"material\": Information need regarding the required consumables.\n",
        "  > \"instruction\": Information needs regarding the selection or understanding of a project or guidance in general. Including general questions about the overall process or guidance, without referring to individual steps or detailed actions. This includes questions about the general requirements for completing a project, but without asking about specific materials, equipment or step-by-step instructions.\n",
        "  > \"time\": Information need regarding a time specification.\n",
        "  > \"equipment\": Information need regarding the required equipment such as devices, machines and tools, but not the technique of how to use them.\n",
        "  > \"knowledge\": Information need regarding background information/knowledge about the topic.\n",
        "  > \"miscellaneous\": Information need that cannot be assigned to any of the other subcategories/labels.\n",
        "\n",
        "- \"competence\": Information need on how to carry out the project. These actions or activities are necessary to carry out the project. Subcategories assigned to this:\n",
        "  > \"preparation\": Information need regarding the steps of the process, including questions about the next step or tips that should be followed.\n",
        "  > \"manual technique\": Information need regarding a practical instruction or method on how exactly to carry out a step that has not yet been described in detail. It is about the HOW of carrying out a step.\n",
        "\n",
        "Also consider the context and the user's previous statements!\n",
        "Also consider the previous statements of the conversational assistant, which can have an influence on the label of the user's information needs!\n",
        "\n",
        "### STYLE ###\n",
        "Only use the two categories \"fact\" or \"competence\"!\n",
        "\n",
        "\n",
        "### AUDIENCE ###\n",
        "The labels are used for analysis by a group of scientists in information science and linguistics.\n",
        "\n",
        "\n",
        "### RESPONSE ###\n",
        "Only the individual label \"fact\" or \"competence\" for each utterance.\n",
        "\"\"\""
      ],
      "metadata": {
        "id": "OTqHL_p2Tafs"
      },
      "execution_count": null,
      "outputs": []
    },
    {
      "cell_type": "code",
      "source": [
        "pred_labels_zero_level_0 = []\n",
        "\n",
        "for turn, role in zip(turns, roles):\n",
        "  if role == 'student':\n",
        "    label = annotate(client, model, prompt_zero_level_0, turn)\n",
        "    if label:\n",
        "      print(f\"Turn: {turn}\\nLabel: {label}\\n\")\n",
        "      pred_labels_zero_level_0.append(label.lower())\n",
        "    else:\n",
        "      pred_labels_zero_level_0.append(\"Fehler bei Anfrage\")\n",
        "  else:\n",
        "    # turns von teacher überspringen, da diese nicht gelabelt werden; nur für Kontext da\n",
        "    continue"
      ],
      "metadata": {
        "colab": {
          "base_uri": "https://localhost:8080/"
        },
        "outputId": "1ff9c2c8-d66e-4c21-8a53-06ab70d7778b",
        "id": "1anfJPuoTaft"
      },
      "execution_count": null,
      "outputs": [
        {
          "output_type": "stream",
          "name": "stdout",
          "text": [
            "Turn: What are the tools and other things required for starting a bonsai tree?\n",
            "Label: fact\n",
            "\n",
            "Turn: I'm ready for the first step now please. \n",
            "Label: competence\n",
            "\n",
            "Turn: I've got an idea of where I want it to grow, what's the next step that I need to take now? \n",
            "Label: competence\n",
            "\n",
            "Turn: How do we prepare the tree? \n",
            "Label: competence\n",
            "\n",
            "Turn: Ok, I have a nice dark green pot, perfect. What should I do now?\n",
            "Label: competence\n",
            "\n",
            "Turn: Gotcha.  The tree is all ready for potting now, what's next?\n",
            "Label: competence\n",
            "\n",
            "Turn: Ok, I've prepared the tree, wired the branches as asked and followed all direction, what should I do now?\n",
            "Label: competence\n",
            "\n",
            "Turn: I've pruned and cleaned the roots, what's next?\n",
            "Label: competence\n",
            "\n",
            "Turn: How do I prepare the pot?\n",
            "Label: competence\n",
            "\n",
            "Turn: It is dry and clean, what should I do now?\n",
            "Label: competence\n",
            "\n",
            "Turn: Okay, the tree's been potted.  What now?\n",
            "Label: competence\n",
            "\n",
            "Turn: Thanks for the tips, is there anything else I need to know or do?\n",
            "Label: fact\n",
            "\n",
            "Turn: I have some good seeds, what is the next step I should take?\n",
            "Label: competence\n",
            "\n",
            "Turn: What should I do after the seeds germinate?\n",
            "Label: competence\n",
            "\n",
            "Turn: What do I do after I plant the germinated seeds?\n",
            "Label: competence\n",
            "\n",
            "Turn: Any specific growing medium I need for my seeds?\n",
            "Label: fact\n",
            "\n",
            "Turn: I have pot picked out, what should I do next?\n",
            "Label: competence\n",
            "\n",
            "Turn: After following the steps in the shared content, what should I do next?\n",
            "Label: competence\n",
            "\n",
            "Turn: Basil is so fragrant. I love it. \n",
            "Label: fact\n",
            "\n",
            "Turn: There are so many kinds, what do you recommend?\n",
            "Label: fact\n",
            "\n",
            "Turn: Good to know!  What tools might I need to grow some basil of my own?\n",
            "Label: fact\n",
            "\n",
            "Turn: Uh, I don't get it. Can you please tell me about the tools that I'll need?\n",
            "Label: fact\n",
            "\n",
            "Turn: Gotcha!  Once I have all those tools, what do I need to do to get started growing the basil?\n",
            "Label: competence\n",
            "\n",
            "Turn: Okay.  I've got the basil I want to grow picked out.  What should I do next?\n",
            "Label: competence\n",
            "\n",
            "Turn: Does that mean basil grows best in the spring and summer?\n",
            "Label: fact\n",
            "\n",
            "Turn: This seems very accurate. So, now that I know I'm starting at the right time, what should I do?\n",
            "Label: competence\n",
            "\n",
            "Turn: Which is the best place to place the container the plant is seeded\n",
            "Label: competence\n",
            "\n",
            "Turn: How long does it take for the basil to grow?\n",
            "Label: fact\n",
            "\n",
            "Turn: Is there a way to cut them after they grow?\n",
            "Label: competence\n",
            "\n",
            "Turn: When should I cut the basil leaves?\n",
            "Label: fact\n",
            "\n",
            "Turn: Now what step do I need to take to start this process? \n",
            "Label: competence\n",
            "\n",
            "Turn: Okay, now what should I do after that? \n",
            "Label: competence\n",
            "\n",
            "Turn: Can i u se other oily substance to loosen zipper? \n",
            "Label: fact\n",
            "\n",
            "Turn: I don't really have access to those right now but i have some beeswax lipbalm that is mostly beeswax. Where do I apply it to the zipper to unstick it?\n",
            "Label: competence\n",
            "\n",
            "Turn: what tool I need to use after that?\n",
            "Label: competence\n",
            "\n",
            "Turn: All right. I guess I was wondering what the next step after lubricating the zipper was.\n",
            "Label: competence\n",
            "\n",
            "Turn: What should I do after rinsing the zipper?\n",
            "Label: competence\n",
            "\n",
            "Turn: What should I do after washing and scrubbing the zipper?\n",
            "Label: competence\n",
            "\n",
            "Turn: I have rubbed the zipper with he toothbrush, what should I do now?\n",
            "Label: competence\n",
            "\n",
            "Turn: I have a lubricant, is there anything else that I should do?\n",
            "Label: competence\n",
            "\n",
            "Turn: Good to know!  Any other steps you could share?\n",
            "Label: competence\n",
            "\n",
            "Turn: Why do engines overheat in the first place?\n",
            "Label: fact\n",
            "\n",
            "Turn: Good to know!  So what tools will be needed for me to stop the engine overheating?\n",
            "Label: fact\n",
            "\n",
            "Turn: That's very informative!  I followed the steps you outlined.  What do I need to do now?\n",
            "Label: competence\n",
            "\n",
            "Turn: I have pulled over, is there another step I can take to troubleshoot this issue?\n",
            "Label: competence\n",
            "\n",
            "Turn: What exactly is decoupage?\n",
            "Label: fact\n",
            "\n",
            "Turn: Oh ok, thanks for that! Sounds fun! What do I need to get started?\n",
            "Label: fact\n",
            "\n",
            "Turn: what is decoupage? \n",
            "Label: fact\n",
            "\n",
            "Turn: This looks like a typing error. Anyway, I'm getting my tools together and I'm not sure about the glue. Do I have to use a particular type of crafting glue to do this project?\n",
            "Label: fact\n",
            "\n",
            "Turn: what do I do next to get started\n",
            "Label: competence\n",
            "\n",
            "Turn: Okay, I threw a couple layers of newspaper down.  What should I do now?\n",
            "Label: competence\n",
            "\n",
            "Turn: What is the easiest type of material to apply?\n",
            "Label: fact\n",
            "\n",
            "Turn: I'll ask for next to follow\n",
            "Label: competence\n",
            "\n",
            "Turn: If I could only choose one thing to decoupage what would be the best choice?  I want to make sure I'm getting the best results!\n",
            "Label: fact\n",
            "\n",
            "Turn: Can I reverse the process if I make a mistake?\n",
            "Label: competence\n",
            "\n",
            "Turn: I decided to decoupage a small box, it seems like a good starter project to practice on. So I have my materials, my item (small box), and some newspaper down. How should I set up my work station and proceed?\n",
            "Label: competence\n",
            "\n",
            "Turn: Are there any difficult instructions?\n",
            "Label: fact\n",
            "\n",
            "Turn: Okay, I picked out a surface!  What should I do next?\n",
            "Label: competence\n",
            "\n",
            "Turn: Sounds easy enough!  I cut the material to fit the surface of the object I'm using.  What should I do next?\n",
            "Label: competence\n",
            "\n",
            "Turn: I have the glue in the bowl, what should I do next?\n",
            "Label: competence\n",
            "\n",
            "Turn: I have the surface covered, what should I do next?\n",
            "Label: competence\n",
            "\n",
            "Turn: Ok. Once thats done, how long should I let it dry for?\n",
            "Label: fact\n",
            "\n",
            "Turn: Now that I've let that dry, what's the next step I should take? \n",
            "Label: competence\n",
            "\n",
            "Turn: Okay, I‚Äôve put on another layer of glue. Now do I do the paper?\n",
            "Label: competence\n",
            "\n",
            "Turn: Okay, now what should I do next? \n",
            "Label: competence\n",
            "\n",
            "Turn: Is the cheapest way to fertilize a garden with compost from my kitchen?\n",
            "Label: fact\n",
            "\n",
            "Turn: I'm not sure if you understood my previous question.  Could you try answering again?\n",
            "Label: fact\n",
            "\n",
            "Turn: We'll go with coffee, because I always have that around the house!  So how do I get started fertilizing?\n",
            "Label: competence\n",
            "\n",
            "Turn: That's so helpful!  I've dried the grounds and spread them around.  Is that it?\n",
            "Label: competence\n",
            "\n",
            "Turn: I don't have a coffee grinder. Can I crush the shells by hand? How fine do they have to be?\n",
            "Label: competence\n",
            "\n",
            "Turn: I'm sorry, I got confused.  I obviously have a grinder because I already spread coffee grounds around.  Are there any other tips you could share?\n",
            "Label: competence\n",
            "\n",
            "Turn: Great, I will use a banana peel because I don't want to waste food. Is there anything else I should do?\n",
            "Label: competence\n",
            "\n",
            "Turn: You already said that earlier, but thanks!  Any new tips?\n",
            "Label: competence\n",
            "\n",
            "Turn: I don't know what epsom salts are.  Can you tell me what they are?\n",
            "Label: fact\n",
            "\n",
            "Turn: What type of tools am I going to need for this? \n",
            "Label: fact\n",
            "\n",
            "Turn: If there are no tools needed, then how do I decide how to make the purchase?\n",
            "Label: fact\n",
            "\n",
            "Turn: What is the cord going to be used for?\n",
            "Label: fact\n",
            "\n",
            "Turn: What type of mattress is good for side sleepers? \n",
            "Label: fact\n",
            "\n",
            "Turn: Yes. How do I determine what is a good quality mattress when I'm in the store?\n",
            "Label: fact\n",
            "\n",
            "Turn: Are mattress sizes all standard? \n",
            "Label: fact\n",
            "\n",
            "Turn: What is memory foam made out of?\n",
            "Label: fact\n",
            "\n",
            "Turn: What are the benefits of high-density foam?\n",
            "Label: fact\n",
            "\n",
            "Turn: Why is memory foam a popular mattress choice? \n",
            "Label: fact\n",
            "\n",
            "Turn: Ok thank you. Anything else I should know before finishing up?\n",
            "Label: fact\n",
            "\n",
            "Turn: What tools do I need to grow elephant ear plants?\n",
            "Label: fact\n",
            "\n",
            "Turn: If the temperatures are still cold in the spring should I plant this indoors?\n",
            "Label: fact\n",
            "\n",
            "Turn: It's pretty cold here already. What type of potting soil will I need to plant indoors?\n",
            "Label: fact\n",
            "\n",
            "Turn: Can I propagate the Elephant Ear Plant from a plant I already have or do I need to purchase them?\n",
            "Label: fact\n",
            "\n",
            "Turn: Great, so for an indoor start, I have my plant and pot and correct acidity of planting medium. What should I do?\n",
            "Label: competence\n",
            "\n",
            "Turn: I've picked out a great spot with the right amount of indirect light. What should I do now?\n",
            "Label: competence\n",
            "\n",
            "Turn: How should I start planting once I've found the right spot?\n",
            "Label: competence\n",
            "\n",
            "Turn: I have dug a drainage hole and am ready to plant my elephant ear plant, how should I begin?\n",
            "Label: competence\n",
            "\n",
            "Turn: Now I have checked the ph level, what should I do next?\n",
            "Label: competence\n",
            "\n",
            "Turn: Ok, once the holes are dug can I put the plants right in?\n",
            "Label: competence\n",
            "\n",
            "Turn: I'm done digging, what do i do with the bulbs?\n",
            "Label: competence\n",
            "\n",
            "Turn: Alright, I've pressed my bulbs down firmly, flat-end down. What now?\n",
            "Label: competence\n",
            "\n",
            "Turn: How often should I be watering my plant?\n",
            "Label: fact\n",
            "\n",
            "Turn: Okay and I've kept the soil moist, what can I do next? \n",
            "Label: competence\n",
            "\n",
            "Turn: Why shouldn't I place my marker directly over the bulb?\n",
            "Label: competence\n",
            "\n",
            "Turn: Okay and is there another step that I should take after this? \n",
            "Label: competence\n",
            "\n",
            "Turn: It took the full three weeks but I'm finally seeing some sprouts. How do I nurture them?\n",
            "Label: competence\n",
            "\n",
            "Turn: What should I do after watering the plat's roots in the morning?\n",
            "Label: competence\n",
            "\n",
            "Turn: What should I do outside of adding slow-release fertilizer once a month?\n",
            "Label: competence\n",
            "\n",
            "Turn: What type of climate do African violets grow in? \n",
            "Label: fact\n",
            "\n",
            "Turn: What tools do I need to grow African violets?\n",
            "Label: fact\n",
            "\n",
            "Turn: Could you specify how much cement I'll need?\n",
            "Label: fact\n",
            "\n",
            "Turn: I have gathered the cement and other supplies, what should I do next?\n",
            "Label: competence\n",
            "\n",
            "Turn: Alright I have got water and my plant what‚Äôs next?\n",
            "Label: competence\n",
            "\n",
            "Turn: I went for the easier directions and put the leaf directly into the soil. So I just wait for it to take root?\n",
            "Label: competence\n",
            "\n",
            "Turn: What is the best place I can get these types of seeds?\n",
            "Label: fact\n",
            "\n",
            "Turn: Gotcha, I picked them up from the nursery by my house.  What should I do now?\n",
            "Label: competence\n",
            "\n",
            "Turn: What tool do I need to test the soil pH?\n",
            "Label: fact\n",
            "\n",
            "Turn: Why do i need to check the PH level of soil? \n",
            "Label: fact\n",
            "\n",
            "Turn: The ph level is good, what's next?\n",
            "Label: competence\n",
            "\n",
            "Turn: Alright I separated the plants, what now?\n",
            "Label: competence\n",
            "\n",
            "Turn: Now I've got several baby violet plants in their own small pots with violet potting medium. What should I do with them next?\n",
            "Label: competence\n",
            "\n",
            "Turn: They have a good home, now what step should I take next? \n",
            "Label: competence\n",
            "\n",
            "Turn: How frequently will the soil get dry?\n",
            "Label: fact\n",
            "\n",
            "Turn: If heavy sunlight dries out the soil should I keep it away from direct light?\n",
            "Label: competence\n",
            "\n",
            "Turn: Okay and they have light, so now what is the next step I can take? \n",
            "Label: competence\n",
            "\n",
            "Turn: Yes it should have plenty of light, so what‚Äôs next?\n",
            "Label: competence\n",
            "\n",
            "Turn: I've got a time that I want to fertilize, what else can I do now? \n",
            "Label: competence\n",
            "\n",
            "Turn: What should I do after monitoring and maintaining their temperature and humidity?\n",
            "Label: competence\n",
            "\n"
          ]
        }
      ]
    },
    {
      "cell_type": "code",
      "source": [
        "# generierte Labels als neue Spalte zu df\n",
        "test_df_st['pred_label_zero_level_0'] = pred_labels_zero_level_0"
      ],
      "metadata": {
        "id": "KSwOnzP6Tafu"
      },
      "execution_count": null,
      "outputs": []
    },
    {
      "cell_type": "code",
      "source": [
        "# Vergleich GPT Labels mit manuellen Labels -> neue Spalte agreement, direkte Übereinstimmung: wahr/falsch\n",
        "test_df_st['agreement_zero_Level_0'] = test_df_st['label_0'] == test_df_st['pred_label_zero_level_0']"
      ],
      "metadata": {
        "id": "mWMhcRWmTafv"
      },
      "execution_count": null,
      "outputs": []
    },
    {
      "cell_type": "markdown",
      "source": [
        "Evaluation mit Precision, Recall, F1-Score, Cohen's Kappa"
      ],
      "metadata": {
        "id": "5ZeN_1PNTafv"
      }
    },
    {
      "cell_type": "code",
      "source": [
        "# true: manuelle Labels\n",
        "# pred: generierte Labels von GPT\n",
        "pred_labels_zero_level_0 = test_df_st['pred_label_zero_level_0']"
      ],
      "metadata": {
        "id": "09O2ms8mTafv"
      },
      "execution_count": null,
      "outputs": []
    },
    {
      "cell_type": "code",
      "source": [
        "# Precision, Recall und F1-Score pro Label\n",
        "precision = precision_score(true_labels_level_0, pred_labels_zero_level_0, average=None, labels=labels_level_0) # average, damit für jedes Label einzeln; labels_level_0 ganz am Anfang\n",
        "recall = recall_score(true_labels_level_0, pred_labels_zero_level_0, average=None, labels=labels_level_0)\n",
        "f1 = f1_score(true_labels_level_0, pred_labels_zero_level_0, average=None, labels=labels_level_0)"
      ],
      "metadata": {
        "id": "kZ8ssVUjTafv"
      },
      "execution_count": null,
      "outputs": []
    },
    {
      "cell_type": "code",
      "source": [
        "report = classification_report(true_labels_level_0, pred_labels_zero_level_0, labels=labels_level_0)\n",
        "print(report)"
      ],
      "metadata": {
        "colab": {
          "base_uri": "https://localhost:8080/"
        },
        "outputId": "0426b22f-38b1-4c47-e2ae-be1fa4dd72a0",
        "id": "PWVaBpZgTafw"
      },
      "execution_count": null,
      "outputs": [
        {
          "output_type": "stream",
          "name": "stdout",
          "text": [
            "              precision    recall  f1-score   support\n",
            "\n",
            "        fact       0.98      0.94      0.96        48\n",
            "  competence       0.96      0.99      0.97        75\n",
            "\n",
            "    accuracy                           0.97       123\n",
            "   macro avg       0.97      0.96      0.97       123\n",
            "weighted avg       0.97      0.97      0.97       123\n",
            "\n"
          ]
        }
      ]
    },
    {
      "cell_type": "code",
      "source": [
        "# Cohen's Kappa: Inter-Rater Reliability -> berechnet mit ein, dass manche Label nur zufällig gewählt wurden\n",
        "kappa = cohen_kappa_score(true_labels_level_0, pred_labels_zero_level_0, labels=labels_level_0)\n",
        "print(f\"Cohen's Kappa: {kappa:.2f}\")"
      ],
      "metadata": {
        "colab": {
          "base_uri": "https://localhost:8080/"
        },
        "outputId": "eb8d244d-b654-4b5c-fefd-d2b2edc62324",
        "id": "7iFyjQAVTafw"
      },
      "execution_count": null,
      "outputs": [
        {
          "output_type": "stream",
          "name": "stdout",
          "text": [
            "Cohen's Kappa: 0.93\n"
          ]
        }
      ]
    },
    {
      "cell_type": "code",
      "source": [
        "test_df_st.to_excel('GPT4_Zero_Level0.xlsx', index=False)"
      ],
      "metadata": {
        "id": "UKX8LoxQrw2i"
      },
      "execution_count": null,
      "outputs": []
    },
    {
      "cell_type": "code",
      "source": [
        "test_df_st = reset_test_df_st.copy()"
      ],
      "metadata": {
        "id": "28tUELDEr5d-"
      },
      "execution_count": null,
      "outputs": []
    },
    {
      "cell_type": "markdown",
      "source": [
        "### Level 1"
      ],
      "metadata": {
        "id": "8CcsdKE2U1Ic"
      }
    },
    {
      "cell_type": "code",
      "source": [
        "# Prompt für Zero-Shot Level 1\n",
        "prompt_zero_level_1 = \"\"\"\n",
        "### CONTEXT ###\n",
        "The data collected consists of conversations between a conversational assistant ('role'='teacher'), who provides guidance during a do-it-yourself project, and a user ('role'='student'), who expresses statements or questions to the conversational assistant during the process.\n",
        "In order to find out which information needs the users express with this utterance (also called turn), these must be assigned to their information needs with the help of the taxonomy, i.e. annotated or classified.\n",
        "\n",
        "\n",
        "### OBJECTIVE ###\n",
        "Classify/annotate each statement of the user with one of the following labels, which represent an information need of the user. You are an expert in data annotation!\n",
        "Each label is briefly defined for better delimitation.\n",
        "\n",
        "The nine labels are as follows:\n",
        "- \"amount\": Information need regarding a quantity or frequency specification.\n",
        "- \"material\": Information need regarding the required consumables.\n",
        "- \"preparation\": Information need regarding the steps of the process, including questions about the next step or tips that should be followed.\n",
        "- \"manual technique\": Information need regarding a practical instruction or method on how exactly to carry out a step that has not yet been described in detail. It is about the HOW of carrying out a step.\n",
        "- \"instruction\": Information needs regarding the selection or understanding of a project or guidance in general. Including general questions about the overall process or guidance, without referring to individual steps or detailed actions. This includes questions about the general requirements for completing a project, but without asking about specific materials, equipment or step-by-step instructions.\n",
        "- \"time\": Information need regarding a time specification.\n",
        "- \"equipment\": Information need regarding the required equipment such as devices, machines and tools, but not the technique of how to use them.\n",
        "- \"knowledge\": Information need regarding background information/knowledge about the topic.\n",
        "- \"miscellaneous\": Information need that cannot be assigned to any of the other categories/labels.\n",
        "\n",
        "Also consider the context and the user's previous statements!\n",
        "\n",
        "\n",
        "### STYLE ###\n",
        "Only use the above labels.\n",
        "\n",
        "\n",
        "### AUDIENCE ###\n",
        "The labels are used for analysis by a group of scientists in information science and linguistics.\n",
        "\n",
        "\n",
        "### RESPONSE ###\n",
        "Only the label for each utterance.\n",
        "\"\"\""
      ],
      "metadata": {
        "id": "rM_shMm0U1Ie"
      },
      "execution_count": null,
      "outputs": []
    },
    {
      "cell_type": "code",
      "source": [
        "#print(prompt_zero_level_1)\n",
        "pred_labels_zero_level_1 = []\n",
        "\n",
        "for turn, role in zip(turns, roles):\n",
        "  if role == 'student':\n",
        "    label = annotate(client, model, prompt_zero_level_1, turn)\n",
        "    if label:\n",
        "      print(f\"Turn: {turn}\\nLabel: {label}\\n\")\n",
        "      pred_labels_zero_level_1.append(label.lower()) # .lower(), damit alles einheitlich mt manuellen Label\n",
        "    # Falls kein Label generiert werden kann\n",
        "    else:\n",
        "      pred_labels_zero_level_1.append(\"Fehler bei Anfrage\")\n",
        "  else:\n",
        "    # Überspringe turns von teacher\n",
        "    continue"
      ],
      "metadata": {
        "colab": {
          "base_uri": "https://localhost:8080/"
        },
        "outputId": "0ac0fd0f-72da-4010-99a9-c3ced6413954",
        "id": "CZdBALOeU1Ij"
      },
      "execution_count": null,
      "outputs": [
        {
          "output_type": "stream",
          "name": "stdout",
          "text": [
            "Turn: What are the tools and other things required for starting a bonsai tree?\n",
            "Label: equipment\n",
            "\n",
            "Turn: I'm ready for the first step now please. \n",
            "Label: preparation\n",
            "\n",
            "Turn: I've got an idea of where I want it to grow, what's the next step that I need to take now? \n",
            "Label: preparation\n",
            "\n",
            "Turn: How do we prepare the tree? \n",
            "Label: preparation\n",
            "\n",
            "Turn: Ok, I have a nice dark green pot, perfect. What should I do now?\n",
            "Label: preparation\n",
            "\n",
            "Turn: Gotcha.  The tree is all ready for potting now, what's next?\n",
            "Label: \"preparation\"\n",
            "\n",
            "Turn: Ok, I've prepared the tree, wired the branches as asked and followed all direction, what should I do now?\n",
            "Label: \"preparation\"\n",
            "\n",
            "Turn: I've pruned and cleaned the roots, what's next?\n",
            "Label: \"preparation\"\n",
            "\n",
            "Turn: How do I prepare the pot?\n",
            "Label: \"preparation\"\n",
            "\n",
            "Turn: It is dry and clean, what should I do now?\n",
            "Label: \"preparation\"\n",
            "\n",
            "Turn: Okay, the tree's been potted.  What now?\n",
            "Label: \"preparation\"\n",
            "\n",
            "Turn: Thanks for the tips, is there anything else I need to know or do?\n",
            "Label: instruction\n",
            "\n",
            "Turn: I have some good seeds, what is the next step I should take?\n",
            "Label: preparation\n",
            "\n",
            "Turn: What should I do after the seeds germinate?\n",
            "Label: \"preparation\"\n",
            "\n",
            "Turn: What do I do after I plant the germinated seeds?\n",
            "Label: \"preparation\"\n",
            "\n",
            "Turn: Any specific growing medium I need for my seeds?\n",
            "Label: material\n",
            "\n",
            "Turn: I have pot picked out, what should I do next?\n",
            "Label: \"preparation\"\n",
            "\n",
            "Turn: After following the steps in the shared content, what should I do next?\n",
            "Label: preparation\n",
            "\n",
            "Turn: Basil is so fragrant. I love it. \n",
            "Label: miscellaneous\n",
            "\n",
            "Turn: There are so many kinds, what do you recommend?\n",
            "Label: instruction\n",
            "\n",
            "Turn: Good to know!  What tools might I need to grow some basil of my own?\n",
            "Label: equipment\n",
            "\n",
            "Turn: Uh, I don't get it. Can you please tell me about the tools that I'll need?\n",
            "Label: equipment\n",
            "\n",
            "Turn: Gotcha!  Once I have all those tools, what do I need to do to get started growing the basil?\n",
            "Label: \"preparation\"\n",
            "\n",
            "Turn: Okay.  I've got the basil I want to grow picked out.  What should I do next?\n",
            "Label: preparation\n",
            "\n",
            "Turn: Does that mean basil grows best in the spring and summer?\n",
            "Label: knowledge\n",
            "\n",
            "Turn: This seems very accurate. So, now that I know I'm starting at the right time, what should I do?\n",
            "Label: \"preparation\"\n",
            "\n",
            "Turn: Which is the best place to place the container the plant is seeded\n",
            "Label: \"instruction\"\n",
            "\n",
            "Turn: How long does it take for the basil to grow?\n",
            "Label: \"time\"\n",
            "\n",
            "Turn: Is there a way to cut them after they grow?\n",
            "Label: \"manual technique\"\n",
            "\n",
            "Turn: When should I cut the basil leaves?\n",
            "Label: \"preparation\"\n",
            "\n",
            "Turn: Now what step do I need to take to start this process? \n",
            "Label: \"preparation\"\n",
            "\n",
            "Turn: Okay, now what should I do after that? \n",
            "Label: \"preparation\"\n",
            "\n",
            "Turn: Can i u se other oily substance to loosen zipper? \n",
            "Label: material\n",
            "\n",
            "Turn: I don't really have access to those right now but i have some beeswax lipbalm that is mostly beeswax. Where do I apply it to the zipper to unstick it?\n",
            "Label: \"manual technique\"\n",
            "\n",
            "Turn: what tool I need to use after that?\n",
            "Label: equipment\n",
            "\n",
            "Turn: All right. I guess I was wondering what the next step after lubricating the zipper was.\n",
            "Label: \"preparation\"\n",
            "\n",
            "Turn: What should I do after rinsing the zipper?\n",
            "Label: \"preparation\"\n",
            "\n",
            "Turn: What should I do after washing and scrubbing the zipper?\n",
            "Label: \"preparation\"\n",
            "\n",
            "Turn: I have rubbed the zipper with he toothbrush, what should I do now?\n",
            "Label: \"preparation\"\n",
            "\n",
            "Turn: I have a lubricant, is there anything else that I should do?\n",
            "Label: preparation\n",
            "\n",
            "Turn: Good to know!  Any other steps you could share?\n",
            "Label: \"preparation\"\n",
            "\n",
            "Turn: Why do engines overheat in the first place?\n",
            "Label: knowledge\n",
            "\n",
            "Turn: Good to know!  So what tools will be needed for me to stop the engine overheating?\n",
            "Label: equipment\n",
            "\n",
            "Turn: That's very informative!  I followed the steps you outlined.  What do I need to do now?\n",
            "Label: \"preparation\"\n",
            "\n",
            "Turn: I have pulled over, is there another step I can take to troubleshoot this issue?\n",
            "Label: preparation\n",
            "\n",
            "Turn: What exactly is decoupage?\n",
            "Label: knowledge\n",
            "\n",
            "Turn: Oh ok, thanks for that! Sounds fun! What do I need to get started?\n",
            "Label: instruction\n",
            "\n",
            "Turn: what is decoupage? \n",
            "Label: knowledge\n",
            "\n",
            "Turn: This looks like a typing error. Anyway, I'm getting my tools together and I'm not sure about the glue. Do I have to use a particular type of crafting glue to do this project?\n",
            "Label: material\n",
            "\n",
            "Turn: what do I do next to get started\n",
            "Label: preparation\n",
            "\n",
            "Turn: Okay, I threw a couple layers of newspaper down.  What should I do now?\n",
            "Label: \"preparation\"\n",
            "\n",
            "Turn: What is the easiest type of material to apply?\n",
            "Label: material\n",
            "\n",
            "Turn: I'll ask for next to follow\n",
            "Label: \"preparation\"\n",
            "\n",
            "Turn: If I could only choose one thing to decoupage what would be the best choice?  I want to make sure I'm getting the best results!\n",
            "Label: instruction\n",
            "\n",
            "Turn: Can I reverse the process if I make a mistake?\n",
            "Label: preparation\n",
            "\n",
            "Turn: I decided to decoupage a small box, it seems like a good starter project to practice on. So I have my materials, my item (small box), and some newspaper down. How should I set up my work station and proceed?\n",
            "Label: \"preparation\"\n",
            "\n",
            "Turn: Are there any difficult instructions?\n",
            "Label: instruction\n",
            "\n",
            "Turn: Okay, I picked out a surface!  What should I do next?\n",
            "Label: \"preparation\"\n",
            "\n",
            "Turn: Sounds easy enough!  I cut the material to fit the surface of the object I'm using.  What should I do next?\n",
            "Label: \"preparation\"\n",
            "\n",
            "Turn: I have the glue in the bowl, what should I do next?\n",
            "Label: preparation\n",
            "\n",
            "Turn: I have the surface covered, what should I do next?\n",
            "Label: \"preparation\"\n",
            "\n",
            "Turn: Ok. Once thats done, how long should I let it dry for?\n",
            "Label: \"time\"\n",
            "\n",
            "Turn: Now that I've let that dry, what's the next step I should take? \n",
            "Label: \"preparation\"\n",
            "\n",
            "Turn: Okay, I‚Äôve put on another layer of glue. Now do I do the paper?\n",
            "Label: \"preparation\"\n",
            "\n",
            "Turn: Okay, now what should I do next? \n",
            "Label: \"preparation\"\n",
            "\n",
            "Turn: Is the cheapest way to fertilize a garden with compost from my kitchen?\n",
            "Label: instruction\n",
            "\n",
            "Turn: I'm not sure if you understood my previous question.  Could you try answering again?\n",
            "Label: miscellaneous\n",
            "\n",
            "Turn: We'll go with coffee, because I always have that around the house!  So how do I get started fertilizing?\n",
            "Label: preparation\n",
            "\n",
            "Turn: That's so helpful!  I've dried the grounds and spread them around.  Is that it?\n",
            "Label: \"preparation\"\n",
            "\n",
            "Turn: I don't have a coffee grinder. Can I crush the shells by hand? How fine do they have to be?\n",
            "Label: manual technique\n",
            "\n",
            "Turn: I'm sorry, I got confused.  I obviously have a grinder because I already spread coffee grounds around.  Are there any other tips you could share?\n",
            "Label: \"preparation\"\n",
            "\n",
            "Turn: Great, I will use a banana peel because I don't want to waste food. Is there anything else I should do?\n",
            "Label: preparation\n",
            "\n",
            "Turn: You already said that earlier, but thanks!  Any new tips?\n",
            "Label: \"preparation\"\n",
            "\n",
            "Turn: I don't know what epsom salts are.  Can you tell me what they are?\n",
            "Label: knowledge\n",
            "\n",
            "Turn: What type of tools am I going to need for this? \n",
            "Label: equipment\n",
            "\n",
            "Turn: If there are no tools needed, then how do I decide how to make the purchase?\n",
            "Label: instruction\n",
            "\n",
            "Turn: What is the cord going to be used for?\n",
            "Label: knowledge\n",
            "\n",
            "Turn: What type of mattress is good for side sleepers? \n",
            "Label: knowledge\n",
            "\n",
            "Turn: Yes. How do I determine what is a good quality mattress when I'm in the store?\n",
            "Label: knowledge\n",
            "\n",
            "Turn: Are mattress sizes all standard? \n",
            "Label: knowledge\n",
            "\n",
            "Turn: What is memory foam made out of?\n",
            "Label: knowledge\n",
            "\n",
            "Turn: What are the benefits of high-density foam?\n",
            "Label: knowledge\n",
            "\n",
            "Turn: Why is memory foam a popular mattress choice? \n",
            "Label: knowledge\n",
            "\n",
            "Turn: Ok thank you. Anything else I should know before finishing up?\n",
            "Label: instruction\n",
            "\n",
            "Turn: What tools do I need to grow elephant ear plants?\n",
            "Label: equipment\n",
            "\n",
            "Turn: If the temperatures are still cold in the spring should I plant this indoors?\n",
            "Label: instruction\n",
            "\n",
            "Turn: It's pretty cold here already. What type of potting soil will I need to plant indoors?\n",
            "Label: material\n",
            "\n",
            "Turn: Can I propagate the Elephant Ear Plant from a plant I already have or do I need to purchase them?\n",
            "Label: \"knowledge\"\n",
            "\n",
            "Turn: Great, so for an indoor start, I have my plant and pot and correct acidity of planting medium. What should I do?\n",
            "Label: \"preparation\"\n",
            "\n",
            "Turn: I've picked out a great spot with the right amount of indirect light. What should I do now?\n",
            "Label: \"preparation\"\n",
            "\n",
            "Turn: How should I start planting once I've found the right spot?\n",
            "Label: \"preparation\"\n",
            "\n",
            "Turn: I have dug a drainage hole and am ready to plant my elephant ear plant, how should I begin?\n",
            "Label: preparation\n",
            "\n",
            "Turn: Now I have checked the ph level, what should I do next?\n",
            "Label: \"preparation\"\n",
            "\n",
            "Turn: Ok, once the holes are dug can I put the plants right in?\n",
            "Label: \"preparation\"\n",
            "\n",
            "Turn: I'm done digging, what do i do with the bulbs?\n",
            "Label: \"preparation\"\n",
            "\n",
            "Turn: Alright, I've pressed my bulbs down firmly, flat-end down. What now?\n",
            "Label: \"preparation\"\n",
            "\n",
            "Turn: How often should I be watering my plant?\n",
            "Label: amount\n",
            "\n",
            "Turn: Okay and I've kept the soil moist, what can I do next? \n",
            "Label: \"preparation\"\n",
            "\n",
            "Turn: Why shouldn't I place my marker directly over the bulb?\n",
            "Label: \"knowledge\"\n",
            "\n",
            "Turn: Okay and is there another step that I should take after this? \n",
            "Label: preparation\n",
            "\n",
            "Turn: It took the full three weeks but I'm finally seeing some sprouts. How do I nurture them?\n",
            "Label: preparation\n",
            "\n",
            "Turn: What should I do after watering the plat's roots in the morning?\n",
            "Label: \"preparation\"\n",
            "\n",
            "Turn: What should I do outside of adding slow-release fertilizer once a month?\n",
            "Label: \"preparation\"\n",
            "\n",
            "Turn: What type of climate do African violets grow in? \n",
            "Label: knowledge\n",
            "\n",
            "Turn: What tools do I need to grow African violets?\n",
            "Label: equipment\n",
            "\n",
            "Turn: Could you specify how much cement I'll need?\n",
            "Label: amount\n",
            "\n",
            "Turn: I have gathered the cement and other supplies, what should I do next?\n",
            "Label: preparation\n",
            "\n",
            "Turn: Alright I have got water and my plant what‚Äôs next?\n",
            "Label: preparation\n",
            "\n",
            "Turn: I went for the easier directions and put the leaf directly into the soil. So I just wait for it to take root?\n",
            "Label: preparation\n",
            "\n",
            "Turn: What is the best place I can get these types of seeds?\n",
            "Label: material\n",
            "\n",
            "Turn: Gotcha, I picked them up from the nursery by my house.  What should I do now?\n",
            "Label: preparation\n",
            "\n",
            "Turn: What tool do I need to test the soil pH?\n",
            "Label: equipment\n",
            "\n",
            "Turn: Why do i need to check the PH level of soil? \n",
            "Label: knowledge\n",
            "\n",
            "Turn: The ph level is good, what's next?\n",
            "Label: \"preparation\"\n",
            "\n",
            "Turn: Alright I separated the plants, what now?\n",
            "Label: \"preparation\"\n",
            "\n",
            "Turn: Now I've got several baby violet plants in their own small pots with violet potting medium. What should I do with them next?\n",
            "Label: preparation\n",
            "\n",
            "Turn: They have a good home, now what step should I take next? \n",
            "Label: \"preparation\"\n",
            "\n",
            "Turn: How frequently will the soil get dry?\n",
            "Label: amount\n",
            "\n",
            "Turn: If heavy sunlight dries out the soil should I keep it away from direct light?\n",
            "Label: knowledge\n",
            "\n",
            "Turn: Okay and they have light, so now what is the next step I can take? \n",
            "Label: \"preparation\"\n",
            "\n",
            "Turn: Yes it should have plenty of light, so what‚Äôs next?\n",
            "Label: \"preparation\"\n",
            "\n",
            "Turn: I've got a time that I want to fertilize, what else can I do now? \n",
            "Label: preparation\n",
            "\n",
            "Turn: What should I do after monitoring and maintaining their temperature and humidity?\n",
            "Label: \"preparation\"\n",
            "\n"
          ]
        }
      ]
    },
    {
      "cell_type": "code",
      "source": [
        "# \"\" entfernen, da diese Labels eigentlich richtig\n",
        "pred_labels_zero_level_1 = [label.strip('\"') for label in pred_labels_zero_level_1]"
      ],
      "metadata": {
        "id": "5lh9B1QmXgu-"
      },
      "execution_count": null,
      "outputs": []
    },
    {
      "cell_type": "code",
      "source": [
        "# neue Spalte mit predicted Labels\n",
        "test_df_st['pred_label_zero_level_1'] = pred_labels_zero_level_1"
      ],
      "metadata": {
        "id": "rurbYgyWU1Ij"
      },
      "execution_count": null,
      "outputs": []
    },
    {
      "cell_type": "code",
      "source": [
        "test_df_st['agreement_zero_level_1'] = test_df_st['label_1'] == test_df_st['pred_label_zero_level_1']"
      ],
      "metadata": {
        "id": "pb9pcI_8U1Ik"
      },
      "execution_count": null,
      "outputs": []
    },
    {
      "cell_type": "markdown",
      "source": [
        "Jetzt P, R, F1"
      ],
      "metadata": {
        "id": "jSVJBUNyU1Im"
      }
    },
    {
      "cell_type": "code",
      "source": [
        "# true sind manuelle und pred die von gpt\n",
        "pred_labels_zero_level_1 = test_df_st['pred_label_zero_level_1']"
      ],
      "metadata": {
        "id": "BEYsmh7fU1In"
      },
      "execution_count": null,
      "outputs": []
    },
    {
      "cell_type": "code",
      "source": [
        "# Berechnung Precision, Recall und F1-Score für jedes Label\n",
        "precision = precision_score(true_labels_level_1, pred_labels_zero_level_1, average=None, labels=labels_level_1)\n",
        "recall = recall_score(true_labels_level_1, pred_labels_zero_level_1, average=None, labels=labels_level_1)\n",
        "f1 = f1_score(true_labels_level_1, pred_labels_zero_level_1, average=None, labels=labels_level_1)"
      ],
      "metadata": {
        "id": "MOGCZHOxU1Io"
      },
      "execution_count": null,
      "outputs": []
    },
    {
      "cell_type": "code",
      "source": [
        "report = classification_report(true_labels_level_1, pred_labels_zero_level_1, labels=labels_level_1)\n",
        "print(report)\n",
        "# macro berücksichtigt die Verteilung der Klassen nicht\n",
        "#weighted berückschtigt die Verteilung, also dass zB die Label mit mehr Bsp eine höhere Chance auf richtig haben als zB amount"
      ],
      "metadata": {
        "colab": {
          "base_uri": "https://localhost:8080/"
        },
        "outputId": "fe1fbad4-3f12-4dc3-d1bc-30a78d7a1e37",
        "id": "32v3sWLvU1Io"
      },
      "execution_count": null,
      "outputs": [
        {
          "output_type": "stream",
          "name": "stdout",
          "text": [
            "                  precision    recall  f1-score   support\n",
            "\n",
            "       equipment       1.00      1.00      1.00         9\n",
            "     preparation       0.97      0.99      0.98        70\n",
            "        material       0.83      0.71      0.77         7\n",
            "   miscellaneous       1.00      0.50      0.67         4\n",
            "     instruction       0.70      0.70      0.70        10\n",
            "       knowledge       0.71      1.00      0.83        12\n",
            "manual technique       1.00      0.60      0.75         5\n",
            "            time       1.00      0.67      0.80         3\n",
            "          amount       1.00      1.00      1.00         3\n",
            "\n",
            "        accuracy                           0.91       123\n",
            "       macro avg       0.91      0.80      0.83       123\n",
            "    weighted avg       0.92      0.91      0.91       123\n",
            "\n"
          ]
        }
      ]
    },
    {
      "cell_type": "code",
      "source": [
        "# Berechnung von Cohen's Kappa\n",
        "kappa = cohen_kappa_score(true_labels_level_1, pred_labels_zero_level_1, labels=labels_level_1)\n",
        "print(f\"Cohen's Kappa: {kappa:.2f}\")"
      ],
      "metadata": {
        "colab": {
          "base_uri": "https://localhost:8080/"
        },
        "outputId": "5d923bd3-748c-464e-c6b0-2f9c1b1ccdd4",
        "id": "F0Y6GARsU1Ip"
      },
      "execution_count": null,
      "outputs": [
        {
          "output_type": "stream",
          "name": "stdout",
          "text": [
            "Cohen's Kappa: 0.86\n"
          ]
        }
      ]
    },
    {
      "cell_type": "code",
      "source": [
        "test_df_st.to_excel('GPT4_Zero_Level1.xlsx', index=False)\n",
        "test_df_st = reset_test_df_st.copy()"
      ],
      "metadata": {
        "id": "kKg3svEuszmt"
      },
      "execution_count": null,
      "outputs": []
    },
    {
      "cell_type": "markdown",
      "source": [
        "## ***Few Shot Prompting***"
      ],
      "metadata": {
        "id": "tuvoxB5CYXSU"
      }
    },
    {
      "cell_type": "code",
      "source": [
        "# Für Beispielauswahl\n",
        "train_df = train_df.copy()"
      ],
      "metadata": {
        "id": "_NP3cwvPNNn3"
      },
      "execution_count": null,
      "outputs": []
    },
    {
      "cell_type": "code",
      "source": [
        "# Nur Zeilen, bei denen label_0 bzw- label_1 Eintrag\n",
        "train_df = train_df[(train_df['label_0'].notna()) & (train_df['label_0'].str.strip() != '')]"
      ],
      "metadata": {
        "id": "wfJzz4VbNTV2"
      },
      "execution_count": null,
      "outputs": []
    },
    {
      "cell_type": "code",
      "source": [
        "# Nur Zeilen von role=student\n",
        "train_df_st = train_df[train_df['role'] == 'student']"
      ],
      "metadata": {
        "id": "7mctun73NV72"
      },
      "execution_count": null,
      "outputs": []
    },
    {
      "cell_type": "code",
      "source": [
        "train_df_st = train_df_st.copy()\n",
        "train_df_st['label_0'] = train_df_st['label_0'].str.lower()\n",
        "train_df_st['label_1'] = train_df_st['label_1'].str.lower()"
      ],
      "metadata": {
        "id": "cAQz8mQeNa-2"
      },
      "execution_count": null,
      "outputs": []
    },
    {
      "cell_type": "code",
      "source": [
        "# Prompt für few shot level 0\n",
        "prompt_few_level_0 = \"\"\"\n",
        "### CONTEXT ###\n",
        "The data collected consists of conversations between a conversational assistant ('role'='teacher'), who provides guidance during a do-it-yourself project, and a user ('role'='student'), who expresses statements or questions to the conversational assistant during the process.\n",
        "In order to find out which information needs the users express with this utterance (also called turn), these must be assigned to their information needs with the help of the taxonomy, i.e. annotated or classified.\n",
        "\n",
        "\n",
        "### OBJECTIVE ###\n",
        "Classify/annotate each statement of the user with one of the following two labels, which represent an information need of the user. You are an expert in data annotation!\n",
        "Each label is briefly defined for better delimitation.\n",
        "\n",
        "The two labels are as follows:\n",
        "- \"fact\": Information need regarding instructions that convey facts. Subcategories assigned to this:\n",
        "  > \"amount\": Information need regarding a quantity or frequency specification.\n",
        "  > \"material\": Information need regarding the required consumables.\n",
        "  > \"instruction\": Information needs regarding the selection or understanding of a project or guidance in general. Including general questions about the overall process or guidance, without referring to individual steps or detailed actions. This includes questions about the general requirements for completing a project, but without asking about specific materials, equipment or step-by-step instructions.\n",
        "  > \"time\": Information need regarding a time specification.\n",
        "  > \"equipment\": Information need regarding the required equipment such as devices, machines and tools, but not the technique of how to use them.\n",
        "  > \"knowledge\": Information need regarding background information/knowledge about the topic.\n",
        "  > \"miscellaneous\": Information need that cannot be assigned to any of the other subcategories/labels.\n",
        "\n",
        "- \"competence\": Information need on how to carry out the project. These actions or activities are necessary to carry out the project. Subcategories assigned to this:\n",
        "  > \"preparation\": Information need regarding the steps of the process, including questions about the next step or tips that should be followed.\n",
        "  > \"manual technique\": Information need regarding a practical instruction or method on how exactly to carry out a step that has not yet been described in detail. It is about the HOW of carrying out a step.\n",
        "\n",
        "Also consider the context and the user's previous statements!\n",
        "Also consider the previous statements of the conversational assistant, which can have an influence on the label of the user's information needs!\n",
        "\n",
        "\n",
        "### STYLE ###\n",
        "Only use the two categories \"fact\" or \"competence\"!\n",
        "\n",
        "\n",
        "### AUDIENCE ###\n",
        "The labels are used for analysis by a group of scientists in information science and linguistics.\n",
        "\n",
        "\n",
        "### RESPONSE ###\n",
        "Only the individual label \"fact\" or \"competence\" for each utterance.\n",
        "\n",
        "\n",
        "### EXAMPLES ###\n",
        "{few_shot_examples_level_0}\n",
        "\"\"\""
      ],
      "metadata": {
        "id": "Ny_491k93dKa"
      },
      "execution_count": null,
      "outputs": []
    },
    {
      "cell_type": "markdown",
      "source": [
        "### Level 0"
      ],
      "metadata": {
        "id": "08URpYrAySy-"
      }
    },
    {
      "cell_type": "code",
      "source": [
        "# Prompt Zero Level 0\n",
        "prompt_few_level_0 = \"\"\"\n",
        "### CONTEXT ###\n",
        "The data collected consists of conversations between a conversational assistant ('role'='teacher'), who provides guidance during a do-it-yourself project, and a user ('role'='student'), who expresses statements or questions to the conversational assistant during the process.\n",
        "In order to find out which information needs the users express with this utterance (also called turn), these must be assigned to their information needs with the help of the taxonomy, i.e. annotated or classified.\n",
        "\n",
        "\n",
        "### OBJECTIVE ###\n",
        "Classify/annotate each statement of the user with one of the following two labels, which represent an information need of the user. You are an expert in data annotation!\n",
        "Each label is briefly defined for better delimitation.\n",
        "\n",
        "The two labels are as follows:\n",
        "- \"fact\": Information need regarding instructions that convey facts. Subcategories assigned to this:\n",
        "  > \"amount\": Information need regarding a quantity or frequency specification.\n",
        "  > \"material\": Information need regarding the required consumables.\n",
        "  > \"instruction\": Information needs regarding the selection or understanding of a project or guidance in general. Including general questions about the overall process or guidance, without referring to individual steps or detailed actions. This includes questions about the general requirements for completing a project, but without asking about specific materials, equipment or step-by-step instructions.\n",
        "  > \"time\": Information need regarding a time specification.\n",
        "  > \"equipment\": Information need regarding the required equipment such as devices, machines and tools, but not the technique of how to use them.\n",
        "  > \"knowledge\": Information need regarding background information/knowledge about the topic.\n",
        "  > \"miscellaneous\": Information need that cannot be assigned to any of the other subcategories/labels.\n",
        "\n",
        "- \"competence\": Information need on how to carry out the project. These actions or activities are necessary to carry out the project. Subcategories assigned to this:\n",
        "  > \"preparation\": Information need regarding the steps of the process, including questions about the next step or tips that should be followed.\n",
        "  > \"manual technique\": Information need regarding a practical instruction or method on how exactly to carry out a step that has not yet been described in detail. It is about the HOW of carrying out a step.\n",
        "\n",
        "Also consider the context and the user's previous statements!\n",
        "Also consider the previous statements of the conversational assistant, which can have an influence on the label of the user's information needs!\n",
        "\n",
        "### STYLE ###\n",
        "Only use the two categories \"fact\" or \"competence\"!\n",
        "\n",
        "\n",
        "### AUDIENCE ###\n",
        "The labels are used for analysis by a group of scientists in information science and linguistics.\n",
        "\n",
        "\n",
        "### RESPONSE ###\n",
        "Only the individual label \"fact\" or \"competence\" for each utterance.\n",
        "\n",
        "\n",
        "### EXAMPLES ###\n",
        "{few_shot_examples}\n",
        "\"\"\""
      ],
      "metadata": {
        "id": "Qlmpehtl0Luq"
      },
      "execution_count": null,
      "outputs": []
    },
    {
      "cell_type": "markdown",
      "source": [
        "#### Auswahl Beispiele"
      ],
      "metadata": {
        "id": "CosCB1gfYbnS"
      }
    },
    {
      "cell_type": "markdown",
      "source": [
        "Auswahl der Few-Shot-Beispiele"
      ],
      "metadata": {
        "id": "LNKwaFK3YbnT"
      }
    },
    {
      "cell_type": "code",
      "source": [
        "def few_shots(df, label, max):\n",
        "  label_df = train_df_st[train_df_st['label_0'] == label]\n",
        "  label_examples = len(label_df)\n",
        "\n",
        "  if label_examples <= max:\n",
        "    k = label_examples\n",
        "  else:\n",
        "    k = max\n",
        "\n",
        "  return label_df.sample(n=k, random_state=42)\n",
        "\n",
        "examples = {}\n",
        "example_counts = {}  # Um Anzahl der few shots zu speichern\n",
        "\n",
        "# sample 20:  weighted 0.98, cohen 0.94\n",
        "\n",
        "# für jedes Label few shots erstellen + Anzahl\n",
        "for label in labels_level_0:\n",
        "  few_examples = few_shots(train_df_st, label, 20)\n",
        "  examples[label] = few_examples\n",
        "  example_counts[label] = len(few_examples)\n",
        "\n",
        "few_shot_examples = \"\\n\".join([f\" {row['turn']}\\n {label}\" for label, df in examples.items() for _, row in df.iterrows()])\n",
        "\n",
        "print(few_shot_examples)"
      ],
      "metadata": {
        "colab": {
          "base_uri": "https://localhost:8080/"
        },
        "outputId": "79d943a7-0df8-414d-bba7-d7e176a48f11",
        "id": "fT4bpwhDYbnU"
      },
      "execution_count": null,
      "outputs": [
        {
          "output_type": "stream",
          "name": "stdout",
          "text": [
            " What tools do I need to build a worm compost system?\n",
            " fact\n",
            " There are different types of worms, can you tell what the types are and what they are good for? \n",
            " fact\n",
            " Doesn't the change in color to brown mean that the pods are dying or unhealthy?\n",
            " fact\n",
            " I am confused by your response. Would you please rephrase? \n",
            " fact\n",
            " Can you tell me what a vacuum thermoflask is used for?\n",
            " fact\n",
            " How often do I need to feed the worms to feed them \"regularly\"?\n",
            " fact\n",
            " Ok. So the food scraps and the water, is there anything else I need to be aware of to maintain their health?\n",
            " fact\n",
            " Could I substitute baking soda if I don't have denture cleaning tablets?\n",
            " fact\n",
            " Will it irritate my skin? I have sensitive skin.\n",
            " fact\n",
            " How should I clean it?\n",
            " fact\n",
            " I have musty smelling shirts and pants from my wardrobe, what do I need to go about getting rid of the stink?\n",
            " fact\n",
            " I guess I'll have to try that then. Are there any other alternatives besides dry-cleaning and similar?\n",
            " fact\n",
            " Can you specify what the square is referring to on your list?\n",
            " fact\n",
            " Do worms prefer a specific soil? \n",
            " fact\n",
            " Should I be careful with certain fabrics?  Could the boiling water ruin them?\n",
            " fact\n",
            " If there is still a stain or two that's visible to the eye do I need to repeat the whole process?\n",
            " fact\n",
            " I have added the salt, what materials do I need for the next step?\n",
            " fact\n",
            " Is there any risk of damage to my clothes if I take it to a dry cleaner?\n",
            " fact\n",
            " How does liquid carbon dioxide cleaning work on clothes?\n",
            " fact\n",
            " Is the sunshine request for the seeds\n",
            " fact\n",
            " I have scrubbed as much as will come off, what is the next step I should take?\n",
            " competence\n",
            " Alright I got my tools, what now?\n",
            " competence\n",
            " Is there anything else that I need to do?\n",
            " competence\n",
            " I've let the clothes hang to dry, what should I do next? \n",
            " competence\n",
            " So after they turn brown and I've left some stem on the pods, what is after that?\n",
            " competence\n",
            " I've take care of that, what can I do next? \n",
            " competence\n",
            " Should I keep the water boiling with the clothes added?\n",
            " competence\n",
            " It's been rinsed, what's next? \n",
            " competence\n",
            " Okay and are there any more steps that I need to take?\n",
            " competence\n",
            " Once I've tested out my shirt with success what should I do?\n",
            " competence\n",
            " Gotcha!  What should I do after I'm done shaking it?\n",
            " competence\n",
            " Is there anything I should do after taking it to the dry cleaners?\n",
            " competence\n",
            " I tried it out and it seemed to work well?  Any other advice?\n",
            " competence\n",
            " What should I do after I've tried that cleaner?\n",
            " competence\n",
            " Okay, I decided to throw some aromatics in.  What should I do now?\n",
            " competence\n",
            " I have added salt, what do I need for the next step?\n",
            " competence\n",
            " Okay and now that I have everything ready, what should I start doing first? \n",
            " competence\n",
            " I have cleaned the tables, what should I do now?\n",
            " competence\n",
            " Good to know!  Any other storage tips?  Or general advice?  Or are we done?\n",
            " competence\n",
            " Alright I will be sure not to overfeed, what‚Äôs my next step?\n",
            " competence\n"
          ]
        }
      ]
    },
    {
      "cell_type": "code",
      "source": [
        "for label, count in example_counts.items():\n",
        "  print(f\"Label: {label}: {count}\")"
      ],
      "metadata": {
        "colab": {
          "base_uri": "https://localhost:8080/"
        },
        "outputId": "9b8804b6-5360-42bb-cda1-367712ee1651",
        "id": "vCVH_1OCYbnU"
      },
      "execution_count": null,
      "outputs": [
        {
          "output_type": "stream",
          "name": "stdout",
          "text": [
            "Label: fact: 20\n",
            "Label: competence: 20\n"
          ]
        }
      ]
    },
    {
      "cell_type": "code",
      "source": [
        "# Platzhalter füllen\n",
        "prompt_few_level_0 = prompt_few_level_0.replace(\"{few_shot_examples}\", few_shot_examples)"
      ],
      "metadata": {
        "id": "aKOIQF7UYbnV"
      },
      "execution_count": null,
      "outputs": []
    },
    {
      "cell_type": "code",
      "source": [
        "pred_labels_few_level_0 = []\n",
        "\n",
        "for turn, role in zip(turns, roles):\n",
        "  if role == 'student':\n",
        "    label = annotate(client, model, prompt_few_level_0, turn)\n",
        "    if label:\n",
        "      print(f\"Turn: {turn}\\nLabel: {label}\\n\")\n",
        "      pred_labels_few_level_0.append(label.lower())\n",
        "    else:\n",
        "      pred_labels_few_level_0.append(\"Fehler bei Anfrage\")\n",
        "\n",
        "  else:\n",
        "    # turns von teacher überspringen, da diese nicht gelabelt werden; nur für Kontext da\n",
        "    continue"
      ],
      "metadata": {
        "colab": {
          "base_uri": "https://localhost:8080/"
        },
        "outputId": "990cff67-6b0e-4b31-afd9-d8d8e5644a5e",
        "id": "lJsNGgm5YbnV"
      },
      "execution_count": null,
      "outputs": [
        {
          "output_type": "stream",
          "name": "stdout",
          "text": [
            "Turn: What are the tools and other things required for starting a bonsai tree?\n",
            "Label: fact\n",
            "\n",
            "Turn: I'm ready for the first step now please. \n",
            "Label: competence\n",
            "\n",
            "Turn: I've got an idea of where I want it to grow, what's the next step that I need to take now? \n",
            "Label: competence\n",
            "\n",
            "Turn: How do we prepare the tree? \n",
            "Label: competence\n",
            "\n",
            "Turn: Ok, I have a nice dark green pot, perfect. What should I do now?\n",
            "Label: competence\n",
            "\n",
            "Turn: Gotcha.  The tree is all ready for potting now, what's next?\n",
            "Label: competence\n",
            "\n",
            "Turn: Ok, I've prepared the tree, wired the branches as asked and followed all direction, what should I do now?\n",
            "Label: competence\n",
            "\n",
            "Turn: I've pruned and cleaned the roots, what's next?\n",
            "Label: competence\n",
            "\n",
            "Turn: How do I prepare the pot?\n",
            "Label: competence\n",
            "\n",
            "Turn: It is dry and clean, what should I do now?\n",
            "Label: competence\n",
            "\n",
            "Turn: Okay, the tree's been potted.  What now?\n",
            "Label: competence\n",
            "\n",
            "Turn: Thanks for the tips, is there anything else I need to know or do?\n",
            "Label: fact\n",
            "\n",
            "Turn: I have some good seeds, what is the next step I should take?\n",
            "Label: competence\n",
            "\n",
            "Turn: What should I do after the seeds germinate?\n",
            "Label: competence\n",
            "\n",
            "Turn: What do I do after I plant the germinated seeds?\n",
            "Label: competence\n",
            "\n",
            "Turn: Any specific growing medium I need for my seeds?\n",
            "Label: fact\n",
            "\n",
            "Turn: I have pot picked out, what should I do next?\n",
            "Label: competence\n",
            "\n",
            "Turn: After following the steps in the shared content, what should I do next?\n",
            "Label: competence\n",
            "\n",
            "Turn: Basil is so fragrant. I love it. \n",
            "Label: fact\n",
            "\n",
            "Turn: There are so many kinds, what do you recommend?\n",
            "Label: fact\n",
            "\n",
            "Turn: Good to know!  What tools might I need to grow some basil of my own?\n",
            "Label: fact\n",
            "\n",
            "Turn: Uh, I don't get it. Can you please tell me about the tools that I'll need?\n",
            "Label: fact\n",
            "\n",
            "Turn: Gotcha!  Once I have all those tools, what do I need to do to get started growing the basil?\n",
            "Label: competence\n",
            "\n",
            "Turn: Okay.  I've got the basil I want to grow picked out.  What should I do next?\n",
            "Label: competence\n",
            "\n",
            "Turn: Does that mean basil grows best in the spring and summer?\n",
            "Label: fact\n",
            "\n",
            "Turn: This seems very accurate. So, now that I know I'm starting at the right time, what should I do?\n",
            "Label: competence\n",
            "\n",
            "Turn: Which is the best place to place the container the plant is seeded\n",
            "Label: competence\n",
            "\n",
            "Turn: How long does it take for the basil to grow?\n",
            "Label: fact\n",
            "\n",
            "Turn: Is there a way to cut them after they grow?\n",
            "Label: competence\n",
            "\n",
            "Turn: When should I cut the basil leaves?\n",
            "Label: fact\n",
            "\n",
            "Turn: Now what step do I need to take to start this process? \n",
            "Label: competence\n",
            "\n",
            "Turn: Okay, now what should I do after that? \n",
            "Label: competence\n",
            "\n",
            "Turn: Can i u se other oily substance to loosen zipper? \n",
            "Label: fact\n",
            "\n",
            "Turn: I don't really have access to those right now but i have some beeswax lipbalm that is mostly beeswax. Where do I apply it to the zipper to unstick it?\n",
            "Label: competence\n",
            "\n",
            "Turn: what tool I need to use after that?\n",
            "Label: competence\n",
            "\n",
            "Turn: All right. I guess I was wondering what the next step after lubricating the zipper was.\n",
            "Label: competence\n",
            "\n",
            "Turn: What should I do after rinsing the zipper?\n",
            "Label: competence\n",
            "\n",
            "Turn: What should I do after washing and scrubbing the zipper?\n",
            "Label: competence\n",
            "\n",
            "Turn: I have rubbed the zipper with he toothbrush, what should I do now?\n",
            "Label: competence\n",
            "\n",
            "Turn: I have a lubricant, is there anything else that I should do?\n",
            "Label: competence\n",
            "\n",
            "Turn: Good to know!  Any other steps you could share?\n",
            "Label: competence\n",
            "\n",
            "Turn: Why do engines overheat in the first place?\n",
            "Label: fact\n",
            "\n",
            "Turn: Good to know!  So what tools will be needed for me to stop the engine overheating?\n",
            "Label: fact\n",
            "\n",
            "Turn: That's very informative!  I followed the steps you outlined.  What do I need to do now?\n",
            "Label: competence\n",
            "\n",
            "Turn: I have pulled over, is there another step I can take to troubleshoot this issue?\n",
            "Label: competence\n",
            "\n",
            "Turn: What exactly is decoupage?\n",
            "Label: fact\n",
            "\n",
            "Turn: Oh ok, thanks for that! Sounds fun! What do I need to get started?\n",
            "Label: fact\n",
            "\n",
            "Turn: what is decoupage? \n",
            "Label: fact\n",
            "\n",
            "Turn: This looks like a typing error. Anyway, I'm getting my tools together and I'm not sure about the glue. Do I have to use a particular type of crafting glue to do this project?\n",
            "Label: fact\n",
            "\n",
            "Turn: what do I do next to get started\n",
            "Label: competence\n",
            "\n",
            "Turn: Okay, I threw a couple layers of newspaper down.  What should I do now?\n",
            "Label: competence\n",
            "\n",
            "Turn: What is the easiest type of material to apply?\n",
            "Label: fact\n",
            "\n",
            "Turn: I'll ask for next to follow\n",
            "Label: competence\n",
            "\n",
            "Turn: If I could only choose one thing to decoupage what would be the best choice?  I want to make sure I'm getting the best results!\n",
            "Label: fact\n",
            "\n",
            "Turn: Can I reverse the process if I make a mistake?\n",
            "Label: competence\n",
            "\n",
            "Turn: I decided to decoupage a small box, it seems like a good starter project to practice on. So I have my materials, my item (small box), and some newspaper down. How should I set up my work station and proceed?\n",
            "Label: competence\n",
            "\n",
            "Turn: Are there any difficult instructions?\n",
            "Label: fact\n",
            "\n",
            "Turn: Okay, I picked out a surface!  What should I do next?\n",
            "Label: competence\n",
            "\n",
            "Turn: Sounds easy enough!  I cut the material to fit the surface of the object I'm using.  What should I do next?\n",
            "Label: competence\n",
            "\n",
            "Turn: I have the glue in the bowl, what should I do next?\n",
            "Label: competence\n",
            "\n",
            "Turn: I have the surface covered, what should I do next?\n",
            "Label: competence\n",
            "\n",
            "Turn: Ok. Once thats done, how long should I let it dry for?\n",
            "Label: fact\n",
            "\n",
            "Turn: Now that I've let that dry, what's the next step I should take? \n",
            "Label: competence\n",
            "\n",
            "Turn: Okay, I‚Äôve put on another layer of glue. Now do I do the paper?\n",
            "Label: competence\n",
            "\n",
            "Turn: Okay, now what should I do next? \n",
            "Label: competence\n",
            "\n",
            "Turn: Is the cheapest way to fertilize a garden with compost from my kitchen?\n",
            "Label: fact\n",
            "\n",
            "Turn: I'm not sure if you understood my previous question.  Could you try answering again?\n",
            "Label: fact\n",
            "\n",
            "Turn: We'll go with coffee, because I always have that around the house!  So how do I get started fertilizing?\n",
            "Label: competence\n",
            "\n",
            "Turn: That's so helpful!  I've dried the grounds and spread them around.  Is that it?\n",
            "Label: competence\n",
            "\n",
            "Turn: I don't have a coffee grinder. Can I crush the shells by hand? How fine do they have to be?\n",
            "Label: competence\n",
            "\n",
            "Turn: I'm sorry, I got confused.  I obviously have a grinder because I already spread coffee grounds around.  Are there any other tips you could share?\n",
            "Label: competence\n",
            "\n",
            "Turn: Great, I will use a banana peel because I don't want to waste food. Is there anything else I should do?\n",
            "Label: competence\n",
            "\n",
            "Turn: You already said that earlier, but thanks!  Any new tips?\n",
            "Label: competence\n",
            "\n",
            "Turn: I don't know what epsom salts are.  Can you tell me what they are?\n",
            "Label: fact\n",
            "\n",
            "Turn: What type of tools am I going to need for this? \n",
            "Label: fact\n",
            "\n",
            "Turn: If there are no tools needed, then how do I decide how to make the purchase?\n",
            "Label: fact\n",
            "\n",
            "Turn: What is the cord going to be used for?\n",
            "Label: fact\n",
            "\n",
            "Turn: What type of mattress is good for side sleepers? \n",
            "Label: fact\n",
            "\n",
            "Turn: Yes. How do I determine what is a good quality mattress when I'm in the store?\n",
            "Label: fact\n",
            "\n",
            "Turn: Are mattress sizes all standard? \n",
            "Label: fact\n",
            "\n",
            "Turn: What is memory foam made out of?\n",
            "Label: fact\n",
            "\n",
            "Turn: What are the benefits of high-density foam?\n",
            "Label: fact\n",
            "\n",
            "Turn: Why is memory foam a popular mattress choice? \n",
            "Label: fact\n",
            "\n",
            "Turn: Ok thank you. Anything else I should know before finishing up?\n",
            "Label: fact\n",
            "\n",
            "Turn: What tools do I need to grow elephant ear plants?\n",
            "Label: fact\n",
            "\n",
            "Turn: If the temperatures are still cold in the spring should I plant this indoors?\n",
            "Label: fact\n",
            "\n",
            "Turn: It's pretty cold here already. What type of potting soil will I need to plant indoors?\n",
            "Label: fact\n",
            "\n",
            "Turn: Can I propagate the Elephant Ear Plant from a plant I already have or do I need to purchase them?\n",
            "Label: fact\n",
            "\n",
            "Turn: Great, so for an indoor start, I have my plant and pot and correct acidity of planting medium. What should I do?\n",
            "Label: competence\n",
            "\n",
            "Turn: I've picked out a great spot with the right amount of indirect light. What should I do now?\n",
            "Label: competence\n",
            "\n",
            "Turn: How should I start planting once I've found the right spot?\n",
            "Label: competence\n",
            "\n",
            "Turn: I have dug a drainage hole and am ready to plant my elephant ear plant, how should I begin?\n",
            "Label: competence\n",
            "\n",
            "Turn: Now I have checked the ph level, what should I do next?\n",
            "Label: competence\n",
            "\n",
            "Turn: Ok, once the holes are dug can I put the plants right in?\n",
            "Label: competence\n",
            "\n",
            "Turn: I'm done digging, what do i do with the bulbs?\n",
            "Label: competence\n",
            "\n",
            "Turn: Alright, I've pressed my bulbs down firmly, flat-end down. What now?\n",
            "Label: competence\n",
            "\n",
            "Turn: How often should I be watering my plant?\n",
            "Label: fact\n",
            "\n",
            "Turn: Okay and I've kept the soil moist, what can I do next? \n",
            "Label: competence\n",
            "\n",
            "Turn: Why shouldn't I place my marker directly over the bulb?\n",
            "Label: fact\n",
            "\n",
            "Turn: Okay and is there another step that I should take after this? \n",
            "Label: competence\n",
            "\n",
            "Turn: It took the full three weeks but I'm finally seeing some sprouts. How do I nurture them?\n",
            "Label: competence\n",
            "\n",
            "Turn: What should I do after watering the plat's roots in the morning?\n",
            "Label: competence\n",
            "\n",
            "Turn: What should I do outside of adding slow-release fertilizer once a month?\n",
            "Label: competence\n",
            "\n",
            "Turn: What type of climate do African violets grow in? \n",
            "Label: fact\n",
            "\n",
            "Turn: What tools do I need to grow African violets?\n",
            "Label: fact\n",
            "\n",
            "Turn: Could you specify how much cement I'll need?\n",
            "Label: fact\n",
            "\n",
            "Turn: I have gathered the cement and other supplies, what should I do next?\n",
            "Label: competence\n",
            "\n",
            "Turn: Alright I have got water and my plant what‚Äôs next?\n",
            "Label: competence\n",
            "\n",
            "Turn: I went for the easier directions and put the leaf directly into the soil. So I just wait for it to take root?\n",
            "Label: competence\n",
            "\n",
            "Turn: What is the best place I can get these types of seeds?\n",
            "Label: fact\n",
            "\n",
            "Turn: Gotcha, I picked them up from the nursery by my house.  What should I do now?\n",
            "Label: competence\n",
            "\n",
            "Turn: What tool do I need to test the soil pH?\n",
            "Label: fact\n",
            "\n",
            "Turn: Why do i need to check the PH level of soil? \n",
            "Label: fact\n",
            "\n",
            "Turn: The ph level is good, what's next?\n",
            "Label: competence\n",
            "\n",
            "Turn: Alright I separated the plants, what now?\n",
            "Label: competence\n",
            "\n",
            "Turn: Now I've got several baby violet plants in their own small pots with violet potting medium. What should I do with them next?\n",
            "Label: competence\n",
            "\n",
            "Turn: They have a good home, now what step should I take next? \n",
            "Label: competence\n",
            "\n",
            "Turn: How frequently will the soil get dry?\n",
            "Label: fact\n",
            "\n",
            "Turn: If heavy sunlight dries out the soil should I keep it away from direct light?\n",
            "Label: competence\n",
            "\n",
            "Turn: Okay and they have light, so now what is the next step I can take? \n",
            "Label: competence\n",
            "\n",
            "Turn: Yes it should have plenty of light, so what‚Äôs next?\n",
            "Label: competence\n",
            "\n",
            "Turn: I've got a time that I want to fertilize, what else can I do now? \n",
            "Label: competence\n",
            "\n",
            "Turn: What should I do after monitoring and maintaining their temperature and humidity?\n",
            "Label: competence\n",
            "\n"
          ]
        }
      ]
    },
    {
      "cell_type": "code",
      "source": [
        "# generierte Labels als neue Spalte zu df hinzufügen\n",
        "test_df_st['pred_label_few_level_0'] = pred_labels_few_level_0"
      ],
      "metadata": {
        "id": "c1REhQhvYbnV"
      },
      "execution_count": null,
      "outputs": []
    },
    {
      "cell_type": "code",
      "source": [
        "# Vergleich GPT Labels mit manuellen Labels -> neue Spalte agreement, direkte Übereinstimmung: wahr/falsch\n",
        "test_df_st['agreement_few_level_0'] = test_df_st['label_0'] == test_df_st['pred_label_few_level_0']"
      ],
      "metadata": {
        "id": "TLhBimQAYbnW"
      },
      "execution_count": null,
      "outputs": []
    },
    {
      "cell_type": "code",
      "source": [
        "# Labels extrahieren, true sind manuelle und pred die von gpt\n",
        "pred_labels_few_level_0 = test_df_st['pred_label_few_level_0']"
      ],
      "metadata": {
        "id": "kYyYbmt_YbnX"
      },
      "execution_count": null,
      "outputs": []
    },
    {
      "cell_type": "code",
      "source": [
        "# Berechnung Precision, Recall und F1-Score für jedes Label\n",
        "precision = precision_score(true_labels_level_0, pred_labels_few_level_0, average=None, labels=labels_level_0)\n",
        "recall = recall_score(true_labels_level_0, pred_labels_few_level_0, average=None, labels=labels_level_0)\n",
        "f1 = f1_score(true_labels_level_0, pred_labels_few_level_0, average=None, labels=labels_level_0)"
      ],
      "metadata": {
        "id": "0VFrQICBYbnX"
      },
      "execution_count": null,
      "outputs": []
    },
    {
      "cell_type": "code",
      "source": [
        "report = classification_report(true_labels_level_0, pred_labels_few_level_0, labels=labels_level_0)\n",
        "print(report)"
      ],
      "metadata": {
        "colab": {
          "base_uri": "https://localhost:8080/"
        },
        "outputId": "f738becb-f5f8-40cd-d4a5-fa2663d488c1",
        "id": "Vgjt8rerYbnX"
      },
      "execution_count": null,
      "outputs": [
        {
          "output_type": "stream",
          "name": "stdout",
          "text": [
            "              precision    recall  f1-score   support\n",
            "\n",
            "        fact       0.98      0.96      0.97        48\n",
            "  competence       0.97      0.99      0.98        75\n",
            "\n",
            "    accuracy                           0.98       123\n",
            "   macro avg       0.98      0.97      0.97       123\n",
            "weighted avg       0.98      0.98      0.98       123\n",
            "\n"
          ]
        }
      ]
    },
    {
      "cell_type": "code",
      "source": [
        "# Berechnung Cohen's Kappa\n",
        "kappa = cohen_kappa_score(true_labels_level_0, pred_labels_few_level_0, labels=labels_level_0)\n",
        "print(f\"Cohen's Kappa: {kappa:.2f}\")\n"
      ],
      "metadata": {
        "colab": {
          "base_uri": "https://localhost:8080/"
        },
        "outputId": "03cc7b1d-1b21-4aca-c564-bf5f49257551",
        "id": "XI0gZ8YaYbnY"
      },
      "execution_count": null,
      "outputs": [
        {
          "output_type": "stream",
          "name": "stdout",
          "text": [
            "Cohen's Kappa: 0.95\n"
          ]
        }
      ]
    },
    {
      "cell_type": "code",
      "source": [
        "test_df_st.to_excel('GPT4_Few_Level0.xlsx', index=False)\n"
      ],
      "metadata": {
        "id": "Zxxij-RfeA3h"
      },
      "execution_count": null,
      "outputs": []
    },
    {
      "cell_type": "markdown",
      "source": [
        "#### Ändern der Reihenfolge"
      ],
      "metadata": {
        "id": "iP9m04twYbnY"
      }
    },
    {
      "cell_type": "markdown",
      "source": [
        "Nun wird getestet, ob die Reihenfolge der few shots einen Einfluss auf die Performance des Modells hat. Da die eigentliche Anzahl an Permutationen zu groß wäre, wenn jedes Few-Shot Beispiel einzeln betrachtet werden würde (benötigte Rechenleistung zu hoch, wenn alle Möglichkeiten der Reihenfolgen getestet werden würden), wird nur die Reihenfolge der beiden Kategorien als Ganzes getestet."
      ],
      "metadata": {
        "id": "idTydrHqYbnY"
      }
    },
    {
      "cell_type": "code",
      "source": [
        "list_few_shots = list(examples.keys())\n",
        "\n",
        "# mögliche Anzahl\n",
        "num_labels_level_0 = len(labels_level_0)\n",
        "num_permut = math.factorial(num_labels_level_0)\n",
        "print(f\"Anzahl möglicher Permutationen: {num_permut}\")\n",
        "\n",
        "permut_few_shots = list(itertools.permutations(list_few_shots))"
      ],
      "metadata": {
        "colab": {
          "base_uri": "https://localhost:8080/"
        },
        "outputId": "d240201c-9540-48d4-9ddf-4f5f22e1cafc",
        "id": "0nNLXZ8pYbnY"
      },
      "execution_count": null,
      "outputs": [
        {
          "output_type": "stream",
          "name": "stdout",
          "text": [
            "Anzahl möglicher Permutationen: 2\n"
          ]
        }
      ]
    },
    {
      "cell_type": "code",
      "source": [
        "def metrics(true_labels, pred_labels):\n",
        "  precision = precision_score(true_labels, pred_labels, average='weighted', zero_division=0)\n",
        "  recall = recall_score(true_labels, pred_labels, average='weighted', zero_division=0)\n",
        "  f1 = f1_score(true_labels, pred_labels, average='weighted', zero_division=0)\n",
        "  return precision, recall, f1\n",
        "\n",
        "results_permut_few_shots = []\n",
        "\n",
        "for permut in permut_few_shots:\n",
        "  permuted_few_shot_examples = \"\\n\".join([f\" {row['turn']}\\n {label}\" for label in permut for _, row in examples[label].iterrows()])\n",
        "  # few shot Beispiele im Prompt aktualisieren\n",
        "  current_prompt = prompt_few_level_0.replace(\"{few_shot_examples}\", permuted_few_shot_examples)\n",
        "  # nun wieder normaler Ablauf der Annotation\n",
        "  pred_labels_few_level_0 = []\n",
        "\n",
        "  for turn, role in zip(turns, roles):\n",
        "    if role == 'student':\n",
        "      label = annotate(client, model, current_prompt, turn)\n",
        "      if label:\n",
        "        pred_labels_few_level_0.append(label.lower())\n",
        "      else:\n",
        "        pred_labels_few_level_0.append(\"Fehler bei Anfrage\")\n",
        "\n",
        "    else:\n",
        "      # turns von teacher überspringen, da diese nicht gelabelt werden; nur für Kontext da\n",
        "      continue\n",
        "\n",
        "  # Precision, Recall und F1 pro Permutationen, damit Performance vergleichbar\n",
        "  p, r, f1 = metrics(true_labels_level_0, pred_labels_few_level_0)\n",
        "\n",
        "  # Ergebnisse speichern\n",
        "  results_permut_few_shots.append({'permutation': permut, 'precision': p, 'recall': r, 'f1_score': f1})\n",
        "\n",
        "# Performance-Ergebnisse der verschiedenen Reihenfolgen\n",
        "results_permut_few_shots_df = pd.DataFrame(results_permut_few_shots)\n",
        "\n",
        "precision_mean = results_permut_few_shots_df['precision'].mean()\n",
        "recall_mean = results_permut_few_shots_df['recall'].mean()\n",
        "f1_mean = results_permut_few_shots_df['f1_score'].mean()\n",
        "\n",
        "precision_std = results_permut_few_shots_df['precision'].std()\n",
        "recall_std_ = results_permut_few_shots_df['recall'].std()\n",
        "f1_std = results_permut_few_shots_df['f1_score'].std()\n",
        "\n",
        "print(f\"Durchschnitt Precision: {precision_mean:.3f} ± {precision_std:.3f}\")\n",
        "print(f\"Durchschnitt Recall: {recall_mean:.3f} ± {recall_std_:.3f}\")\n",
        "print(f\"Durchschnitt F1-Score: {f1_mean:.3f} ± {f1_std:.3f}\")"
      ],
      "metadata": {
        "colab": {
          "base_uri": "https://localhost:8080/"
        },
        "outputId": "9500480b-a11c-4bb3-facc-48e8ea64fecb",
        "id": "YDS-qd8hYbnZ"
      },
      "execution_count": null,
      "outputs": [
        {
          "output_type": "stream",
          "name": "stdout",
          "text": [
            "Durchschnitt Precision: 0.972 ± 0.006\n",
            "Durchschnitt Recall: 0.972 ± 0.006\n",
            "Durchschnitt F1-Score: 0.971 ± 0.006\n"
          ]
        }
      ]
    },
    {
      "cell_type": "code",
      "source": [
        "# Permutation mit bestem f1\n",
        "best_permutation = results_permut_few_shots_df.loc[results_permut_few_shots_df['f1_score'].idxmax()]\n",
        "#print(\"Beste Reihenfolge:\", best_permutation['permutation'])\n",
        "#print(f\"Precision: {best_permutation['precision']:.3f}, Recall: {best_permutation['recall']:.3f}, F1-Score: {best_permutation['f1_score']:.3f}\")"
      ],
      "metadata": {
        "id": "po-yYhcxYbnZ"
      },
      "execution_count": null,
      "outputs": []
    },
    {
      "cell_type": "code",
      "source": [
        "best_order_label = best_permutation['permutation']\n",
        "\n",
        "best_order_few_shot_examples = \"\\n\".join([f\" {row['turn']}\\n {label}\" for label in best_order_label for _, row in examples[label].iterrows()])\n",
        "\n",
        "# Platzhalter durch few shots ersetzen\n",
        "final_prompt = prompt_few_level_0.replace(\"{few_shot_examples}\", best_order_few_shot_examples)\n",
        "\n",
        "final_pred_labels_few_level_0 = []\n",
        "\n",
        "for turn, role in zip(turns, roles):\n",
        "  if role == 'student':\n",
        "    label = annotate(client, model, final_prompt, turn)\n",
        "    if label:\n",
        "      print(f\"Turn: {turn}\\nLabel: {label}\\n\")\n",
        "      final_pred_labels_few_level_0.append(label.lower())\n",
        "    else:\n",
        "      final_pred_labels_few_level_0.append(\"Fehler bei Anfrage\")\n",
        "  else:\n",
        "    # turns von teacher überspringen, da diese nicht gelabelt werden; nur für Kontext da\n",
        "    continue"
      ],
      "metadata": {
        "colab": {
          "base_uri": "https://localhost:8080/"
        },
        "outputId": "72440c7a-6fc7-4ae5-d842-9cb338ae8587",
        "id": "8c8XXfUSYbna"
      },
      "execution_count": null,
      "outputs": [
        {
          "output_type": "stream",
          "name": "stdout",
          "text": [
            "Turn: What are the tools and other things required for starting a bonsai tree?\n",
            "Label: fact\n",
            "\n",
            "Turn: I'm ready for the first step now please. \n",
            "Label: competence\n",
            "\n",
            "Turn: I've got an idea of where I want it to grow, what's the next step that I need to take now? \n",
            "Label: competence\n",
            "\n",
            "Turn: How do we prepare the tree? \n",
            "Label: competence\n",
            "\n",
            "Turn: Ok, I have a nice dark green pot, perfect. What should I do now?\n",
            "Label: competence\n",
            "\n",
            "Turn: Gotcha.  The tree is all ready for potting now, what's next?\n",
            "Label: competence\n",
            "\n",
            "Turn: Ok, I've prepared the tree, wired the branches as asked and followed all direction, what should I do now?\n",
            "Label: competence\n",
            "\n",
            "Turn: I've pruned and cleaned the roots, what's next?\n",
            "Label: competence\n",
            "\n",
            "Turn: How do I prepare the pot?\n",
            "Label: competence\n",
            "\n",
            "Turn: It is dry and clean, what should I do now?\n",
            "Label: competence\n",
            "\n",
            "Turn: Okay, the tree's been potted.  What now?\n",
            "Label: competence\n",
            "\n",
            "Turn: Thanks for the tips, is there anything else I need to know or do?\n",
            "Label: fact\n",
            "\n",
            "Turn: I have some good seeds, what is the next step I should take?\n",
            "Label: competence\n",
            "\n",
            "Turn: What should I do after the seeds germinate?\n",
            "Label: competence\n",
            "\n",
            "Turn: What do I do after I plant the germinated seeds?\n",
            "Label: competence\n",
            "\n",
            "Turn: Any specific growing medium I need for my seeds?\n",
            "Label: fact\n",
            "\n",
            "Turn: I have pot picked out, what should I do next?\n",
            "Label: competence\n",
            "\n",
            "Turn: After following the steps in the shared content, what should I do next?\n",
            "Label: competence\n",
            "\n",
            "Turn: Basil is so fragrant. I love it. \n",
            "Label: fact\n",
            "\n",
            "Turn: There are so many kinds, what do you recommend?\n",
            "Label: fact\n",
            "\n",
            "Turn: Good to know!  What tools might I need to grow some basil of my own?\n",
            "Label: fact\n",
            "\n",
            "Turn: Uh, I don't get it. Can you please tell me about the tools that I'll need?\n",
            "Label: fact\n",
            "\n",
            "Turn: Gotcha!  Once I have all those tools, what do I need to do to get started growing the basil?\n",
            "Label: competence\n",
            "\n",
            "Turn: Okay.  I've got the basil I want to grow picked out.  What should I do next?\n",
            "Label: competence\n",
            "\n",
            "Turn: Does that mean basil grows best in the spring and summer?\n",
            "Label: fact\n",
            "\n",
            "Turn: This seems very accurate. So, now that I know I'm starting at the right time, what should I do?\n",
            "Label: competence\n",
            "\n",
            "Turn: Which is the best place to place the container the plant is seeded\n",
            "Label: competence\n",
            "\n",
            "Turn: How long does it take for the basil to grow?\n",
            "Label: fact\n",
            "\n",
            "Turn: Is there a way to cut them after they grow?\n",
            "Label: competence\n",
            "\n",
            "Turn: When should I cut the basil leaves?\n",
            "Label: fact\n",
            "\n",
            "Turn: Now what step do I need to take to start this process? \n",
            "Label: competence\n",
            "\n",
            "Turn: Okay, now what should I do after that? \n",
            "Label: competence\n",
            "\n",
            "Turn: Can i u se other oily substance to loosen zipper? \n",
            "Label: fact\n",
            "\n",
            "Turn: I don't really have access to those right now but i have some beeswax lipbalm that is mostly beeswax. Where do I apply it to the zipper to unstick it?\n",
            "Label: competence\n",
            "\n",
            "Turn: what tool I need to use after that?\n",
            "Label: competence\n",
            "\n",
            "Turn: All right. I guess I was wondering what the next step after lubricating the zipper was.\n",
            "Label: competence\n",
            "\n",
            "Turn: What should I do after rinsing the zipper?\n",
            "Label: competence\n",
            "\n",
            "Turn: What should I do after washing and scrubbing the zipper?\n",
            "Label: competence\n",
            "\n",
            "Turn: I have rubbed the zipper with he toothbrush, what should I do now?\n",
            "Label: competence\n",
            "\n",
            "Turn: I have a lubricant, is there anything else that I should do?\n",
            "Label: competence\n",
            "\n",
            "Turn: Good to know!  Any other steps you could share?\n",
            "Label: competence\n",
            "\n",
            "Turn: Why do engines overheat in the first place?\n",
            "Label: fact\n",
            "\n",
            "Turn: Good to know!  So what tools will be needed for me to stop the engine overheating?\n",
            "Label: fact\n",
            "\n",
            "Turn: That's very informative!  I followed the steps you outlined.  What do I need to do now?\n",
            "Label: competence\n",
            "\n",
            "Turn: I have pulled over, is there another step I can take to troubleshoot this issue?\n",
            "Label: competence\n",
            "\n",
            "Turn: What exactly is decoupage?\n",
            "Label: fact\n",
            "\n",
            "Turn: Oh ok, thanks for that! Sounds fun! What do I need to get started?\n",
            "Label: fact\n",
            "\n",
            "Turn: what is decoupage? \n",
            "Label: fact\n",
            "\n",
            "Turn: This looks like a typing error. Anyway, I'm getting my tools together and I'm not sure about the glue. Do I have to use a particular type of crafting glue to do this project?\n",
            "Label: fact\n",
            "\n",
            "Turn: what do I do next to get started\n",
            "Label: competence\n",
            "\n",
            "Turn: Okay, I threw a couple layers of newspaper down.  What should I do now?\n",
            "Label: competence\n",
            "\n",
            "Turn: What is the easiest type of material to apply?\n",
            "Label: fact\n",
            "\n",
            "Turn: I'll ask for next to follow\n",
            "Label: competence\n",
            "\n",
            "Turn: If I could only choose one thing to decoupage what would be the best choice?  I want to make sure I'm getting the best results!\n",
            "Label: fact\n",
            "\n",
            "Turn: Can I reverse the process if I make a mistake?\n",
            "Label: competence\n",
            "\n",
            "Turn: I decided to decoupage a small box, it seems like a good starter project to practice on. So I have my materials, my item (small box), and some newspaper down. How should I set up my work station and proceed?\n",
            "Label: competence\n",
            "\n",
            "Turn: Are there any difficult instructions?\n",
            "Label: fact\n",
            "\n",
            "Turn: Okay, I picked out a surface!  What should I do next?\n",
            "Label: competence\n",
            "\n",
            "Turn: Sounds easy enough!  I cut the material to fit the surface of the object I'm using.  What should I do next?\n",
            "Label: competence\n",
            "\n",
            "Turn: I have the glue in the bowl, what should I do next?\n",
            "Label: competence\n",
            "\n",
            "Turn: I have the surface covered, what should I do next?\n",
            "Label: competence\n",
            "\n",
            "Turn: Ok. Once thats done, how long should I let it dry for?\n",
            "Label: fact\n",
            "\n",
            "Turn: Now that I've let that dry, what's the next step I should take? \n",
            "Label: competence\n",
            "\n",
            "Turn: Okay, I‚Äôve put on another layer of glue. Now do I do the paper?\n",
            "Label: competence\n",
            "\n",
            "Turn: Okay, now what should I do next? \n",
            "Label: competence\n",
            "\n",
            "Turn: Is the cheapest way to fertilize a garden with compost from my kitchen?\n",
            "Label: fact\n",
            "\n",
            "Turn: I'm not sure if you understood my previous question.  Could you try answering again?\n",
            "Label: fact\n",
            "\n",
            "Turn: We'll go with coffee, because I always have that around the house!  So how do I get started fertilizing?\n",
            "Label: competence\n",
            "\n",
            "Turn: That's so helpful!  I've dried the grounds and spread them around.  Is that it?\n",
            "Label: competence\n",
            "\n",
            "Turn: I don't have a coffee grinder. Can I crush the shells by hand? How fine do they have to be?\n",
            "Label: competence\n",
            "\n",
            "Turn: I'm sorry, I got confused.  I obviously have a grinder because I already spread coffee grounds around.  Are there any other tips you could share?\n",
            "Label: competence\n",
            "\n",
            "Turn: Great, I will use a banana peel because I don't want to waste food. Is there anything else I should do?\n",
            "Label: competence\n",
            "\n",
            "Turn: You already said that earlier, but thanks!  Any new tips?\n",
            "Label: competence\n",
            "\n",
            "Turn: I don't know what epsom salts are.  Can you tell me what they are?\n",
            "Label: fact\n",
            "\n",
            "Turn: What type of tools am I going to need for this? \n",
            "Label: fact\n",
            "\n",
            "Turn: If there are no tools needed, then how do I decide how to make the purchase?\n",
            "Label: fact\n",
            "\n",
            "Turn: What is the cord going to be used for?\n",
            "Label: fact\n",
            "\n",
            "Turn: What type of mattress is good for side sleepers? \n",
            "Label: fact\n",
            "\n",
            "Turn: Yes. How do I determine what is a good quality mattress when I'm in the store?\n",
            "Label: fact\n",
            "\n",
            "Turn: Are mattress sizes all standard? \n",
            "Label: fact\n",
            "\n",
            "Turn: What is memory foam made out of?\n",
            "Label: fact\n",
            "\n",
            "Turn: What are the benefits of high-density foam?\n",
            "Label: fact\n",
            "\n",
            "Turn: Why is memory foam a popular mattress choice? \n",
            "Label: fact\n",
            "\n",
            "Turn: Ok thank you. Anything else I should know before finishing up?\n",
            "Label: fact\n",
            "\n",
            "Turn: What tools do I need to grow elephant ear plants?\n",
            "Label: fact\n",
            "\n",
            "Turn: If the temperatures are still cold in the spring should I plant this indoors?\n",
            "Label: fact\n",
            "\n",
            "Turn: It's pretty cold here already. What type of potting soil will I need to plant indoors?\n",
            "Label: fact\n",
            "\n",
            "Turn: Can I propagate the Elephant Ear Plant from a plant I already have or do I need to purchase them?\n",
            "Label: fact\n",
            "\n",
            "Turn: Great, so for an indoor start, I have my plant and pot and correct acidity of planting medium. What should I do?\n",
            "Label: competence\n",
            "\n",
            "Turn: I've picked out a great spot with the right amount of indirect light. What should I do now?\n",
            "Label: competence\n",
            "\n",
            "Turn: How should I start planting once I've found the right spot?\n",
            "Label: competence\n",
            "\n",
            "Turn: I have dug a drainage hole and am ready to plant my elephant ear plant, how should I begin?\n",
            "Label: competence\n",
            "\n",
            "Turn: Now I have checked the ph level, what should I do next?\n",
            "Label: competence\n",
            "\n",
            "Turn: Ok, once the holes are dug can I put the plants right in?\n",
            "Label: competence\n",
            "\n",
            "Turn: I'm done digging, what do i do with the bulbs?\n",
            "Label: competence\n",
            "\n",
            "Turn: Alright, I've pressed my bulbs down firmly, flat-end down. What now?\n",
            "Label: competence\n",
            "\n",
            "Turn: How often should I be watering my plant?\n",
            "Label: fact\n",
            "\n",
            "Turn: Okay and I've kept the soil moist, what can I do next? \n",
            "Label: competence\n",
            "\n",
            "Turn: Why shouldn't I place my marker directly over the bulb?\n",
            "Label: fact\n",
            "\n",
            "Turn: Okay and is there another step that I should take after this? \n",
            "Label: competence\n",
            "\n",
            "Turn: It took the full three weeks but I'm finally seeing some sprouts. How do I nurture them?\n",
            "Label: competence\n",
            "\n",
            "Turn: What should I do after watering the plat's roots in the morning?\n",
            "Label: competence\n",
            "\n",
            "Turn: What should I do outside of adding slow-release fertilizer once a month?\n",
            "Label: competence\n",
            "\n",
            "Turn: What type of climate do African violets grow in? \n",
            "Label: fact\n",
            "\n",
            "Turn: What tools do I need to grow African violets?\n",
            "Label: fact\n",
            "\n",
            "Turn: Could you specify how much cement I'll need?\n",
            "Label: fact\n",
            "\n",
            "Turn: I have gathered the cement and other supplies, what should I do next?\n",
            "Label: competence\n",
            "\n",
            "Turn: Alright I have got water and my plant what‚Äôs next?\n",
            "Label: competence\n",
            "\n",
            "Turn: I went for the easier directions and put the leaf directly into the soil. So I just wait for it to take root?\n",
            "Label: competence\n",
            "\n",
            "Turn: What is the best place I can get these types of seeds?\n",
            "Label: fact\n",
            "\n",
            "Turn: Gotcha, I picked them up from the nursery by my house.  What should I do now?\n",
            "Label: competence\n",
            "\n",
            "Turn: What tool do I need to test the soil pH?\n",
            "Label: fact\n",
            "\n",
            "Turn: Why do i need to check the PH level of soil? \n",
            "Label: fact\n",
            "\n",
            "Turn: The ph level is good, what's next?\n",
            "Label: competence\n",
            "\n",
            "Turn: Alright I separated the plants, what now?\n",
            "Label: competence\n",
            "\n",
            "Turn: Now I've got several baby violet plants in their own small pots with violet potting medium. What should I do with them next?\n",
            "Label: competence\n",
            "\n",
            "Turn: They have a good home, now what step should I take next? \n",
            "Label: competence\n",
            "\n",
            "Turn: How frequently will the soil get dry?\n",
            "Label: fact\n",
            "\n",
            "Turn: If heavy sunlight dries out the soil should I keep it away from direct light?\n",
            "Label: competence\n",
            "\n",
            "Turn: Okay and they have light, so now what is the next step I can take? \n",
            "Label: competence\n",
            "\n",
            "Turn: Yes it should have plenty of light, so what‚Äôs next?\n",
            "Label: competence\n",
            "\n",
            "Turn: I've got a time that I want to fertilize, what else can I do now? \n",
            "Label: competence\n",
            "\n",
            "Turn: What should I do after monitoring and maintaining their temperature and humidity?\n",
            "Label: competence\n",
            "\n"
          ]
        }
      ]
    },
    {
      "cell_type": "code",
      "source": [
        "# generierte Labels als neue Spalte zu df hinzufügen\n",
        "test_df_st['final_pred_labels_few_level_0'] = final_pred_labels_few_level_0"
      ],
      "metadata": {
        "id": "NKHkLIdQYbna"
      },
      "execution_count": null,
      "outputs": []
    },
    {
      "cell_type": "code",
      "source": [
        "# Vergleich GPT Labels mit manuellen Labels -> neue Spalte agreement, direkte Übereinstimmung: wahr/falsch\n",
        "test_df_st['agreement_few_level_0'] = test_df_st['label_0'] == test_df_st['final_pred_labels_few_level_0']"
      ],
      "metadata": {
        "id": "tQeo4YF7Ybnb"
      },
      "execution_count": null,
      "outputs": []
    },
    {
      "cell_type": "code",
      "source": [
        "# Labels extrahieren, true sind manuelle und pred die von gpt\n",
        "pred_labels_few_level_0 = test_df_st['final_pred_labels_few_level_0']"
      ],
      "metadata": {
        "id": "c5p2y3_MYbnc"
      },
      "execution_count": null,
      "outputs": []
    },
    {
      "cell_type": "code",
      "source": [
        "# Berechnung Precision, Recall und F1-Score für jedes Label\n",
        "precision = precision_score(true_labels_level_0, pred_labels_few_level_0, average=None, labels=labels_level_0)\n",
        "recall = recall_score(true_labels_level_0, pred_labels_few_level_0, average=None, labels=labels_level_0)\n",
        "f1 = f1_score(true_labels_level_0, pred_labels_few_level_0, average=None, labels=labels_level_0)"
      ],
      "metadata": {
        "id": "cOf39UeaYbnc"
      },
      "execution_count": null,
      "outputs": []
    },
    {
      "cell_type": "code",
      "source": [
        "report = classification_report(true_labels_level_0, pred_labels_few_level_0, labels=labels_level_0)\n",
        "print(report)"
      ],
      "metadata": {
        "colab": {
          "base_uri": "https://localhost:8080/"
        },
        "outputId": "54fc21ff-2e18-44a1-eaa4-0a10d29b6c1c",
        "id": "stsElxNKYbnc"
      },
      "execution_count": null,
      "outputs": [
        {
          "output_type": "stream",
          "name": "stdout",
          "text": [
            "              precision    recall  f1-score   support\n",
            "\n",
            "        fact       0.98      0.96      0.97        48\n",
            "  competence       0.97      0.99      0.98        75\n",
            "\n",
            "    accuracy                           0.98       123\n",
            "   macro avg       0.98      0.97      0.97       123\n",
            "weighted avg       0.98      0.98      0.98       123\n",
            "\n"
          ]
        }
      ]
    },
    {
      "cell_type": "code",
      "source": [
        "# Berechnung Cohen's Kappa\n",
        "kappa = cohen_kappa_score(true_labels_level_0, pred_labels_few_level_0, labels=labels_level_0)\n",
        "print(\"Cohen's Kappa:\", kappa)\n",
        "\n",
        "# Berechnung Matthews Correlation Coefficient?!\n",
        "mcc = matthews_corrcoef(true_labels_level_0, pred_labels_few_level_0)\n",
        "print(\"Matthews Correlation Coefficient:\", mcc)"
      ],
      "metadata": {
        "colab": {
          "base_uri": "https://localhost:8080/"
        },
        "outputId": "6693fdfd-6459-4a93-b1ac-67e7ecd4a23d",
        "id": "Da-NHLwgYbnd"
      },
      "execution_count": null,
      "outputs": [
        {
          "output_type": "stream",
          "name": "stdout",
          "text": [
            "Cohen's Kappa: 0.9485570890840652\n",
            "Matthews Correlation Coefficient: 0.9486965773990359\n"
          ]
        }
      ]
    },
    {
      "cell_type": "markdown",
      "source": [
        "### Level 1"
      ],
      "metadata": {
        "id": "i6CBanOAYokK"
      }
    },
    {
      "cell_type": "code",
      "source": [
        "#test_df_st = reset_test_df_st.copy()"
      ],
      "metadata": {
        "id": "ydS1ZfDvbR64"
      },
      "execution_count": null,
      "outputs": []
    },
    {
      "cell_type": "code",
      "source": [
        "# Prompt für Few Shot Level 1\n",
        "prompt_few_level_1 = \"\"\"\n",
        "### CONTEXT ###\n",
        "The data collected consists of conversations between a conversational assistant ('role'='teacher'), who provides guidance during a do-it-yourself project, and a user ('role'='student'), who expresses statements or questions to the conversational assistant during the process.\n",
        "In order to find out which information needs the users express with this utterance (also called turn), these must be assigned to their information needs with the help of the taxonomy, i.e. annotated or classified.\n",
        "\n",
        "\n",
        "### OBJECTIVE ###\n",
        "Classify/annotate each statement of the user with one of the following labels, which represent an information need of the user. You are an expert in data annotation!\n",
        "Each label is briefly defined for better delimitation.\n",
        "\n",
        "The nine labels are as follows:\n",
        "- \"amount\": Information need regarding a quantity or frequency specification.\n",
        "- \"material\": Information need regarding the required consumables.\n",
        "- \"preparation\": Information need regarding the steps of the process, including questions about the next step or tips that should be followed.\n",
        "- \"manual technique\": Information need regarding a practical instruction or method on how exactly to carry out a step that has not yet been described in detail. It is about the HOW of carrying out a step.\n",
        "- \"instruction\": Information needs regarding the selection or understanding of a project or guidance in general. Including general questions about the overall process or guidance, without referring to individual steps or detailed actions. This includes questions about the general requirements for completing a project, but without asking about specific materials, equipment or step-by-step instructions.\n",
        "- \"time\": Information need regarding a time specification.\n",
        "- \"equipment\": Information need regarding the required equipment such as devices, machines and tools, but not the technique of how to use them.\n",
        "- \"knowledge\": Information need regarding background information/knowledge about the topic.\n",
        "- \"miscellaneous\": Information need that cannot be assigned to any of the other categories/labels.\n",
        "\n",
        "Also consider the context and the user's previous statements!\n",
        "Also consider the previous statements of the conversational assistant, which can have an influence on the label of the user's information needs!\n",
        "\n",
        "\n",
        "### STYLE ###\n",
        "Only use the above labels.\n",
        "\n",
        "\n",
        "### AUDIENCE ###\n",
        "The labels are used for analysis by a group of scientists in information science and linguistics.\n",
        "\n",
        "\n",
        "### RESPONSE ###\n",
        "Only the label for each utterance.\n",
        "\n",
        "\n",
        "### EXAMPLES ###\n",
        "{few_shot_examples}\n",
        "\"\"\""
      ],
      "metadata": {
        "id": "g97pfkDy5B1w"
      },
      "execution_count": null,
      "outputs": []
    },
    {
      "cell_type": "markdown",
      "source": [
        "#### Auswahl Beispiele"
      ],
      "metadata": {
        "id": "b1Y0trkVbSZx"
      }
    },
    {
      "cell_type": "markdown",
      "source": [
        "Auswahl der Few-Shot-Beispiele"
      ],
      "metadata": {
        "id": "madWdq1jbSZx"
      }
    },
    {
      "cell_type": "code",
      "source": [
        "# wenn k festen Wert\n",
        "# 8 und sample 1: weighted 0.93, coehn 0.8997, man tech 0.75\n",
        "# 8 und sample 2: weighted 0.93, coehn 0.88\n",
        "# 8 und sample 3: weighted 0.93, coehn 0.88\n",
        "# 8 und sample 4: weighted 0.93, coehn 0.89\n",
        "# 8 und sample 5: weighted 0.93, cohen 0.88\n",
        "# 8 und sample 6: weighted avg 0.93, cohen 0.88\n",
        "# 8 und sample 7: weighted avg 0.93 gleich\n",
        "# 8 und sample 8: weighted avg 0.92, 0.87\n",
        "# 8 und sample 9: weighted avg 0.93, 0.88\n",
        "# 8 und sample 10: weighted avg 0.93 gleich\n",
        "# 8 und sample 12: weighted avg gleich\n",
        "# 8 und sample 14: weighted avg gleich\n",
        "# 8 und sample 20: weighted avg gleich\n",
        "\n",
        "# wenn k verschieden\n",
        "# gleiches Ergebnis wie <2=alle, <=6=3, <=15=7 und max\n",
        "  # if label_examples <= 10:\n",
        "      #return label_df  # Alle\n",
        "  # else:\n",
        "      #k = min(label_examples, max)"
      ],
      "metadata": {
        "id": "NlIAHxy_ESIG"
      },
      "execution_count": null,
      "outputs": []
    },
    {
      "cell_type": "code",
      "source": [
        "def few_shots(df, label, max):\n",
        "  label_df = train_df_st[train_df_st['label_1'] == label]\n",
        "  label_examples = len(label_df)\n",
        "\n",
        "  if label_examples <= max:\n",
        "    return label_df  # alle\n",
        "  #elif label_examples <= 6:\n",
        "    # k = 4  #  5 war gut\n",
        "  #elif label_examples <= 15:\n",
        "    # k = 10  #  5 war gut\n",
        "  else:\n",
        "    k = min(label_examples, max)\n",
        "\n",
        "  return label_df.sample(n=k, random_state=42)\n",
        "\n",
        "examples = {}\n",
        "example_counts = {}  # Um Anzahl der few shots zu speichern\n",
        "\n",
        "# für jedes Label few shots erstellen + Anzahl\n",
        "for label in labels_level_1:\n",
        "  few_examples = few_shots(train_df_st, label, 4)\n",
        "  examples[label] = few_examples\n",
        "  example_counts[label] = len(few_examples)\n",
        "\n",
        "few_shot_examples = \"\\n\".join([f\" {row['turn']}\\n {label}\" for label, df in examples.items() for _, row in df.iterrows()])\n",
        "\n",
        "print(few_shot_examples)"
      ],
      "metadata": {
        "colab": {
          "base_uri": "https://localhost:8080/"
        },
        "outputId": "9a53610b-9372-4142-d6f1-0e601f1d72de",
        "id": "2sTmNj9tbSZy"
      },
      "execution_count": null,
      "outputs": [
        {
          "output_type": "stream",
          "name": "stdout",
          "text": [
            " What tools do I need to build a worm compost system?\n",
            " equipment\n",
            " What is the best tool to use to harvest the sweet pea seed pods?\n",
            " equipment\n",
            " Do I need a special container to hold the seeds?\n",
            " equipment\n",
            " ok, I'm assuming I need rice and a sock, but what other things or tools do I need to make a rice sock?\n",
            " equipment\n",
            " Alright I will be sure not to overfeed, what‚Äôs my next step?\n",
            " preparation\n",
            " Now the fizzing in the flask has stopped, what should I do?\n",
            " preparation\n",
            " I've let the clothes hang to dry, what should I do next? \n",
            " preparation\n",
            " Is there anything I should do after taking it to the dry cleaners?\n",
            " preparation\n",
            " I have added the salt, what materials do I need for the next step?\n",
            " material\n",
            " What do I need to be feeding it?\n",
            " material\n",
            " Could I substitute baking soda if I don't have denture cleaning tablets?\n",
            " material\n",
            " Can I use a shirt that is 50% cotton and 50% wool to test out?\n",
            " material\n",
            " I am confused by your response. Would you please rephrase? \n",
            " miscellaneous\n",
            " I have musty smelling shirts and pants from my wardrobe, what do I need to go about getting rid of the stink?\n",
            " instruction\n",
            " I guess I'll have to try that then. Are there any other alternatives besides dry-cleaning and similar?\n",
            " instruction\n",
            " Can you specify what the square is referring to on your list?\n",
            " instruction\n",
            " How should I clean it?\n",
            " instruction\n",
            " Ok. So the food scraps and the water, is there anything else I need to be aware of to maintain their health?\n",
            " knowledge\n",
            " Why shouldn't I feed my worms as much as I can?\n",
            " knowledge\n",
            " Is there any risk of damage to my clothes if I take it to a dry cleaner?\n",
            " knowledge\n",
            " Is the sunshine request for the seeds\n",
            " knowledge\n",
            " Should I keep the water boiling with the clothes added?\n",
            " manual technique\n",
            " Sorry, I'm a total plant novice.  What do you mean by \"go to seed\"?\n",
            " manual technique\n",
            " How long can I leave the rice sock on my head for relief?\n",
            " time\n",
            " How often do I need to feed the worms to feed them \"regularly\"?\n",
            " amount\n",
            " You said to leave some stem on the pods. How much stem should I leave on each pod?\n",
            " amount\n"
          ]
        }
      ]
    },
    {
      "cell_type": "code",
      "source": [
        "for label, count in example_counts.items():\n",
        "  print(f\"Label: {label}, Anzahl ausgewählter Beispiele: {count}\")"
      ],
      "metadata": {
        "colab": {
          "base_uri": "https://localhost:8080/"
        },
        "outputId": "7d25b8ac-8aa2-4e85-b3cc-680a93be99e4",
        "id": "k1StME-4bSZy"
      },
      "execution_count": null,
      "outputs": [
        {
          "output_type": "stream",
          "name": "stdout",
          "text": [
            "Label: equipment, Anzahl ausgewählter Beispiele: 4\n",
            "Label: preparation, Anzahl ausgewählter Beispiele: 4\n",
            "Label: material, Anzahl ausgewählter Beispiele: 4\n",
            "Label: miscellaneous, Anzahl ausgewählter Beispiele: 1\n",
            "Label: instruction, Anzahl ausgewählter Beispiele: 4\n",
            "Label: knowledge, Anzahl ausgewählter Beispiele: 4\n",
            "Label: manual technique, Anzahl ausgewählter Beispiele: 2\n",
            "Label: time, Anzahl ausgewählter Beispiele: 1\n",
            "Label: amount, Anzahl ausgewählter Beispiele: 2\n"
          ]
        }
      ]
    },
    {
      "cell_type": "code",
      "source": [
        "# Platzhalter ersetzen\n",
        "prompt_few_level_1 = prompt_few_level_1.replace(\"{few_shot_examples}\", few_shot_examples)"
      ],
      "metadata": {
        "id": "BtWY9EIsbSZz"
      },
      "execution_count": null,
      "outputs": []
    },
    {
      "cell_type": "code",
      "source": [
        "pred_labels_few_level_1 = []\n",
        "\n",
        "for turn, role in zip(turns, roles):\n",
        "  if role == 'student':\n",
        "    label = annotate(client, model, prompt_few_level_1, turn)\n",
        "    if label:\n",
        "      print(f\"Turn: {turn}\\nLabel: {label}\\n\")\n",
        "      pred_labels_few_level_1.append(label.lower())\n",
        "    else:\n",
        "      pred_labels_few_level_1.append(\"Fehler bei Anfrage\")\n",
        "  else:\n",
        "    # turns von teacher überspringen, da diese nicht gelabelt werden; nur für Kontext da\n",
        "    continue"
      ],
      "metadata": {
        "colab": {
          "base_uri": "https://localhost:8080/"
        },
        "outputId": "7e41873f-a0fc-4590-c87b-ec4d91f11c15",
        "id": "qiU9mirlbSZz"
      },
      "execution_count": null,
      "outputs": [
        {
          "output_type": "stream",
          "name": "stdout",
          "text": [
            "Turn: What are the tools and other things required for starting a bonsai tree?\n",
            "Label: equipment\n",
            "\n",
            "Turn: I'm ready for the first step now please. \n",
            "Label: preparation\n",
            "\n",
            "Turn: I've got an idea of where I want it to grow, what's the next step that I need to take now? \n",
            "Label: preparation\n",
            "\n",
            "Turn: How do we prepare the tree? \n",
            "Label: preparation\n",
            "\n",
            "Turn: Ok, I have a nice dark green pot, perfect. What should I do now?\n",
            "Label: preparation\n",
            "\n",
            "Turn: Gotcha.  The tree is all ready for potting now, what's next?\n",
            "Label: preparation\n",
            "\n",
            "Turn: Ok, I've prepared the tree, wired the branches as asked and followed all direction, what should I do now?\n",
            "Label: preparation\n",
            "\n",
            "Turn: I've pruned and cleaned the roots, what's next?\n",
            "Label: preparation\n",
            "\n",
            "Turn: How do I prepare the pot?\n",
            "Label: preparation\n",
            "\n",
            "Turn: It is dry and clean, what should I do now?\n",
            "Label: preparation\n",
            "\n",
            "Turn: Okay, the tree's been potted.  What now?\n",
            "Label: preparation\n",
            "\n",
            "Turn: Thanks for the tips, is there anything else I need to know or do?\n",
            "Label: instruction\n",
            "\n",
            "Turn: I have some good seeds, what is the next step I should take?\n",
            "Label: preparation\n",
            "\n",
            "Turn: What should I do after the seeds germinate?\n",
            "Label: preparation\n",
            "\n",
            "Turn: What do I do after I plant the germinated seeds?\n",
            "Label: preparation\n",
            "\n",
            "Turn: Any specific growing medium I need for my seeds?\n",
            "Label: material\n",
            "\n",
            "Turn: I have pot picked out, what should I do next?\n",
            "Label: preparation\n",
            "\n",
            "Turn: After following the steps in the shared content, what should I do next?\n",
            "Label: preparation\n",
            "\n",
            "Turn: Basil is so fragrant. I love it. \n",
            "Label: miscellaneous\n",
            "\n",
            "Turn: There are so many kinds, what do you recommend?\n",
            "Label: instruction\n",
            "\n",
            "Turn: Good to know!  What tools might I need to grow some basil of my own?\n",
            "Label: equipment\n",
            "\n",
            "Turn: Uh, I don't get it. Can you please tell me about the tools that I'll need?\n",
            "Label: equipment\n",
            "\n",
            "Turn: Gotcha!  Once I have all those tools, what do I need to do to get started growing the basil?\n",
            "Label: preparation\n",
            "\n",
            "Turn: Okay.  I've got the basil I want to grow picked out.  What should I do next?\n",
            "Label: preparation\n",
            "\n",
            "Turn: Does that mean basil grows best in the spring and summer?\n",
            "Label: knowledge\n",
            "\n",
            "Turn: This seems very accurate. So, now that I know I'm starting at the right time, what should I do?\n",
            "Label: preparation\n",
            "\n",
            "Turn: Which is the best place to place the container the plant is seeded\n",
            "Label: instruction\n",
            "\n",
            "Turn: How long does it take for the basil to grow?\n",
            "Label: time\n",
            "\n",
            "Turn: Is there a way to cut them after they grow?\n",
            "Label: manual technique\n",
            "\n",
            "Turn: When should I cut the basil leaves?\n",
            "Label: time\n",
            "\n",
            "Turn: Now what step do I need to take to start this process? \n",
            "Label: preparation\n",
            "\n",
            "Turn: Okay, now what should I do after that? \n",
            "Label: preparation\n",
            "\n",
            "Turn: Can i u se other oily substance to loosen zipper? \n",
            "Label: material\n",
            "\n",
            "Turn: I don't really have access to those right now but i have some beeswax lipbalm that is mostly beeswax. Where do I apply it to the zipper to unstick it?\n",
            "Label: manual technique\n",
            "\n",
            "Turn: what tool I need to use after that?\n",
            "Label: equipment\n",
            "\n",
            "Turn: All right. I guess I was wondering what the next step after lubricating the zipper was.\n",
            "Label: preparation\n",
            "\n",
            "Turn: What should I do after rinsing the zipper?\n",
            "Label: preparation\n",
            "\n",
            "Turn: What should I do after washing and scrubbing the zipper?\n",
            "Label: preparation\n",
            "\n",
            "Turn: I have rubbed the zipper with he toothbrush, what should I do now?\n",
            "Label: preparation\n",
            "\n",
            "Turn: I have a lubricant, is there anything else that I should do?\n",
            "Label: preparation\n",
            "\n",
            "Turn: Good to know!  Any other steps you could share?\n",
            "Label: preparation\n",
            "\n",
            "Turn: Why do engines overheat in the first place?\n",
            "Label: knowledge\n",
            "\n",
            "Turn: Good to know!  So what tools will be needed for me to stop the engine overheating?\n",
            "Label: equipment\n",
            "\n",
            "Turn: That's very informative!  I followed the steps you outlined.  What do I need to do now?\n",
            "Label: preparation\n",
            "\n",
            "Turn: I have pulled over, is there another step I can take to troubleshoot this issue?\n",
            "Label: preparation\n",
            "\n",
            "Turn: What exactly is decoupage?\n",
            "Label: knowledge\n",
            "\n",
            "Turn: Oh ok, thanks for that! Sounds fun! What do I need to get started?\n",
            "Label: instruction\n",
            "\n",
            "Turn: what is decoupage? \n",
            "Label: knowledge\n",
            "\n",
            "Turn: This looks like a typing error. Anyway, I'm getting my tools together and I'm not sure about the glue. Do I have to use a particular type of crafting glue to do this project?\n",
            "Label: material\n",
            "\n",
            "Turn: what do I do next to get started\n",
            "Label: preparation\n",
            "\n",
            "Turn: Okay, I threw a couple layers of newspaper down.  What should I do now?\n",
            "Label: preparation\n",
            "\n",
            "Turn: What is the easiest type of material to apply?\n",
            "Label: material\n",
            "\n",
            "Turn: I'll ask for next to follow\n",
            "Label: preparation\n",
            "\n",
            "Turn: If I could only choose one thing to decoupage what would be the best choice?  I want to make sure I'm getting the best results!\n",
            "Label: instruction\n",
            "\n",
            "Turn: Can I reverse the process if I make a mistake?\n",
            "Label: instruction\n",
            "\n",
            "Turn: I decided to decoupage a small box, it seems like a good starter project to practice on. So I have my materials, my item (small box), and some newspaper down. How should I set up my work station and proceed?\n",
            "Label: preparation\n",
            "\n",
            "Turn: Are there any difficult instructions?\n",
            "Label: instruction\n",
            "\n",
            "Turn: Okay, I picked out a surface!  What should I do next?\n",
            "Label: preparation\n",
            "\n",
            "Turn: Sounds easy enough!  I cut the material to fit the surface of the object I'm using.  What should I do next?\n",
            "Label: preparation\n",
            "\n",
            "Turn: I have the glue in the bowl, what should I do next?\n",
            "Label: preparation\n",
            "\n",
            "Turn: I have the surface covered, what should I do next?\n",
            "Label: preparation\n",
            "\n",
            "Turn: Ok. Once thats done, how long should I let it dry for?\n",
            "Label: time\n",
            "\n",
            "Turn: Now that I've let that dry, what's the next step I should take? \n",
            "Label: preparation\n",
            "\n",
            "Turn: Okay, I‚Äôve put on another layer of glue. Now do I do the paper?\n",
            "Label: preparation\n",
            "\n",
            "Turn: Okay, now what should I do next? \n",
            "Label: preparation\n",
            "\n",
            "Turn: Is the cheapest way to fertilize a garden with compost from my kitchen?\n",
            "Label: instruction\n",
            "\n",
            "Turn: I'm not sure if you understood my previous question.  Could you try answering again?\n",
            "Label: miscellaneous\n",
            "\n",
            "Turn: We'll go with coffee, because I always have that around the house!  So how do I get started fertilizing?\n",
            "Label: preparation\n",
            "\n",
            "Turn: That's so helpful!  I've dried the grounds and spread them around.  Is that it?\n",
            "Label: preparation\n",
            "\n",
            "Turn: I don't have a coffee grinder. Can I crush the shells by hand? How fine do they have to be?\n",
            "Label: manual technique\n",
            "\n",
            "Turn: I'm sorry, I got confused.  I obviously have a grinder because I already spread coffee grounds around.  Are there any other tips you could share?\n",
            "Label: preparation\n",
            "\n",
            "Turn: Great, I will use a banana peel because I don't want to waste food. Is there anything else I should do?\n",
            "Label: preparation\n",
            "\n",
            "Turn: You already said that earlier, but thanks!  Any new tips?\n",
            "Label: preparation\n",
            "\n",
            "Turn: I don't know what epsom salts are.  Can you tell me what they are?\n",
            "Label: knowledge\n",
            "\n",
            "Turn: What type of tools am I going to need for this? \n",
            "Label: equipment\n",
            "\n",
            "Turn: If there are no tools needed, then how do I decide how to make the purchase?\n",
            "Label: instruction\n",
            "\n",
            "Turn: What is the cord going to be used for?\n",
            "Label: knowledge\n",
            "\n",
            "Turn: What type of mattress is good for side sleepers? \n",
            "Label: knowledge\n",
            "\n",
            "Turn: Yes. How do I determine what is a good quality mattress when I'm in the store?\n",
            "Label: knowledge\n",
            "\n",
            "Turn: Are mattress sizes all standard? \n",
            "Label: knowledge\n",
            "\n",
            "Turn: What is memory foam made out of?\n",
            "Label: material\n",
            "\n",
            "Turn: What are the benefits of high-density foam?\n",
            "Label: knowledge\n",
            "\n",
            "Turn: Why is memory foam a popular mattress choice? \n",
            "Label: knowledge\n",
            "\n",
            "Turn: Ok thank you. Anything else I should know before finishing up?\n",
            "Label: knowledge\n",
            "\n",
            "Turn: What tools do I need to grow elephant ear plants?\n",
            "Label: equipment\n",
            "\n",
            "Turn: If the temperatures are still cold in the spring should I plant this indoors?\n",
            "Label: instruction\n",
            "\n",
            "Turn: It's pretty cold here already. What type of potting soil will I need to plant indoors?\n",
            "Label: material\n",
            "\n",
            "Turn: Can I propagate the Elephant Ear Plant from a plant I already have or do I need to purchase them?\n",
            "Label: instruction\n",
            "\n",
            "Turn: Great, so for an indoor start, I have my plant and pot and correct acidity of planting medium. What should I do?\n",
            "Label: preparation\n",
            "\n",
            "Turn: I've picked out a great spot with the right amount of indirect light. What should I do now?\n",
            "Label: preparation\n",
            "\n",
            "Turn: How should I start planting once I've found the right spot?\n",
            "Label: preparation\n",
            "\n",
            "Turn: I have dug a drainage hole and am ready to plant my elephant ear plant, how should I begin?\n",
            "Label: preparation\n",
            "\n",
            "Turn: Now I have checked the ph level, what should I do next?\n",
            "Label: preparation\n",
            "\n",
            "Turn: Ok, once the holes are dug can I put the plants right in?\n",
            "Label: preparation\n",
            "\n",
            "Turn: I'm done digging, what do i do with the bulbs?\n",
            "Label: preparation\n",
            "\n",
            "Turn: Alright, I've pressed my bulbs down firmly, flat-end down. What now?\n",
            "Label: preparation\n",
            "\n",
            "Turn: How often should I be watering my plant?\n",
            "Label: amount\n",
            "\n",
            "Turn: Okay and I've kept the soil moist, what can I do next? \n",
            "Label: preparation\n",
            "\n",
            "Turn: Why shouldn't I place my marker directly over the bulb?\n",
            "Label: knowledge\n",
            "\n",
            "Turn: Okay and is there another step that I should take after this? \n",
            "Label: preparation\n",
            "\n",
            "Turn: It took the full three weeks but I'm finally seeing some sprouts. How do I nurture them?\n",
            "Label: preparation\n",
            "\n",
            "Turn: What should I do after watering the plat's roots in the morning?\n",
            "Label: preparation\n",
            "\n",
            "Turn: What should I do outside of adding slow-release fertilizer once a month?\n",
            "Label: preparation\n",
            "\n",
            "Turn: What type of climate do African violets grow in? \n",
            "Label: knowledge\n",
            "\n",
            "Turn: What tools do I need to grow African violets?\n",
            "Label: equipment\n",
            "\n",
            "Turn: Could you specify how much cement I'll need?\n",
            "Label: amount\n",
            "\n",
            "Turn: I have gathered the cement and other supplies, what should I do next?\n",
            "Label: preparation\n",
            "\n",
            "Turn: Alright I have got water and my plant what‚Äôs next?\n",
            "Label: preparation\n",
            "\n",
            "Turn: I went for the easier directions and put the leaf directly into the soil. So I just wait for it to take root?\n",
            "Label: preparation\n",
            "\n",
            "Turn: What is the best place I can get these types of seeds?\n",
            "Label: instruction\n",
            "\n",
            "Turn: Gotcha, I picked them up from the nursery by my house.  What should I do now?\n",
            "Label: preparation\n",
            "\n",
            "Turn: What tool do I need to test the soil pH?\n",
            "Label: equipment\n",
            "\n",
            "Turn: Why do i need to check the PH level of soil? \n",
            "Label: knowledge\n",
            "\n",
            "Turn: The ph level is good, what's next?\n",
            "Label: preparation\n",
            "\n",
            "Turn: Alright I separated the plants, what now?\n",
            "Label: preparation\n",
            "\n",
            "Turn: Now I've got several baby violet plants in their own small pots with violet potting medium. What should I do with them next?\n",
            "Label: preparation\n",
            "\n",
            "Turn: They have a good home, now what step should I take next? \n",
            "Label: preparation\n",
            "\n",
            "Turn: How frequently will the soil get dry?\n",
            "Label: amount\n",
            "\n",
            "Turn: If heavy sunlight dries out the soil should I keep it away from direct light?\n",
            "Label: knowledge\n",
            "\n",
            "Turn: Okay and they have light, so now what is the next step I can take? \n",
            "Label: preparation\n",
            "\n",
            "Turn: Yes it should have plenty of light, so what‚Äôs next?\n",
            "Label: preparation\n",
            "\n",
            "Turn: I've got a time that I want to fertilize, what else can I do now? \n",
            "Label: preparation\n",
            "\n",
            "Turn: What should I do after monitoring and maintaining their temperature and humidity?\n",
            "Label: preparation\n",
            "\n"
          ]
        }
      ]
    },
    {
      "cell_type": "code",
      "source": [
        "# generierte Labels als neue Spalte zu df hinzufügen\n",
        "test_df_st['pred_label_few_level_1'] = pred_labels_few_level_1"
      ],
      "metadata": {
        "id": "ohH4lYsVbSZ0"
      },
      "execution_count": null,
      "outputs": []
    },
    {
      "cell_type": "code",
      "source": [
        "# Vergleich GPT Labels mit manuellen Labels -> neue Spalte agreement, direkte Übereinstimmung: wahr/falsch\n",
        "test_df_st['agreement_few_level_1'] = test_df_st['label_1'] == test_df_st['pred_label_few_level_1']"
      ],
      "metadata": {
        "id": "XGOG8mSRbSZ1"
      },
      "execution_count": null,
      "outputs": []
    },
    {
      "cell_type": "code",
      "source": [
        "# Labels extrahieren, true sind manuelle und pred die von gpt\n",
        "# true_labels_level_1 wurde schon definiert\n",
        "pred_labels_few_level_1 = test_df_st['pred_label_few_level_1']"
      ],
      "metadata": {
        "id": "apm6ct9mLVqX"
      },
      "execution_count": null,
      "outputs": []
    },
    {
      "cell_type": "code",
      "source": [
        "# Berechnung Precision, Recall und F1-Score für jedes Label\n",
        "precision = precision_score(true_labels_level_1, pred_labels_few_level_1, average=None, labels=labels_level_1)\n",
        "recall = recall_score(true_labels_level_1, pred_labels_few_level_1, average=None, labels=labels_level_1)\n",
        "f1 = f1_score(true_labels_level_1, pred_labels_few_level_1, average=None, labels=labels_level_1)"
      ],
      "metadata": {
        "id": "PQ93SY9VLVqb"
      },
      "execution_count": null,
      "outputs": []
    },
    {
      "cell_type": "code",
      "source": [
        "report = classification_report(true_labels_level_1, pred_labels_few_level_1, labels=labels_level_1)\n",
        "print(report)"
      ],
      "metadata": {
        "colab": {
          "base_uri": "https://localhost:8080/"
        },
        "outputId": "4e13e600-01e2-46ab-97bd-4c1d19be82ab",
        "id": "kwzWmItQLVqe"
      },
      "execution_count": null,
      "outputs": [
        {
          "output_type": "stream",
          "name": "stdout",
          "text": [
            "                  precision    recall  f1-score   support\n",
            "\n",
            "       equipment       1.00      1.00      1.00         9\n",
            "     preparation       1.00      0.99      0.99        70\n",
            "        material       1.00      0.86      0.92         7\n",
            "   miscellaneous       1.00      0.50      0.67         4\n",
            "     instruction       0.67      0.80      0.73        10\n",
            "       knowledge       0.75      1.00      0.86        12\n",
            "manual technique       1.00      0.60      0.75         5\n",
            "            time       1.00      1.00      1.00         3\n",
            "          amount       1.00      1.00      1.00         3\n",
            "\n",
            "        accuracy                           0.93       123\n",
            "       macro avg       0.94      0.86      0.88       123\n",
            "    weighted avg       0.95      0.93      0.93       123\n",
            "\n"
          ]
        }
      ]
    },
    {
      "cell_type": "code",
      "source": [
        "# Berechnung Cohen's Kappa\n",
        "kappa = cohen_kappa_score(true_labels_level_1, pred_labels_few_level_1, labels=labels_level_1)\n",
        "print(f\"Cohen's Kappa: {kappa:.2f}\")"
      ],
      "metadata": {
        "colab": {
          "base_uri": "https://localhost:8080/"
        },
        "id": "pzjQvcWMLqoE",
        "outputId": "fdb011cf-fe30-4992-cb36-239285a46b21"
      },
      "execution_count": null,
      "outputs": [
        {
          "output_type": "stream",
          "name": "stdout",
          "text": [
            "Cohen's Kappa: 0.90\n"
          ]
        }
      ]
    },
    {
      "cell_type": "code",
      "source": [
        "test_df_st.to_excel('GPT4_Few_Level1.xlsx', index=False)"
      ],
      "metadata": {
        "id": "G-58QSz5Lud5"
      },
      "execution_count": null,
      "outputs": []
    },
    {
      "cell_type": "code",
      "source": [
        "test_df_st = reset_test_df_st.copy()"
      ],
      "metadata": {
        "id": "TZ9x_oRwNCc9"
      },
      "execution_count": null,
      "outputs": []
    },
    {
      "cell_type": "markdown",
      "source": [
        "#### Ändern der Reihenfolge"
      ],
      "metadata": {
        "id": "ATT_Au_wbSZ3"
      }
    },
    {
      "cell_type": "markdown",
      "source": [
        "Nun wird getestet, ob die Reihenfolge der few shots einen Einfluss auf die Performance des Modells hat. Da die eigentliche Anzahl an Permutationen zu groß ist (benötigte Rechenleistung zu hoch), wird nur eine bestimmte Anzahl an verschiedenen Reihenfolgen der few shots getestet."
      ],
      "metadata": {
        "id": "bsNRn44HbSZ4"
      }
    },
    {
      "cell_type": "code",
      "source": [
        "list_few_shots = list(examples.keys())\n",
        "\n",
        "# Anzahl aller möglichen Permutationen\n",
        "num_labels_level_1 = len(labels_level_1)\n",
        "num_permut = math.factorial(num_labels_level_1)\n",
        "print(f\"Anzahl möglicher Permutationen: {num_permut}\")\n",
        "\n",
        "# Da diese Anzahl an Permutationen zu hoch -> Anzahl verringern\n",
        "permut_few_shots = random.sample(list(itertools.permutations(list_few_shots)), 10)"
      ],
      "metadata": {
        "colab": {
          "base_uri": "https://localhost:8080/"
        },
        "outputId": "b1ee29ed-c040-4723-95a3-37c63490fc1b",
        "id": "T_dbKJQBbSZ4"
      },
      "execution_count": null,
      "outputs": [
        {
          "output_type": "stream",
          "name": "stdout",
          "text": [
            "Anzahl möglicher Permutationen: 362880\n"
          ]
        }
      ]
    },
    {
      "cell_type": "code",
      "source": [
        "def metrics(true_labels, pred_labels):\n",
        "  precision = precision_score(true_labels, pred_labels, average='weighted', zero_division=0)\n",
        "  recall = recall_score(true_labels, pred_labels, average='weighted', zero_division=0)\n",
        "  f1 = f1_score(true_labels, pred_labels, average='weighted', zero_division=0)\n",
        "  return precision, recall, f1\n",
        "\n",
        "results_permut_few_shots = []\n",
        "\n",
        "for permut in permut_few_shots:\n",
        "  permuted_few_shot_examples = \"\\n\".join([f\" {row['turn']}\\n {label}\" for label in permut for _, row in examples[label].iterrows()])\n",
        "  # few shot Beispiele im Prompt aktualisieren\n",
        "  current_prompt = prompt_few_level_1.replace(\"{few_shot_examples}\", permuted_few_shot_examples)\n",
        "  # nun wieder normaler Ablauf der Annotation\n",
        "  pred_labels_few_level_1 = []\n",
        "\n",
        "  for turn, role in zip(turns, roles):\n",
        "    if role == 'student':\n",
        "      label = annotate(client, model, current_prompt, turn)\n",
        "      if label:\n",
        "        pred_labels_few_level_1.append(label.lower())\n",
        "      else:\n",
        "        pred_labels_few_level_1.append(\"Fehler bei Anfrage\")\n",
        "    else:\n",
        "      # turns von teacher überspringen, da diese nicht gelabelt werden; nur für Kontext da\n",
        "      continue\n",
        "\n",
        "  # Precision, Recall und F1 pro Permutationen, damit Performance vergleichbar\n",
        "  p, r, f1 = metrics(true_labels_level_1, pred_labels_few_level_1)\n",
        "\n",
        "  # Ergebnisse speichern\n",
        "  results_permut_few_shots.append({'permutation': permut, 'precision': p, 'recall': r, 'f1_score': f1})\n",
        "\n",
        "# Performance-Ergebnisse der verschiedenen Reihenfolgen\n",
        "results_permut_few_shots_df = pd.DataFrame(results_permut_few_shots)\n",
        "\n",
        "precision_mean = results_permut_few_shots_df['precision'].mean()\n",
        "recall_mean = results_permut_few_shots_df['recall'].mean()\n",
        "f1_mean = results_permut_few_shots_df['f1_score'].mean()\n",
        "\n",
        "precision_std = results_permut_few_shots_df['precision'].std()\n",
        "recall_std_ = results_permut_few_shots_df['recall'].std()\n",
        "f1_std = results_permut_few_shots_df['f1_score'].std()\n",
        "\n",
        "print(f\"Durchschnitt Precision: {precision_mean:.3f} ± {precision_std:.3f}\")\n",
        "print(f\"Durchschnitt Recall: {recall_mean:.3f} ± {recall_std_:.3f}\")\n",
        "print(f\"Durchschnitt F1-Score: {f1_mean:.3f} ± {f1_std:.3f}\")"
      ],
      "metadata": {
        "colab": {
          "base_uri": "https://localhost:8080/"
        },
        "outputId": "5270e06c-cf81-40b6-b584-23f937b3dc83",
        "id": "4rbwxWuobSZ5"
      },
      "execution_count": null,
      "outputs": [
        {
          "output_type": "stream",
          "name": "stdout",
          "text": [
            "Durchschnitt Precision: 0.949 ± 0.000\n",
            "Durchschnitt Recall: 0.935 ± 0.000\n",
            "Durchschnitt F1-Score: 0.934 ± 0.000\n"
          ]
        }
      ]
    },
    {
      "cell_type": "code",
      "source": [
        "# Permutation mit bestem f1\n",
        "best_permutation = results_permut_few_shots_df.loc[results_permut_few_shots_df['f1_score'].idxmax()]\n",
        "print(\"Beste Reihenfolge:\", best_permutation['permutation'])\n",
        "print(f\"Precision: {best_permutation['precision']:.3f}, Recall: {best_permutation['recall']:.3f}, F1-Score: {best_permutation['f1_score']:.3f}\")"
      ],
      "metadata": {
        "colab": {
          "base_uri": "https://localhost:8080/"
        },
        "outputId": "2b49b7af-b564-409f-c1f5-135cea9bd024",
        "id": "Sn_wQj6-bSZ6"
      },
      "execution_count": null,
      "outputs": [
        {
          "output_type": "stream",
          "name": "stdout",
          "text": [
            "Beste Reihenfolge: ('knowledge', 'time', 'equipment', 'miscellaneous', 'material', 'manual technique', 'instruction', 'preparation', 'amount')\n",
            "Precision: 0.949, Recall: 0.935, F1-Score: 0.934\n"
          ]
        }
      ]
    },
    {
      "cell_type": "code",
      "source": [
        "best_order_label = best_permutation['permutation']\n",
        "\n",
        "best_order_few_shot_examples = \"\\n\".join([f\" {row['turn']}\\n {label}\" for label in best_order_label for _, row in examples[label].iterrows()])\n",
        "\n",
        "# Platzhalter füllen\n",
        "final_prompt = prompt_few_level_1.replace(\"{few_shot_examples}\", best_order_few_shot_examples)\n",
        "# jetzt wieder Annotation\n",
        "final_pred_labels_few_level_1 = []\n",
        "\n",
        "for turn, role in zip(turns, roles):\n",
        "  if role == 'student':\n",
        "    label = annotate(client, model, final_prompt, turn)\n",
        "    if label:\n",
        "      print(f\"Turn: {turn}\\nLabel: {label}\\n\")\n",
        "      final_pred_labels_few_level_1.append(label.lower())\n",
        "    else:\n",
        "      final_pred_labels_few_level_1.append(\"Fehler bei Anfrage\")\n",
        "  else:\n",
        "    # turns von teacher überspringen, da diese nicht gelabelt werden; nur für Kontext da\n",
        "    continue"
      ],
      "metadata": {
        "colab": {
          "base_uri": "https://localhost:8080/"
        },
        "outputId": "2fd313d6-2add-4f4d-81c5-895903329d5f",
        "id": "XPaoVqOybSZ6"
      },
      "execution_count": null,
      "outputs": [
        {
          "output_type": "stream",
          "name": "stdout",
          "text": [
            "Turn: What are the tools and other things required for starting a bonsai tree?\n",
            "Label: equipment\n",
            "\n",
            "Turn: I'm ready for the first step now please. \n",
            "Label: preparation\n",
            "\n",
            "Turn: I've got an idea of where I want it to grow, what's the next step that I need to take now? \n",
            "Label: preparation\n",
            "\n",
            "Turn: How do we prepare the tree? \n",
            "Label: preparation\n",
            "\n",
            "Turn: Ok, I have a nice dark green pot, perfect. What should I do now?\n",
            "Label: preparation\n",
            "\n",
            "Turn: Gotcha.  The tree is all ready for potting now, what's next?\n",
            "Label: preparation\n",
            "\n",
            "Turn: Ok, I've prepared the tree, wired the branches as asked and followed all direction, what should I do now?\n",
            "Label: preparation\n",
            "\n",
            "Turn: I've pruned and cleaned the roots, what's next?\n",
            "Label: preparation\n",
            "\n",
            "Turn: How do I prepare the pot?\n",
            "Label: preparation\n",
            "\n",
            "Turn: It is dry and clean, what should I do now?\n",
            "Label: preparation\n",
            "\n",
            "Turn: Okay, the tree's been potted.  What now?\n",
            "Label: preparation\n",
            "\n",
            "Turn: Thanks for the tips, is there anything else I need to know or do?\n",
            "Label: instruction\n",
            "\n",
            "Turn: I have some good seeds, what is the next step I should take?\n",
            "Label: preparation\n",
            "\n",
            "Turn: What should I do after the seeds germinate?\n",
            "Label: preparation\n",
            "\n",
            "Turn: What do I do after I plant the germinated seeds?\n",
            "Label: preparation\n",
            "\n",
            "Turn: Any specific growing medium I need for my seeds?\n",
            "Label: material\n",
            "\n",
            "Turn: I have pot picked out, what should I do next?\n",
            "Label: preparation\n",
            "\n",
            "Turn: After following the steps in the shared content, what should I do next?\n",
            "Label: preparation\n",
            "\n",
            "Turn: Basil is so fragrant. I love it. \n",
            "Label: miscellaneous\n",
            "\n",
            "Turn: There are so many kinds, what do you recommend?\n",
            "Label: instruction\n",
            "\n",
            "Turn: Good to know!  What tools might I need to grow some basil of my own?\n",
            "Label: equipment\n",
            "\n",
            "Turn: Uh, I don't get it. Can you please tell me about the tools that I'll need?\n",
            "Label: equipment\n",
            "\n",
            "Turn: Gotcha!  Once I have all those tools, what do I need to do to get started growing the basil?\n",
            "Label: preparation\n",
            "\n",
            "Turn: Okay.  I've got the basil I want to grow picked out.  What should I do next?\n",
            "Label: preparation\n",
            "\n",
            "Turn: Does that mean basil grows best in the spring and summer?\n",
            "Label: knowledge\n",
            "\n",
            "Turn: This seems very accurate. So, now that I know I'm starting at the right time, what should I do?\n",
            "Label: preparation\n",
            "\n",
            "Turn: Which is the best place to place the container the plant is seeded\n",
            "Label: instruction\n",
            "\n",
            "Turn: How long does it take for the basil to grow?\n",
            "Label: time\n",
            "\n",
            "Turn: Is there a way to cut them after they grow?\n",
            "Label: manual technique\n",
            "\n",
            "Turn: When should I cut the basil leaves?\n",
            "Label: time\n",
            "\n",
            "Turn: Now what step do I need to take to start this process? \n",
            "Label: preparation\n",
            "\n",
            "Turn: Okay, now what should I do after that? \n",
            "Label: preparation\n",
            "\n",
            "Turn: Can i u se other oily substance to loosen zipper? \n",
            "Label: material\n",
            "\n",
            "Turn: I don't really have access to those right now but i have some beeswax lipbalm that is mostly beeswax. Where do I apply it to the zipper to unstick it?\n",
            "Label: manual technique\n",
            "\n",
            "Turn: what tool I need to use after that?\n",
            "Label: equipment\n",
            "\n",
            "Turn: All right. I guess I was wondering what the next step after lubricating the zipper was.\n",
            "Label: preparation\n",
            "\n",
            "Turn: What should I do after rinsing the zipper?\n",
            "Label: preparation\n",
            "\n",
            "Turn: What should I do after washing and scrubbing the zipper?\n",
            "Label: preparation\n",
            "\n",
            "Turn: I have rubbed the zipper with he toothbrush, what should I do now?\n",
            "Label: preparation\n",
            "\n",
            "Turn: I have a lubricant, is there anything else that I should do?\n",
            "Label: preparation\n",
            "\n",
            "Turn: Good to know!  Any other steps you could share?\n",
            "Label: preparation\n",
            "\n",
            "Turn: Why do engines overheat in the first place?\n",
            "Label: knowledge\n",
            "\n",
            "Turn: Good to know!  So what tools will be needed for me to stop the engine overheating?\n",
            "Label: equipment\n",
            "\n",
            "Turn: That's very informative!  I followed the steps you outlined.  What do I need to do now?\n",
            "Label: preparation\n",
            "\n",
            "Turn: I have pulled over, is there another step I can take to troubleshoot this issue?\n",
            "Label: preparation\n",
            "\n",
            "Turn: What exactly is decoupage?\n",
            "Label: knowledge\n",
            "\n",
            "Turn: Oh ok, thanks for that! Sounds fun! What do I need to get started?\n",
            "Label: instruction\n",
            "\n",
            "Turn: what is decoupage? \n",
            "Label: knowledge\n",
            "\n",
            "Turn: This looks like a typing error. Anyway, I'm getting my tools together and I'm not sure about the glue. Do I have to use a particular type of crafting glue to do this project?\n",
            "Label: material\n",
            "\n",
            "Turn: what do I do next to get started\n",
            "Label: preparation\n",
            "\n",
            "Turn: Okay, I threw a couple layers of newspaper down.  What should I do now?\n",
            "Label: preparation\n",
            "\n",
            "Turn: What is the easiest type of material to apply?\n",
            "Label: material\n",
            "\n",
            "Turn: I'll ask for next to follow\n",
            "Label: preparation\n",
            "\n",
            "Turn: If I could only choose one thing to decoupage what would be the best choice?  I want to make sure I'm getting the best results!\n",
            "Label: instruction\n",
            "\n",
            "Turn: Can I reverse the process if I make a mistake?\n",
            "Label: instruction\n",
            "\n",
            "Turn: I decided to decoupage a small box, it seems like a good starter project to practice on. So I have my materials, my item (small box), and some newspaper down. How should I set up my work station and proceed?\n",
            "Label: preparation\n",
            "\n",
            "Turn: Are there any difficult instructions?\n",
            "Label: instruction\n",
            "\n",
            "Turn: Okay, I picked out a surface!  What should I do next?\n",
            "Label: preparation\n",
            "\n",
            "Turn: Sounds easy enough!  I cut the material to fit the surface of the object I'm using.  What should I do next?\n",
            "Label: preparation\n",
            "\n",
            "Turn: I have the glue in the bowl, what should I do next?\n",
            "Label: preparation\n",
            "\n",
            "Turn: I have the surface covered, what should I do next?\n",
            "Label: preparation\n",
            "\n",
            "Turn: Ok. Once thats done, how long should I let it dry for?\n",
            "Label: time\n",
            "\n",
            "Turn: Now that I've let that dry, what's the next step I should take? \n",
            "Label: preparation\n",
            "\n",
            "Turn: Okay, I‚Äôve put on another layer of glue. Now do I do the paper?\n",
            "Label: preparation\n",
            "\n",
            "Turn: Okay, now what should I do next? \n",
            "Label: preparation\n",
            "\n",
            "Turn: Is the cheapest way to fertilize a garden with compost from my kitchen?\n",
            "Label: instruction\n",
            "\n",
            "Turn: I'm not sure if you understood my previous question.  Could you try answering again?\n",
            "Label: miscellaneous\n",
            "\n",
            "Turn: We'll go with coffee, because I always have that around the house!  So how do I get started fertilizing?\n",
            "Label: preparation\n",
            "\n",
            "Turn: That's so helpful!  I've dried the grounds and spread them around.  Is that it?\n",
            "Label: preparation\n",
            "\n",
            "Turn: I don't have a coffee grinder. Can I crush the shells by hand? How fine do they have to be?\n",
            "Label: manual technique\n",
            "\n",
            "Turn: I'm sorry, I got confused.  I obviously have a grinder because I already spread coffee grounds around.  Are there any other tips you could share?\n",
            "Label: preparation\n",
            "\n",
            "Turn: Great, I will use a banana peel because I don't want to waste food. Is there anything else I should do?\n",
            "Label: preparation\n",
            "\n",
            "Turn: You already said that earlier, but thanks!  Any new tips?\n",
            "Label: preparation\n",
            "\n",
            "Turn: I don't know what epsom salts are.  Can you tell me what they are?\n",
            "Label: knowledge\n",
            "\n",
            "Turn: What type of tools am I going to need for this? \n",
            "Label: equipment\n",
            "\n",
            "Turn: If there are no tools needed, then how do I decide how to make the purchase?\n",
            "Label: instruction\n",
            "\n",
            "Turn: What is the cord going to be used for?\n",
            "Label: knowledge\n",
            "\n",
            "Turn: What type of mattress is good for side sleepers? \n",
            "Label: knowledge\n",
            "\n",
            "Turn: Yes. How do I determine what is a good quality mattress when I'm in the store?\n",
            "Label: knowledge\n",
            "\n",
            "Turn: Are mattress sizes all standard? \n",
            "Label: knowledge\n",
            "\n",
            "Turn: What is memory foam made out of?\n",
            "Label: material\n",
            "\n",
            "Turn: What are the benefits of high-density foam?\n",
            "Label: knowledge\n",
            "\n",
            "Turn: Why is memory foam a popular mattress choice? \n",
            "Label: knowledge\n",
            "\n",
            "Turn: Ok thank you. Anything else I should know before finishing up?\n",
            "Label: knowledge\n",
            "\n",
            "Turn: What tools do I need to grow elephant ear plants?\n",
            "Label: equipment\n",
            "\n",
            "Turn: If the temperatures are still cold in the spring should I plant this indoors?\n",
            "Label: instruction\n",
            "\n",
            "Turn: It's pretty cold here already. What type of potting soil will I need to plant indoors?\n",
            "Label: material\n",
            "\n",
            "Turn: Can I propagate the Elephant Ear Plant from a plant I already have or do I need to purchase them?\n",
            "Label: instruction\n",
            "\n",
            "Turn: Great, so for an indoor start, I have my plant and pot and correct acidity of planting medium. What should I do?\n",
            "Label: preparation\n",
            "\n",
            "Turn: I've picked out a great spot with the right amount of indirect light. What should I do now?\n",
            "Label: preparation\n",
            "\n",
            "Turn: How should I start planting once I've found the right spot?\n",
            "Label: preparation\n",
            "\n",
            "Turn: I have dug a drainage hole and am ready to plant my elephant ear plant, how should I begin?\n",
            "Label: preparation\n",
            "\n",
            "Turn: Now I have checked the ph level, what should I do next?\n",
            "Label: preparation\n",
            "\n",
            "Turn: Ok, once the holes are dug can I put the plants right in?\n",
            "Label: preparation\n",
            "\n",
            "Turn: I'm done digging, what do i do with the bulbs?\n",
            "Label: preparation\n",
            "\n",
            "Turn: Alright, I've pressed my bulbs down firmly, flat-end down. What now?\n",
            "Label: preparation\n",
            "\n",
            "Turn: How often should I be watering my plant?\n",
            "Label: amount\n",
            "\n",
            "Turn: Okay and I've kept the soil moist, what can I do next? \n",
            "Label: preparation\n",
            "\n",
            "Turn: Why shouldn't I place my marker directly over the bulb?\n",
            "Label: knowledge\n",
            "\n",
            "Turn: Okay and is there another step that I should take after this? \n",
            "Label: preparation\n",
            "\n",
            "Turn: It took the full three weeks but I'm finally seeing some sprouts. How do I nurture them?\n",
            "Label: preparation\n",
            "\n",
            "Turn: What should I do after watering the plat's roots in the morning?\n",
            "Label: preparation\n",
            "\n",
            "Turn: What should I do outside of adding slow-release fertilizer once a month?\n",
            "Label: preparation\n",
            "\n",
            "Turn: What type of climate do African violets grow in? \n",
            "Label: knowledge\n",
            "\n",
            "Turn: What tools do I need to grow African violets?\n",
            "Label: equipment\n",
            "\n",
            "Turn: Could you specify how much cement I'll need?\n",
            "Label: amount\n",
            "\n",
            "Turn: I have gathered the cement and other supplies, what should I do next?\n",
            "Label: preparation\n",
            "\n",
            "Turn: Alright I have got water and my plant what‚Äôs next?\n",
            "Label: preparation\n",
            "\n",
            "Turn: I went for the easier directions and put the leaf directly into the soil. So I just wait for it to take root?\n",
            "Label: preparation\n",
            "\n",
            "Turn: What is the best place I can get these types of seeds?\n",
            "Label: instruction\n",
            "\n",
            "Turn: Gotcha, I picked them up from the nursery by my house.  What should I do now?\n",
            "Label: preparation\n",
            "\n",
            "Turn: What tool do I need to test the soil pH?\n",
            "Label: equipment\n",
            "\n",
            "Turn: Why do i need to check the PH level of soil? \n",
            "Label: knowledge\n",
            "\n",
            "Turn: The ph level is good, what's next?\n",
            "Label: preparation\n",
            "\n",
            "Turn: Alright I separated the plants, what now?\n",
            "Label: preparation\n",
            "\n",
            "Turn: Now I've got several baby violet plants in their own small pots with violet potting medium. What should I do with them next?\n",
            "Label: preparation\n",
            "\n",
            "Turn: They have a good home, now what step should I take next? \n",
            "Label: preparation\n",
            "\n",
            "Turn: How frequently will the soil get dry?\n",
            "Label: amount\n",
            "\n",
            "Turn: If heavy sunlight dries out the soil should I keep it away from direct light?\n",
            "Label: knowledge\n",
            "\n",
            "Turn: Okay and they have light, so now what is the next step I can take? \n",
            "Label: preparation\n",
            "\n",
            "Turn: Yes it should have plenty of light, so what‚Äôs next?\n",
            "Label: preparation\n",
            "\n",
            "Turn: I've got a time that I want to fertilize, what else can I do now? \n",
            "Label: preparation\n",
            "\n",
            "Turn: What should I do after monitoring and maintaining their temperature and humidity?\n",
            "Label: preparation\n",
            "\n"
          ]
        }
      ]
    },
    {
      "cell_type": "code",
      "source": [
        "# generierte Labels als neue Spalte zu df hinzufügen\n",
        "test_df_st['final_pred_labels_few_level_1'] = final_pred_labels_few_level_1"
      ],
      "metadata": {
        "id": "-2LCK33_bSZ7"
      },
      "execution_count": null,
      "outputs": []
    },
    {
      "cell_type": "code",
      "source": [
        "# Vergleich GPT Labels mit manuellen Labels -> neue Spalte agreement, direkte Übereinstimmung: wahr/falsch\n",
        "test_df_st['agreement_few_level_1'] = test_df_st['label_1'] == test_df_st['final_pred_labels_few_level_1']"
      ],
      "metadata": {
        "id": "ZFsqlp88bSZ7"
      },
      "execution_count": null,
      "outputs": []
    },
    {
      "cell_type": "code",
      "source": [
        "# Labels extrahieren, true sind manuelle und pred die von gpt\n",
        "pred_labels_few_level_1 = test_df_st['final_pred_labels_few_level_1']"
      ],
      "metadata": {
        "id": "G7NOJtc0bSZ8"
      },
      "execution_count": null,
      "outputs": []
    },
    {
      "cell_type": "code",
      "source": [
        "# Berechnung Precision, Recall und F1-Score für jedes Label\n",
        "precision = precision_score(true_labels_level_1, pred_labels_few_level_1, average=None, labels=labels_level_1)\n",
        "recall = recall_score(true_labels_level_1, pred_labels_few_level_1, average=None, labels=labels_level_1)\n",
        "f1 = f1_score(true_labels_level_1, pred_labels_few_level_1, average=None, labels=labels_level_1)"
      ],
      "metadata": {
        "id": "9Z8iIJ1obSZ9"
      },
      "execution_count": null,
      "outputs": []
    },
    {
      "cell_type": "code",
      "source": [
        "report = classification_report(true_labels_level_1, pred_labels_few_level_1, labels=labels_level_1)\n",
        "print(report)"
      ],
      "metadata": {
        "colab": {
          "base_uri": "https://localhost:8080/"
        },
        "outputId": "e2b04393-0e1d-45c0-86be-54513c05023a",
        "id": "7p4NodUwbSZ9"
      },
      "execution_count": null,
      "outputs": [
        {
          "output_type": "stream",
          "name": "stdout",
          "text": [
            "                  precision    recall  f1-score   support\n",
            "\n",
            "       equipment       1.00      1.00      1.00         9\n",
            "     preparation       1.00      0.99      0.99        70\n",
            "        material       1.00      0.86      0.92         7\n",
            "   miscellaneous       1.00      0.50      0.67         4\n",
            "     instruction       0.67      0.80      0.73        10\n",
            "       knowledge       0.75      1.00      0.86        12\n",
            "manual technique       1.00      0.60      0.75         5\n",
            "            time       1.00      1.00      1.00         3\n",
            "          amount       1.00      1.00      1.00         3\n",
            "\n",
            "        accuracy                           0.93       123\n",
            "       macro avg       0.94      0.86      0.88       123\n",
            "    weighted avg       0.95      0.93      0.93       123\n",
            "\n"
          ]
        }
      ]
    },
    {
      "cell_type": "code",
      "source": [
        "# Berechnung Cohen's Kappa\n",
        "kappa = cohen_kappa_score(true_labels_level_1, pred_labels_few_level_1, labels=labels_level_1)\n",
        "print(f\"Cohen's Kappa: {kappa:.2f}\")"
      ],
      "metadata": {
        "colab": {
          "base_uri": "https://localhost:8080/"
        },
        "outputId": "062aca56-a79b-43ec-efd3-6df6b080b9bb",
        "id": "WnMH1M0_bSZ-"
      },
      "execution_count": null,
      "outputs": [
        {
          "output_type": "stream",
          "name": "stdout",
          "text": [
            "Cohen's Kappa: 0.90\n"
          ]
        }
      ]
    },
    {
      "cell_type": "code",
      "source": [
        "test_df_st.to_excel('GPT4_Few_Level1.xlsx', index=False)"
      ],
      "metadata": {
        "id": "SyCw4TEtXcRh"
      },
      "execution_count": null,
      "outputs": []
    },
    {
      "cell_type": "markdown",
      "source": [
        "# **Annotation des gesamten Datensatzes**"
      ],
      "metadata": {
        "id": "E9mD9vWRDJRu"
      }
    },
    {
      "cell_type": "markdown",
      "source": [
        "Zunächst wird der Datensatz noch vorbereitet, damit er verarbeitet werden kann."
      ],
      "metadata": {
        "id": "8TE5_yR7ZnHr"
      }
    },
    {
      "cell_type": "code",
      "source": [
        "file_path = 'Wizard_of_Tasks.xlsx'\n",
        "df_wot = pd.read_excel(file_path)"
      ],
      "metadata": {
        "id": "mAOMoQHnZ2TA"
      },
      "execution_count": null,
      "outputs": []
    },
    {
      "cell_type": "code",
      "source": [
        "# Zeilen entfernen, bei denen turn leer ist, da sonst Fehler entstehen können\n",
        "df_wot = df_wot[df_wot['turn'].notna() & df_wot['turn'].str.strip().ne('')]"
      ],
      "metadata": {
        "id": "VfyBpOqzZ2TB"
      },
      "execution_count": null,
      "outputs": []
    },
    {
      "cell_type": "code",
      "source": [
        "print(df_wot['turn'].value_counts())"
      ],
      "metadata": {
        "colab": {
          "base_uri": "https://localhost:8080/"
        },
        "id": "DawELrOKaD2w",
        "outputId": "b98fb871-ff70-4588-f947-6fc3e2b0fa37"
      },
      "execution_count": null,
      "outputs": [
        {
          "output_type": "stream",
          "name": "stdout",
          "text": [
            "turn\n",
            "Do you have any other questions?                                                                                                         4\n",
            "I have included information on next step.                                                                                                4\n",
            "What should I do next?                                                                                                                   3\n",
            "Oh okay, so what is my next step?                                                                                                        3\n",
            "What should I do after applying the paste?                                                                                               2\n",
            "                                                                                                                                        ..\n",
            "Next you'll learn about starting your seeds inside. I've shared the entire step for you so you'll know what to do next! Check it out.    1\n",
            "Gotcha!  I started my seeds inside.  What's the next step?                                                                               1\n",
            "Plant at the right time.                                                                                                                 1\n",
            "When would be a good time to plant?                                                                                                      1\n",
            "It will take between 60-80 days. Keep an eye on them!                                                                                    1\n",
            "Name: count, Length: 9787, dtype: int64\n"
          ]
        }
      ]
    },
    {
      "cell_type": "code",
      "source": [
        "# Anzahl pro role\n",
        "role_counts = df_wot['role'].value_counts()\n",
        "role_counts.plot(kind='bar')\n",
        "plt.title('Verteilung role')\n",
        "plt.xlabel('Role')\n",
        "plt.ylabel('Anzahl')\n",
        "plt.show()"
      ],
      "metadata": {
        "colab": {
          "base_uri": "https://localhost:8080/",
          "height": 511
        },
        "id": "tj5Uc9OMcZA3",
        "outputId": "4217f719-d328-488b-d5f9-58713e464c4c"
      },
      "execution_count": null,
      "outputs": [
        {
          "output_type": "display_data",
          "data": {
            "text/plain": [
              "<Figure size 640x480 with 1 Axes>"
            ],
            "image/png": "[encoded data removed]"
          },
          "metadata": {}
        }
      ]
    },
    {
      "cell_type": "markdown",
      "source": [
        "Die besten Ergebnisse bei der Annotation für die Label in Level 1 lieferte GPT-4. Das Few-Shot-Prompting war nochmal um circa 0.02 besser, weshalb mit dieser Methode der komplette Datensatz gelabelt wird."
      ],
      "metadata": {
        "id": "V7ko7he0RQGT"
      }
    },
    {
      "cell_type": "code",
      "source": [
        "# Prompt für Few Shot Level 1\n",
        "prompt_few_level_1 = \"\"\"\n",
        "### CONTEXT ###\n",
        "The data collected consists of conversations between a conversational assistant ('role'='teacher'), who provides guidance during a do-it-yourself project, and a user ('role'='student'), who expresses statements or questions to the conversational assistant during the process.\n",
        "In order to find out which information needs the users express with this utterance (also called turn), these must be assigned to their information needs with the help of the taxonomy, i.e. annotated or classified.\n",
        "\n",
        "\n",
        "### OBJECTIVE ###\n",
        "Classify/annotate each statement of the user with one of the following labels, which represent an information need of the user. You are an expert in data annotation!\n",
        "Each label is briefly defined for better delimitation.\n",
        "\n",
        "The nine labels are as follows:\n",
        "- \"amount\": Information need regarding a quantity or frequency specification.\n",
        "- \"material\": Information need regarding the required consumables.\n",
        "- \"preparation\": Information need regarding the steps of the process, including questions about the next step or tips that should be followed.\n",
        "- \"manual technique\": Information need regarding a practical instruction or method on how exactly to carry out a step that has not yet been described in detail. It is about the HOW of carrying out a step.\n",
        "- \"instruction\": Information needs regarding the selection or understanding of a project or guidance in general. Including general questions about the overall process or guidance, without referring to individual steps or detailed actions. This includes questions about the general requirements for completing a project, but without asking about specific materials, equipment or step-by-step instructions.\n",
        "- \"time\": Information need regarding a time specification.\n",
        "- \"equipment\": Information need regarding the required equipment such as devices, machines and tools, but not the technique of how to use them.\n",
        "- \"knowledge\": Information need regarding background information/knowledge about the topic.\n",
        "- \"miscellaneous\": Information need that cannot be assigned to any of the other categories/labels.\n",
        "\n",
        "Also consider the context and the user's previous statements!\n",
        "Also consider the previous statements of the conversational assistant, which can have an influence on the label of the user's information needs!\n",
        "\n",
        "\n",
        "### STYLE ###\n",
        "Only use the above labels.\n",
        "\n",
        "\n",
        "### AUDIENCE ###\n",
        "The labels are used for analysis by a group of scientists in information science and linguistics.\n",
        "\n",
        "\n",
        "### RESPONSE ###\n",
        "Only the label for each utterance.\n",
        "\n",
        "\n",
        "### EXAMPLES ###\n",
        "{few_shot_examples}\n",
        "\"\"\""
      ],
      "metadata": {
        "id": "6foX9yFOSlz3"
      },
      "execution_count": null,
      "outputs": []
    },
    {
      "cell_type": "markdown",
      "source": [
        "### Test"
      ],
      "metadata": {
        "id": "GrBGR2fu7wzY"
      }
    },
    {
      "cell_type": "code",
      "source": [
        "#für Test; nochmal kompletter Test-Datensatz\n",
        "df = df.copy()\n",
        "turns = df['turn'].tolist()\n",
        "roles = df['role'].tolist()"
      ],
      "metadata": {
        "id": "frYhPxHIg4PE"
      },
      "execution_count": null,
      "outputs": []
    },
    {
      "cell_type": "code",
      "source": [
        "df_st = df[df['role'] == 'student']\n",
        "df_st = df_st.copy()"
      ],
      "metadata": {
        "id": "ZKPsmfFWHrOi"
      },
      "execution_count": null,
      "outputs": []
    },
    {
      "cell_type": "code",
      "source": [
        "# Permutation mit bestem f1\n",
        "best_permutation = results_permut_few_shots_df.loc[results_permut_few_shots_df['f1_score'].idxmax()]\n",
        "print(\"Beste Reihenfolge:\", best_permutation['permutation'])\n",
        "print(f\"Precision: {best_permutation['precision']:.3f}, Recall: {best_permutation['recall']:.3f}, F1-Score: {best_permutation['f1_score']:.3f}\")"
      ],
      "metadata": {
        "colab": {
          "base_uri": "https://localhost:8080/"
        },
        "outputId": "0e564ffc-0272-4413-94ca-1f3843c2d935",
        "id": "d_TU6y54ROMy"
      },
      "execution_count": null,
      "outputs": [
        {
          "output_type": "stream",
          "name": "stdout",
          "text": [
            "Beste Reihenfolge: ('time', 'material', 'knowledge', 'amount', 'manual technique', 'equipment', 'preparation', 'instruction', 'miscellaneous')\n",
            "Precision: 0.949, Recall: 0.935, F1-Score: 0.934\n"
          ]
        }
      ]
    },
    {
      "cell_type": "code",
      "source": [
        "best_order_label = best_permutation['permutation']\n",
        "\n",
        "best_order_few_shot_examples = \"\\n\".join([f\" {row['turn']}\\n {label}\" for label in best_order_label for _, row in examples[label].iterrows()])\n",
        "\n",
        "# Platzhalter füllen\n",
        "prompt_level_1 = prompt_few_level_1.replace(\"{few_shot_examples}\", best_order_few_shot_examples)\n",
        "# jetzt wieder Annotation\n",
        "pred_labels_level_1 = []\n",
        "\n",
        "turn_counts = 0\n",
        "# nur die bereits gelabelten turns\n",
        "turns_max = 227\n",
        "\n",
        "for turn, role in zip(turns, roles):\n",
        "  if role == 'student':\n",
        "    if count < turns_max:\n",
        "      label = annotate(client, model, prompt_level_1, turn)\n",
        "      if label:\n",
        "        print(f\"Turn: {turn}\\nLabel: {label}\\n\")\n",
        "        pred_labels_level_1.append(label.lower())\n",
        "      else:\n",
        "        pred_labels_level_1.append(\"Fehler bei Anfrage\")\n",
        "\n",
        "      turn_counts += 1\n",
        "\n",
        "    else:\n",
        "      break\n",
        "\n",
        "  else:\n",
        "    # turns von teacher überspringen, da diese nicht gelabelt werden; nur für Kontext da\n",
        "    continue"
      ],
      "metadata": {
        "colab": {
          "base_uri": "https://localhost:8080/"
        },
        "outputId": "2b793946-4554-4496-96b8-e3dbff8babcc",
        "id": "hNHhFdXJROMy"
      },
      "execution_count": null,
      "outputs": [
        {
          "output_type": "stream",
          "name": "stdout",
          "text": [
            "Turn: What are the tools and other things required for starting a bonsai tree?\n",
            "Label: equipment\n",
            "\n",
            "Turn: I'm ready for the first step now please. \n",
            "Label: preparation\n",
            "\n",
            "Turn: I've got an idea of where I want it to grow, what's the next step that I need to take now? \n",
            "Label: preparation\n",
            "\n",
            "Turn: How do we prepare the tree? \n",
            "Label: preparation\n",
            "\n",
            "Turn: Ok, I have a nice dark green pot, perfect. What should I do now?\n",
            "Label: preparation\n",
            "\n",
            "Turn: Gotcha.  The tree is all ready for potting now, what's next?\n",
            "Label: preparation\n",
            "\n",
            "Turn: Ok, I've prepared the tree, wired the branches as asked and followed all direction, what should I do now?\n",
            "Label: preparation\n",
            "\n",
            "Turn: I've pruned and cleaned the roots, what's next?\n",
            "Label: preparation\n",
            "\n",
            "Turn: How do I prepare the pot?\n",
            "Label: preparation\n",
            "\n",
            "Turn: It is dry and clean, what should I do now?\n",
            "Label: preparation\n",
            "\n",
            "Turn: Okay, the tree's been potted.  What now?\n",
            "Label: preparation\n",
            "\n",
            "Turn: Thanks for the tips, is there anything else I need to know or do?\n",
            "Label: instruction\n",
            "\n",
            "Turn: I have some good seeds, what is the next step I should take?\n",
            "Label: preparation\n",
            "\n",
            "Turn: What should I do after the seeds germinate?\n",
            "Label: preparation\n",
            "\n",
            "Turn: What do I do after I plant the germinated seeds?\n",
            "Label: preparation\n",
            "\n",
            "Turn: Any specific growing medium I need for my seeds?\n",
            "Label: material\n",
            "\n",
            "Turn: I have pot picked out, what should I do next?\n",
            "Label: preparation\n",
            "\n",
            "Turn: After following the steps in the shared content, what should I do next?\n",
            "Label: preparation\n",
            "\n",
            "Turn: Basil is so fragrant. I love it. \n",
            "Label: miscellaneous\n",
            "\n",
            "Turn: There are so many kinds, what do you recommend?\n",
            "Label: instruction\n",
            "\n",
            "Turn: Good to know!  What tools might I need to grow some basil of my own?\n",
            "Label: equipment\n",
            "\n",
            "Turn: Uh, I don't get it. Can you please tell me about the tools that I'll need?\n",
            "Label: equipment\n",
            "\n",
            "Turn: Gotcha!  Once I have all those tools, what do I need to do to get started growing the basil?\n",
            "Label: preparation\n",
            "\n",
            "Turn: Okay.  I've got the basil I want to grow picked out.  What should I do next?\n",
            "Label: preparation\n",
            "\n",
            "Turn: Does that mean basil grows best in the spring and summer?\n",
            "Label: knowledge\n",
            "\n",
            "Turn: This seems very accurate. So, now that I know I'm starting at the right time, what should I do?\n",
            "Label: preparation\n",
            "\n",
            "Turn: Which is the best place to place the container the plant is seeded\n",
            "Label: instruction\n",
            "\n",
            "Turn: How long does it take for the basil to grow?\n",
            "Label: time\n",
            "\n",
            "Turn: Is there a way to cut them after they grow?\n",
            "Label: manual technique\n",
            "\n",
            "Turn: When should I cut the basil leaves?\n",
            "Label: time\n",
            "\n",
            "Turn: Now what step do I need to take to start this process? \n",
            "Label: preparation\n",
            "\n",
            "Turn: Okay, now what should I do after that? \n",
            "Label: preparation\n",
            "\n",
            "Turn: Can i u se other oily substance to loosen zipper? \n",
            "Label: material\n",
            "\n",
            "Turn: I don't really have access to those right now but i have some beeswax lipbalm that is mostly beeswax. Where do I apply it to the zipper to unstick it?\n",
            "Label: manual technique\n",
            "\n",
            "Turn: what tool I need to use after that?\n",
            "Label: equipment\n",
            "\n",
            "Turn: All right. I guess I was wondering what the next step after lubricating the zipper was.\n",
            "Label: preparation\n",
            "\n",
            "Turn: What should I do after rinsing the zipper?\n",
            "Label: preparation\n",
            "\n",
            "Turn: What should I do after washing and scrubbing the zipper?\n",
            "Label: preparation\n",
            "\n",
            "Turn: I have rubbed the zipper with he toothbrush, what should I do now?\n",
            "Label: preparation\n",
            "\n",
            "Turn: I have a lubricant, is there anything else that I should do?\n",
            "Label: preparation\n",
            "\n",
            "Turn: Good to know!  Any other steps you could share?\n",
            "Label: preparation\n",
            "\n",
            "Turn: Why do engines overheat in the first place?\n",
            "Label: knowledge\n",
            "\n",
            "Turn: Good to know!  So what tools will be needed for me to stop the engine overheating?\n",
            "Label: equipment\n",
            "\n",
            "Turn: That's very informative!  I followed the steps you outlined.  What do I need to do now?\n",
            "Label: preparation\n",
            "\n",
            "Turn: I have pulled over, is there another step I can take to troubleshoot this issue?\n",
            "Label: preparation\n",
            "\n",
            "Turn: What exactly is decoupage?\n",
            "Label: knowledge\n",
            "\n",
            "Turn: Oh ok, thanks for that! Sounds fun! What do I need to get started?\n",
            "Label: instruction\n",
            "\n",
            "Turn: what is decoupage? \n",
            "Label: knowledge\n",
            "\n",
            "Turn: This looks like a typing error. Anyway, I'm getting my tools together and I'm not sure about the glue. Do I have to use a particular type of crafting glue to do this project?\n",
            "Label: material\n",
            "\n",
            "Turn: what do I do next to get started\n",
            "Label: preparation\n",
            "\n",
            "Turn: Okay, I threw a couple layers of newspaper down.  What should I do now?\n",
            "Label: preparation\n",
            "\n",
            "Turn: What is the easiest type of material to apply?\n",
            "Label: material\n",
            "\n",
            "Turn: I'll ask for next to follow\n",
            "Label: preparation\n",
            "\n",
            "Turn: If I could only choose one thing to decoupage what would be the best choice?  I want to make sure I'm getting the best results!\n",
            "Label: instruction\n",
            "\n",
            "Turn: Can I reverse the process if I make a mistake?\n",
            "Label: instruction\n",
            "\n",
            "Turn: I decided to decoupage a small box, it seems like a good starter project to practice on. So I have my materials, my item (small box), and some newspaper down. How should I set up my work station and proceed?\n",
            "Label: preparation\n",
            "\n",
            "Turn: Are there any difficult instructions?\n",
            "Label: instruction\n",
            "\n",
            "Turn: Okay, I picked out a surface!  What should I do next?\n",
            "Label: preparation\n",
            "\n",
            "Turn: Sounds easy enough!  I cut the material to fit the surface of the object I'm using.  What should I do next?\n",
            "Label: preparation\n",
            "\n",
            "Turn: I have the glue in the bowl, what should I do next?\n",
            "Label: preparation\n",
            "\n",
            "Turn: I have the surface covered, what should I do next?\n",
            "Label: preparation\n",
            "\n",
            "Turn: Ok. Once thats done, how long should I let it dry for?\n",
            "Label: time\n",
            "\n",
            "Turn: Now that I've let that dry, what's the next step I should take? \n",
            "Label: preparation\n",
            "\n",
            "Turn: Okay, I‚Äôve put on another layer of glue. Now do I do the paper?\n",
            "Label: preparation\n",
            "\n",
            "Turn: Okay, now what should I do next? \n",
            "Label: preparation\n",
            "\n",
            "Turn: I have musty smelling shirts and pants from my wardrobe, what do I need to go about getting rid of the stink?\n",
            "Label: instruction\n",
            "\n",
            "Turn: Alright I got my tools, what now?\n",
            "Label: preparation\n",
            "\n",
            "Turn: Yeah I got white vinegar. Is that fine? What's next?\n",
            "Label: preparation\n",
            "\n",
            "Turn: So what do I do now? Put the vinegar into the washer load?\n",
            "Label: preparation\n",
            "\n",
            "Turn: I've added the to the water, now what? \n",
            "Label: preparation\n",
            "\n",
            "Turn: I've let the clothes hang to dry, what should I do next? \n",
            "Label: preparation\n",
            "\n",
            "Turn: What should I do after I've tried that cleaner?\n",
            "Label: preparation\n",
            "\n",
            "Turn: I used the baking soda. If the smell isn't gone, what do I try next?\n",
            "Label: preparation\n",
            "\n",
            "Turn: I tried the vodka, but the smell still lingers. What next?\n",
            "Label: preparation\n",
            "\n",
            "Turn: Is there any risk of damage to my clothes if I take it to a dry cleaner?\n",
            "Label: knowledge\n",
            "\n",
            "Turn: How does liquid carbon dioxide cleaning work on clothes?\n",
            "Label: knowledge\n",
            "\n",
            "Turn: Looks like a dry cleaner's service is the remaining option. Should I be confident that the chemicals they will use won't fade my clothes?\n",
            "Label: knowledge\n",
            "\n",
            "Turn: I guess I'll have to try that then. Are there any other alternatives besides dry-cleaning and similar?\n",
            "Label: instruction\n",
            "\n",
            "Turn: Thanks for the info!  I took it to the dry cleaners.  What's the next step?\n",
            "Label: preparation\n",
            "\n",
            "Turn: Is there anything I should do after taking it to the dry cleaners?\n",
            "Label: preparation\n",
            "\n",
            "Turn: Should I be careful with certain fabrics?  Could the boiling water ruin them?\n",
            "Label: knowledge\n",
            "\n",
            "Turn: Should I keep the water boiling with the clothes added?\n",
            "Label: manual technique\n",
            "\n",
            "Turn: I have let the clothes dry after rinsing them in the boiling water, are any other steps necessary?\n",
            "Label: preparation\n",
            "\n",
            "Turn: Would cotton items be able to be cleaned this way without damage.\n",
            "Label: knowledge\n",
            "\n",
            "Turn: Can I use a shirt that is 50% cotton and 50% wool to test out?\n",
            "Label: material\n",
            "\n",
            "Turn: Once I've tested out my shirt with success what should I do?\n",
            "Label: preparation\n",
            "\n",
            "Turn: Can you tell me what a vacuum thermoflask is used for?\n",
            "Label: knowledge\n",
            "\n",
            "Turn: How should I clean it?\n",
            "Label: instruction\n",
            "\n",
            "Turn: Ok I have everything needed, what's next?\n",
            "Label: preparation\n",
            "\n",
            "Turn: I collected all the materials. What now?\n",
            "Label: preparation\n",
            "\n",
            "Turn: Got the vinegar and baking soda in the flask, it's foaming, what's next?\n",
            "Label: preparation\n",
            "\n",
            "Turn: What do I do after I have mixed the baking soda and vinegar in the flask?\n",
            "Label: preparation\n",
            "\n",
            "Turn: Now the fizzing in the flask has stopped, what should I do?\n",
            "Label: preparation\n",
            "\n",
            "Turn: I've take care of that, what can I do next? \n",
            "Label: preparation\n",
            "\n",
            "Turn: It's been washed, what step do I take now? \n",
            "Label: preparation\n",
            "\n",
            "Turn: After a few minutes, am I now ready to apply the solution?\n",
            "Label: preparation\n",
            "\n",
            "Turn: I have let it soak, what is the next step?\n",
            "Label: preparation\n",
            "\n",
            "Turn: I have scrubbed as much as will come off, what is the next step I should take?\n",
            "Label: preparation\n",
            "\n",
            "Turn: Okay, I scrubbed the heck out of that flask!  What now?\n",
            "Label: preparation\n",
            "\n",
            "Turn: Just to be clear, I can pour the used vinegar mixture just down the drain? It won't damage my pipes?\n",
            "Label: knowledge\n",
            "\n",
            "Turn: I've finished rinsing out the flask and it smells free of vinegar.  What's next?\n",
            "Label: preparation\n",
            "\n",
            "Turn: I have rinsed the flask. Is there something else ?\n",
            "Label: preparation\n",
            "\n",
            "Turn: Ok, I've crushed my ice and filled the flask 1/4 of the way.  What's next?\n",
            "Label: preparation\n",
            "\n",
            "Turn: What should my next step be?\n",
            "Label: preparation\n",
            "\n",
            "Turn: I have added the salt, what materials do I need for the next step?\n",
            "Label: material\n",
            "\n",
            "Turn: I have made sure the flask is dry, what is the next step?\n",
            "Label: preparation\n",
            "\n",
            "Turn: What do I do with the flask?\n",
            "Label: preparation\n",
            "\n",
            "Turn: I have added salt, what do I need for the next step?\n",
            "Label: material\n",
            "\n",
            "Turn: Gotcha!  What should I do after I'm done shaking it?\n",
            "Label: preparation\n",
            "\n",
            "Turn: Okay that's shaken, what now? \n",
            "Label: preparation\n",
            "\n",
            "Turn: It's been rinsed, what's next? \n",
            "Label: preparation\n",
            "\n",
            "Turn: Could I substitute baking soda if I don't have denture cleaning tablets?\n",
            "Label: material\n",
            "\n",
            "Turn: I have the tablets, what is the next step?\n",
            "Label: preparation\n",
            "\n",
            "Turn: I have cleaned the tables, what should I do now?\n",
            "Label: preparation\n",
            "\n",
            "Turn: Once dry, what should I do next?\n",
            "Label: preparation\n",
            "\n",
            "Turn: If there is still a stain or two that's visible to the eye do I need to repeat the whole process?\n",
            "Label: preparation\n",
            "\n",
            "Turn: I've set the timer so flask can sit.  now what? \n",
            "Label: preparation\n",
            "\n",
            "Turn: I have cleaned with a bottle brush, what is the next step I should take?\n",
            "Label: preparation\n",
            "\n",
            "Turn: Can you show me how to set up a worm compost system?\n",
            "Label: instruction\n",
            "\n",
            "Turn: What tools do I need to build a worm compost system?\n",
            "Label: equipment\n",
            "\n",
            "Turn: Can you specify what the square is referring to on your list?\n",
            "Label: instruction\n",
            "\n",
            "Turn: Do worms prefer a specific soil? \n",
            "Label: knowledge\n",
            "\n",
            "Turn: I have gathered the materials needed for the worm compost system, what do I need for the first step?\n",
            "Label: preparation\n",
            "\n",
            "Turn: How does worms create compose?\n",
            "Label: knowledge\n",
            "\n",
            "Turn: Got a great worm bin, this was recommended by my local garden center. What is the next step to take?\n",
            "Label: preparation\n",
            "\n",
            "Turn: Okay, I've picked out a shady area that should be nice and cool for this bin to be placed in. What comes now?\n",
            "Label: preparation\n",
            "\n",
            "Turn: I've prepared the bedding, the worms are all tucked in and cozy for sleep, how should I proceed?\n",
            "Label: preparation\n",
            "\n",
            "Turn: There are different types of worms, can you tell what the types are and what they are good for? \n",
            "Label: knowledge\n",
            "\n",
            "Turn: Okay, I've picked out my worms and am wondering what I do now?\n",
            "Label: preparation\n",
            "\n",
            "Turn: What do I need to be feeding it?\n",
            "Label: material\n",
            "\n",
            "Turn: Alright I added some food scraps, what now?\n",
            "Label: preparation\n",
            "\n",
            "Turn: Ok. So the food scraps and the water, is there anything else I need to be aware of to maintain their health?\n",
            "Label: knowledge\n",
            "\n",
            "Turn: Why would elevating my bin off the ground help keep the worms happy?\n",
            "Label: knowledge\n",
            "\n",
            "Turn: Why shouldn't I feed my worms as much as I can?\n",
            "Label: knowledge\n",
            "\n",
            "Turn: Okay and are there any more steps that I need to take?\n",
            "Label: preparation\n",
            "\n",
            "Turn: Okay so I will be careful of that, what other steps can I take now? \n",
            "Label: preparation\n",
            "\n",
            "Turn: Alright I will be sure not to overfeed, what‚Äôs my next step?\n",
            "Label: preparation\n",
            "\n",
            "Turn: That sounds good, please continue to tell me how to maintain the bin! \n",
            "Label: preparation\n",
            "\n",
            "Turn: How often do I need to feed the worms to feed them \"regularly\"?\n",
            "Label: amount\n",
            "\n",
            "Turn: Is there anything else that I need to do?\n",
            "Label: preparation\n",
            "\n",
            "Turn: Is the cheapest way to fertilize a garden with compost from my kitchen?\n",
            "Label: knowledge\n",
            "\n",
            "Turn: I'm not sure if you understood my previous question.  Could you try answering again?\n",
            "Label: miscellaneous\n",
            "\n",
            "Turn: We'll go with coffee, because I always have that around the house!  So how do I get started fertilizing?\n",
            "Label: preparation\n",
            "\n",
            "Turn: That's so helpful!  I've dried the grounds and spread them around.  Is that it?\n",
            "Label: preparation\n",
            "\n",
            "Turn: I don't have a coffee grinder. Can I crush the shells by hand? How fine do they have to be?\n",
            "Label: manual technique\n",
            "\n",
            "Turn: I'm sorry, I got confused.  I obviously have a grinder because I already spread coffee grounds around.  Are there any other tips you could share?\n",
            "Label: manual technique\n",
            "\n",
            "Turn: Great, I will use a banana peel because I don't want to waste food. Is there anything else I should do?\n",
            "Label: preparation\n",
            "\n",
            "Turn: You already said that earlier, but thanks!  Any new tips?\n",
            "Label: preparation\n",
            "\n",
            "Turn: I don't know what epsom salts are.  Can you tell me what they are?\n",
            "Label: knowledge\n",
            "\n",
            "Turn: What type of tools am I going to need for this? \n",
            "Label: equipment\n",
            "\n",
            "Turn: If there are no tools needed, then how do I decide how to make the purchase?\n",
            "Label: instruction\n",
            "\n",
            "Turn: What is the cord going to be used for?\n",
            "Label: knowledge\n",
            "\n",
            "Turn: What type of mattress is good for side sleepers? \n",
            "Label: knowledge\n",
            "\n",
            "Turn: Yes. How do I determine what is a good quality mattress when I'm in the store?\n",
            "Label: knowledge\n",
            "\n",
            "Turn: Are mattress sizes all standard? \n",
            "Label: knowledge\n",
            "\n",
            "Turn: What is memory foam made out of?\n",
            "Label: knowledge\n",
            "\n",
            "Turn: What are the benefits of high-density foam?\n",
            "Label: knowledge\n",
            "\n",
            "Turn: Why is memory foam a popular mattress choice? \n",
            "Label: knowledge\n",
            "\n",
            "Turn: Ok thank you. Anything else I should know before finishing up?\n",
            "Label: knowledge\n",
            "\n",
            "Turn: What tools do I need to grow elephant ear plants?\n",
            "Label: equipment\n",
            "\n",
            "Turn: If the temperatures are still cold in the spring should I plant this indoors?\n",
            "Label: knowledge\n",
            "\n",
            "Turn: It's pretty cold here already. What type of potting soil will I need to plant indoors?\n",
            "Label: material\n",
            "\n",
            "Turn: Can I propagate the Elephant Ear Plant from a plant I already have or do I need to purchase them?\n",
            "Label: knowledge\n",
            "\n",
            "Turn: Great, so for an indoor start, I have my plant and pot and correct acidity of planting medium. What should I do?\n",
            "Label: preparation\n",
            "\n",
            "Turn: I've picked out a great spot with the right amount of indirect light. What should I do now?\n",
            "Label: preparation\n",
            "\n",
            "Turn: How should I start planting once I've found the right spot?\n",
            "Label: preparation\n",
            "\n",
            "Turn: I have dug a drainage hole and am ready to plant my elephant ear plant, how should I begin?\n",
            "Label: preparation\n",
            "\n",
            "Turn: Now I have checked the ph level, what should I do next?\n",
            "Label: preparation\n",
            "\n",
            "Turn: Ok, once the holes are dug can I put the plants right in?\n",
            "Label: preparation\n",
            "\n",
            "Turn: I'm done digging, what do i do with the bulbs?\n",
            "Label: preparation\n",
            "\n",
            "Turn: Alright, I've pressed my bulbs down firmly, flat-end down. What now?\n",
            "Label: preparation\n",
            "\n",
            "Turn: How often should I be watering my plant?\n",
            "Label: amount\n",
            "\n",
            "Turn: Okay and I've kept the soil moist, what can I do next? \n",
            "Label: preparation\n",
            "\n",
            "Turn: Why shouldn't I place my marker directly over the bulb?\n",
            "Label: knowledge\n",
            "\n",
            "Turn: Okay and is there another step that I should take after this? \n",
            "Label: preparation\n",
            "\n",
            "Turn: It took the full three weeks but I'm finally seeing some sprouts. How do I nurture them?\n",
            "Label: preparation\n",
            "\n",
            "Turn: What should I do after watering the plat's roots in the morning?\n",
            "Label: preparation\n",
            "\n",
            "Turn: What should I do outside of adding slow-release fertilizer once a month?\n",
            "Label: preparation\n",
            "\n",
            "Turn: What is the best tool to use to harvest the sweet pea seed pods?\n",
            "Label: equipment\n",
            "\n",
            "Turn: I am confused by your response. Would you please rephrase? \n",
            "Label: miscellaneous\n",
            "\n",
            "Turn: Gotcha!  Once I have all these, how do I get started?\n",
            "Label: preparation\n",
            "\n",
            "Turn: Ok. I won't pick any more flowers to be sure. What else do I do now?\n",
            "Label: preparation\n",
            "\n",
            "Turn: Sorry, I'm a total plant novice.  What do you mean by \"go to seed\"?\n",
            "Label: manual technique\n",
            "\n",
            "Turn: Thanks for the help!  What should I do after letting them go to seed?\n",
            "Label: preparation\n",
            "\n",
            "Turn: Doesn't the change in color to brown mean that the pods are dying or unhealthy?\n",
            "Label: knowledge\n",
            "\n",
            "Turn: You said to leave some stem on the pods. How much stem should I leave on each pod?\n",
            "Label: amount\n",
            "\n",
            "Turn: So after they turn brown and I've left some stem on the pods, what is after that?\n",
            "Label: preparation\n",
            "\n",
            "Turn: Do I need a special container to hold the seeds?\n",
            "Label: equipment\n",
            "\n",
            "Turn: It looks like they turned out well! So should I store them in the pods, or take them out? I'm going to store them in an airtight container, but I was wondering how long they will last? Is there anything else i need to do, or do I just store them at this point? \n",
            "Label: preparation\n",
            "\n",
            "Turn: Is the sunshine request for the seeds\n",
            "Label: knowledge\n",
            "\n",
            "Turn: Do you have some suggestions for good spots to dry them in?\n",
            "Label: knowledge\n",
            "\n",
            "Turn: Good to know!  Any other storage tips?  Or general advice?  Or are we done?\n",
            "Label: instruction\n",
            "\n",
            "Turn: ok, I'm assuming I need rice and a sock, but what other things or tools do I need to make a rice sock?\n",
            "Label: equipment\n",
            "\n",
            "Turn: Okay and now that I have everything ready, what should I start doing first? \n",
            "Label: preparation\n",
            "\n",
            "Turn: I have chosen a sock, what should I do next?\n",
            "Label: preparation\n",
            "\n",
            "Turn: Okay, the sock is in the grass, now what's next? \n",
            "Label: preparation\n",
            "\n",
            "Turn: The sock is now full of rice, what's the next thing I can do now? \n",
            "Label: preparation\n",
            "\n",
            "Turn: Okay, I decided to throw some aromatics in.  What should I do now?\n",
            "Label: preparation\n",
            "\n",
            "Turn: The sock has been tied and I whipped it around for good measure, nothing fell out.  What now?\n",
            "Label: preparation\n",
            "\n",
            "Turn: What should I do after refilling the socks with new rice?\n",
            "Label: preparation\n",
            "\n",
            "Turn: What do I do after the rick sock is in the microwave?\n",
            "Label: preparation\n",
            "\n",
            "Turn: I have warmed the rice sock in the oven at 300 degrees Fahrenheit. What is next?\n",
            "Label: preparation\n",
            "\n",
            "Turn: Will it irritate my skin? I have sensitive skin.\n",
            "Label: knowledge\n",
            "\n",
            "Turn: I tried it out and it seemed to work well?  Any other advice?\n",
            "Label: knowledge\n",
            "\n",
            "Turn: Are there any other steps that I should take now? \n",
            "Label: preparation\n",
            "\n",
            "Turn: What should I do after using the rice sock for 20-25 minutes?\n",
            "Label: preparation\n",
            "\n",
            "Turn: How long can I leave the rice sock on my head for relief?\n",
            "Label: time\n",
            "\n",
            "Turn: What type of climate do African violets grow in? \n",
            "Label: knowledge\n",
            "\n",
            "Turn: What tools do I need to grow African violets?\n",
            "Label: equipment\n",
            "\n",
            "Turn: Could you specify how much cement I'll need?\n",
            "Label: amount\n",
            "\n",
            "Turn: I have gathered the cement and other supplies, what should I do next?\n",
            "Label: preparation\n",
            "\n",
            "Turn: Alright I have got water and my plant what‚Äôs next?\n",
            "Label: preparation\n",
            "\n",
            "Turn: I went for the easier directions and put the leaf directly into the soil. So I just wait for it to take root?\n",
            "Label: preparation\n",
            "\n",
            "Turn: What is the best place I can get these types of seeds?\n",
            "Label: instruction\n",
            "\n",
            "Turn: Gotcha, I picked them up from the nursery by my house.  What should I do now?\n",
            "Label: preparation\n",
            "\n",
            "Turn: What tool do I need to test the soil pH?\n",
            "Label: equipment\n",
            "\n",
            "Turn: Why do i need to check the PH level of soil? \n",
            "Label: knowledge\n",
            "\n",
            "Turn: The ph level is good, what's next?\n",
            "Label: preparation\n",
            "\n",
            "Turn: Alright I separated the plants, what now?\n",
            "Label: preparation\n",
            "\n",
            "Turn: Now I've got several baby violet plants in their own small pots with violet potting medium. What should I do with them next?\n",
            "Label: preparation\n",
            "\n",
            "Turn: They have a good home, now what step should I take next? \n",
            "Label: preparation\n",
            "\n",
            "Turn: How frequently will the soil get dry?\n",
            "Label: amount\n",
            "\n",
            "Turn: If heavy sunlight dries out the soil should I keep it away from direct light?\n",
            "Label: knowledge\n",
            "\n",
            "Turn: Okay and they have light, so now what is the next step I can take? \n",
            "Label: preparation\n",
            "\n",
            "Turn: Yes it should have plenty of light, so what‚Äôs next?\n",
            "Label: preparation\n",
            "\n",
            "Turn: I've got a time that I want to fertilize, what else can I do now? \n",
            "Label: preparation\n",
            "\n",
            "Turn: What should I do after monitoring and maintaining their temperature and humidity?\n",
            "Label: preparation\n",
            "\n"
          ]
        }
      ]
    },
    {
      "cell_type": "code",
      "source": [
        "df_st['pred_labels_level_1'] = final_pred_labels_few_level_1"
      ],
      "metadata": {
        "colab": {
          "base_uri": "https://localhost:8080/"
        },
        "id": "8FneIgu6hlDI",
        "outputId": "2341445d-daf8-42ae-acd0-cdb12c731d87"
      },
      "execution_count": null,
      "outputs": [
        {
          "output_type": "stream",
          "name": "stderr",
          "text": [
            "<ipython-input-113-87aff934ea48>:1: SettingWithCopyWarning: \n",
            "A value is trying to be set on a copy of a slice from a DataFrame.\n",
            "Try using .loc[row_indexer,col_indexer] = value instead\n",
            "\n",
            "See the caveats in the documentation: https://pandas.pydata.org/pandas-docs/stable/user_guide/indexing.html#returning-a-view-versus-a-copy\n",
            "  df_st['pred_labels_level_1'] = final_pred_labels_few_level_1\n"
          ]
        }
      ]
    },
    {
      "cell_type": "code",
      "source": [
        "# Vergleich GPT Labels mit manuellen Labels\n",
        "df_st['agreement_few_level_1'] = df_st['label_1'] == df_st['pred_labels_level_1']"
      ],
      "metadata": {
        "colab": {
          "base_uri": "https://localhost:8080/"
        },
        "id": "u0I-75aZh7t9",
        "outputId": "9869dd32-e335-4f6a-d2be-60060a90f3d9"
      },
      "execution_count": null,
      "outputs": [
        {
          "output_type": "stream",
          "name": "stderr",
          "text": [
            "<ipython-input-118-9008526f2197>:2: SettingWithCopyWarning: \n",
            "A value is trying to be set on a copy of a slice from a DataFrame.\n",
            "Try using .loc[row_indexer,col_indexer] = value instead\n",
            "\n",
            "See the caveats in the documentation: https://pandas.pydata.org/pandas-docs/stable/user_guide/indexing.html#returning-a-view-versus-a-copy\n",
            "  df_st['agreement_few_level_1'] = df_st['label_1'] == df_st['pred_labels_level_1']\n"
          ]
        }
      ]
    },
    {
      "cell_type": "code",
      "source": [
        "# Labels extrahieren, true sind manuelle und pred die von gpt\n",
        "pred_labels_few_level_1 = df_st['pred_labels_level_1']"
      ],
      "metadata": {
        "id": "IHi_KeJDh7t_"
      },
      "execution_count": null,
      "outputs": []
    },
    {
      "cell_type": "code",
      "source": [
        "# Berechnung Precision, Recall und F1-Score für jedes Label\n",
        "true_labels_level_1_wot = df_st['label_1']\n",
        "precision = precision_score(true_labels_level_1_wot, pred_labels_few_level_1, average=None, labels=labels_level_1)\n",
        "recall = recall_score(true_labels_level_1_wot, pred_labels_few_level_1, average=None, labels=labels_level_1)\n",
        "f1 = f1_score(true_labels_level_1_wot, pred_labels_few_level_1, average=None, labels=labels_level_1)"
      ],
      "metadata": {
        "id": "CFe708f6h7t_"
      },
      "execution_count": null,
      "outputs": []
    },
    {
      "cell_type": "code",
      "source": [
        "report = classification_report(true_labels_level_1, pred_labels_few_level_1, labels=labels_level_1)\n",
        "print(report)"
      ],
      "metadata": {
        "colab": {
          "base_uri": "https://localhost:8080/"
        },
        "outputId": "ea600c88-78ef-4f5d-c5c4-d172f8dd6b16",
        "id": "_kXHXdvUh7uA"
      },
      "execution_count": null,
      "outputs": [
        {
          "output_type": "stream",
          "name": "stdout",
          "text": [
            "                  precision    recall  f1-score   support\n",
            "\n",
            "       equipment       1.00      1.00      1.00         9\n",
            "     preparation       1.00      0.99      0.99        70\n",
            "        material       1.00      0.86      0.92         7\n",
            "   miscellaneous       1.00      0.50      0.67         4\n",
            "     instruction       0.67      0.80      0.73        10\n",
            "       knowledge       0.75      1.00      0.86        12\n",
            "manual technique       1.00      0.60      0.75         5\n",
            "            time       1.00      1.00      1.00         3\n",
            "          amount       1.00      1.00      1.00         3\n",
            "\n",
            "        accuracy                           0.93       123\n",
            "       macro avg       0.94      0.86      0.88       123\n",
            "    weighted avg       0.95      0.93      0.93       123\n",
            "\n"
          ]
        }
      ]
    },
    {
      "cell_type": "code",
      "source": [
        "# Berechnung Cohen's Kappa\n",
        "kappa = cohen_kappa_score(true_labels_level_1_wot, pred_labels_few_level_1, labels=labels_level_1)\n",
        "print(\"Cohen's Kappa:\", kappa)\n",
        "\n",
        "# Matthews Correlation Coefficient?!\n",
        "mcc = matthews_corrcoef(true_labels_level_1_wot, pred_labels_few_level_1)\n",
        "print(\"Matthews Correlation Coefficient:\", mcc)"
      ],
      "metadata": {
        "colab": {
          "base_uri": "https://localhost:8080/"
        },
        "outputId": "fba1635f-a6b7-44cd-da05-bc6b2867aad8",
        "id": "5jVYFp7nh7uB"
      },
      "execution_count": null,
      "outputs": [
        {
          "output_type": "stream",
          "name": "stdout",
          "text": [
            "Cohen's Kappa: 0.870376245162109\n",
            "Matthews Correlation Coefficient: 0.8725963681787758\n"
          ]
        }
      ]
    },
    {
      "cell_type": "markdown",
      "source": [
        "### Jetzt kompletter Datensatz"
      ],
      "metadata": {
        "id": "RDMHZhH9kqqZ"
      }
    },
    {
      "cell_type": "code",
      "source": [
        "turns = df_wot['turn'].tolist()\n",
        "roles = df_wot['role'].tolist()"
      ],
      "metadata": {
        "id": "wYe3c0LIRN2I"
      },
      "execution_count": null,
      "outputs": []
    },
    {
      "cell_type": "code",
      "source": [
        "# Permutation mit bestem f1\n",
        "best_permutation = results_permut_few_shots_df.loc[results_permut_few_shots_df['f1_score'].idxmax()]\n",
        "print(\"Beste Reihenfolge:\", best_permutation['permutation'])\n",
        "print(f\"Precision: {best_permutation['precision']:.3f}, Recall: {best_permutation['recall']:.3f}, F1-Score: {best_permutation['f1_score']:.3f}\")"
      ],
      "metadata": {
        "colab": {
          "base_uri": "https://localhost:8080/"
        },
        "id": "M8yYcuczlGkl",
        "outputId": "9044b620-04cf-4a60-b8b9-67a65ce5dee7"
      },
      "execution_count": null,
      "outputs": [
        {
          "output_type": "stream",
          "name": "stdout",
          "text": [
            "Beste Reihenfolge: ('equipment', 'time', 'instruction', 'miscellaneous', 'amount', 'preparation', 'material', 'manual technique', 'knowledge')\n",
            "Precision: 0.949, Recall: 0.935, F1-Score: 0.934\n"
          ]
        }
      ]
    },
    {
      "cell_type": "code",
      "source": [
        "# Anzahl der Turns\n",
        "turn_counts = df_wot['turn'].value_counts()\n",
        "print(turn_counts)"
      ],
      "metadata": {
        "colab": {
          "base_uri": "https://localhost:8080/"
        },
        "id": "YFDRxtjj7oDz",
        "outputId": "020eb37c-b791-4678-daa1-032c640d087b"
      },
      "execution_count": null,
      "outputs": [
        {
          "output_type": "stream",
          "name": "stdout",
          "text": [
            "turn\n",
            "Do you have any other questions?                                                                                                         4\n",
            "I have included information on next step.                                                                                                4\n",
            "What should I do next?                                                                                                                   3\n",
            "Oh okay, so what is my next step?                                                                                                        3\n",
            "What should I do after applying the paste?                                                                                               2\n",
            "                                                                                                                                        ..\n",
            "Next you'll learn about starting your seeds inside. I've shared the entire step for you so you'll know what to do next! Check it out.    1\n",
            "Gotcha!  I started my seeds inside.  What's the next step?                                                                               1\n",
            "Plant at the right time.                                                                                                                 1\n",
            "When would be a good time to plant?                                                                                                      1\n",
            "It will take between 60-80 days. Keep an eye on them!                                                                                    1\n",
            "Name: count, Length: 9787, dtype: int64\n"
          ]
        }
      ]
    },
    {
      "cell_type": "code",
      "source": [
        "# Anzahl turns student\n",
        "student_turns = df_wot[df_wot['role'] == 'student']['turn'].value_counts()\n",
        "print(student_turns)"
      ],
      "metadata": {
        "colab": {
          "base_uri": "https://localhost:8080/"
        },
        "id": "tj2e_Z1cFDN5",
        "outputId": "44e4dd30-da0d-4d9a-8fe9-e57ff691c5ae"
      },
      "execution_count": null,
      "outputs": [
        {
          "output_type": "stream",
          "name": "stdout",
          "text": [
            "turn\n",
            "Oh okay, so what is my next step?                                                                                             3\n",
            "What should I do next?                                                                                                        3\n",
            "Ask for what I can do next                                                                                                    2\n",
            "What should my next step be?                                                                                                  2\n",
            "How many times I need to water a plant                                                                                        2\n",
            "                                                                                                                             ..\n",
            "After the seeds have been dried, how should I begin planting them?                                                            1\n",
            "I have washed off all the soap on the seeds. What is next?                                                                    1\n",
            "Ok, I have soaked the seeds, can you clarify and explain what to do with the seeds after soaking for the hour you mention?    1\n",
            "Ok, the PH of the soil is 6.5, it seems right, what's next for my parsley patch?                                              1\n",
            "How long does onions take to fully grow before I can harvest it?                                                              1\n",
            "Name: count, Length: 4872, dtype: int64\n"
          ]
        }
      ]
    },
    {
      "cell_type": "code",
      "source": [
        "best_order_label = best_permutation['permutation']\n",
        "\n",
        "best_order_few_shot_examples = \"\\n\".join([f\" {row['turn']}\\n {label}\" for label in best_order_label for _, row in examples[label].iterrows()])\n",
        "\n",
        "# Platzhalter füllen\n",
        "prompt_level_1 = prompt_few_level_1.replace(\"{few_shot_examples}\", best_order_few_shot_examples)\n",
        "\n",
        "# turns von student/gelabelte turns werden in batches aufgeteilt -> nach jedem batch kurze Rückmeldung des Systems\n",
        "batch_size_student = 500\n",
        "# kompletter Datensatz wird in batches, also kleinere Teile, aufgeteilt\n",
        "batch_size = 1000\n",
        "# gelabelte turns sollen mitgezählt werden\n",
        "counter_turn = 0\n",
        "all_turns = len(turn_counts)\n",
        "\n",
        "# jetzt wieder Annotation\n",
        "pred_labels_level_1 = []\n",
        "\n",
        "for i in range(0, all_turns, batch_size):\n",
        "  batch_turns = turns[i:i + batch_size]\n",
        "  batch_roles = roles[i:i + batch_size]\n",
        "\n",
        "  for turn, role in zip(batch_turns, batch_roles):\n",
        "    if role == 'student':\n",
        "      label = annotate(client, model, prompt_level_1, turn)\n",
        "      if label:\n",
        "        #print(f\"Turn: {turn}\\nLabel: {label}\\n\")\n",
        "        pred_labels_level_1.append(label.lower())\n",
        "      else:\n",
        "        pred_labels_level_1.append(\"Fehler bei Anfrage\")\n",
        "\n",
        "      # Zähler erhöhen\n",
        "      counter_turn += 1\n",
        "\n",
        "      # bei jedem 500. gelabelten Turn\n",
        "      if counter_turn % batch_size_student == 0:\n",
        "        print(f\"{counter_turn} Turns gelabelt\")\n",
        "\n",
        "    else:\n",
        "      # turns von teacher überspringen, da diese nicht gelabelt werden; nur für Kontext da\n",
        "      continue\n",
        "\n",
        "# Sobald Annotation aller turns abgeschlossen\n",
        "print(f\"Alle {counter_turn} turns von student gelabelt\")"
      ],
      "metadata": {
        "colab": {
          "base_uri": "https://localhost:8080/"
        },
        "id": "QqmTpkjmkpr4",
        "outputId": "b9e94426-cce9-4f76-f373-5de14043596b"
      },
      "execution_count": null,
      "outputs": [
        {
          "output_type": "stream",
          "name": "stdout",
          "text": [
            "500 Turns gelabelt\n",
            "1000 Turns gelabelt\n",
            "1500 Turns gelabelt\n",
            "2000 Turns gelabelt\n",
            "2500 Turns gelabelt\n",
            "3000 Turns gelabelt\n",
            "3500 Turns gelabelt\n",
            "4000 Turns gelabelt\n",
            "4500 Turns gelabelt\n",
            "Alle 4887 turns von student gelabelt\n"
          ]
        }
      ]
    },
    {
      "cell_type": "code",
      "source": [
        "df_wot_st = df_wot[df_wot['role'] == 'student']\n",
        "df_wot_st = df_wot_st.copy()"
      ],
      "metadata": {
        "id": "Zzd18vtN0bp-"
      },
      "execution_count": null,
      "outputs": []
    },
    {
      "cell_type": "code",
      "source": [
        "# generierte Labels als neue Spalte zu df hinzufügen\n",
        "df_wot_st['pred_labels_level_1'] = pred_labels_level_1\n",
        "# nach 2,5 Stunden: 2823"
      ],
      "metadata": {
        "id": "jCaUKcB9k1Dl"
      },
      "execution_count": null,
      "outputs": []
    },
    {
      "cell_type": "code",
      "source": [
        "df_wot_st.to_excel('Wizard_of_Tasks_level_1.xlsx', index=False)"
      ],
      "metadata": {
        "id": "GfMMP7Gb1HSa"
      },
      "execution_count": null,
      "outputs": []
    },
    {
      "cell_type": "code",
      "source": [
        "# Anzahl der Label Level 1\n",
        "label_counts = df_wot_st['pred_labels_level_1'].value_counts()"
      ],
      "metadata": {
        "id": "-duQOHY44fEN"
      },
      "execution_count": null,
      "outputs": []
    },
    {
      "cell_type": "code",
      "source": [
        "# Verteilung der Labels LEvel 1\n",
        "bars = label_counts.plot(kind='bar')\n",
        "plt.title('Verteilung Label 1')\n",
        "plt.xlabel('Label')\n",
        "plt.ylabel('Anzahl')\n",
        "for c in bars.containers:\n",
        "  bars.bar_label(c, label_type='edge')\n",
        "\n",
        "plt.show()"
      ],
      "metadata": {
        "colab": {
          "base_uri": "https://localhost:8080/",
          "height": 667
        },
        "outputId": "65243d83-eb24-4b43-e0fe-c49bd85e0324",
        "id": "N771MgCo4fEf"
      },
      "execution_count": null,
      "outputs": [
        {
          "output_type": "display_data",
          "data": {
            "text/plain": [
              "<Figure size 640x480 with 1 Axes>"
            ],
            "image/png": "[encoded data removed]"
          },
          "metadata": {}
        }
      ]
    },
    {
      "cell_type": "markdown",
      "source": [
        "Da einige (sieben) Äußerungen leider mit zwei Kategorien gelabelt wurden, wurden diese manuell überprüft und das relevantere Informationsbedürfnis gewählt, damit der Datensatz einheitlich vorliegt und somit verarbeitet bzw. analysiert werden kann."
      ],
      "metadata": {
        "id": "29ETes9H0Mej"
      }
    }
  ]
}